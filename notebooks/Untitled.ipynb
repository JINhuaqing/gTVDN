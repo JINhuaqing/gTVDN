{
 "cells": [
  {
   "cell_type": "code",
   "execution_count": 1,
   "id": "2dba552d",
   "metadata": {
    "ExecuteTime": {
     "end_time": "2022-12-30T20:06:43.368565Z",
     "start_time": "2022-12-30T20:06:39.474050Z"
    }
   },
   "outputs": [],
   "source": [
    "from sklearn.manifold import SpectralEmbedding\n",
    "import numpy as np\n",
    "import matplotlib.pyplot as plt"
   ]
  },
  {
   "cell_type": "code",
   "execution_count": 2,
   "id": "ab1fda7f",
   "metadata": {
    "ExecuteTime": {
     "end_time": "2022-12-30T20:06:43.598761Z",
     "start_time": "2022-12-30T20:06:43.372516Z"
    }
   },
   "outputs": [],
   "source": [
    "import sys\n",
    "sys.path.append(\"../mypkg\")\n",
    "import importlib\n",
    "from utils.matrix import joint_diag_r, sorted_jd_result"
   ]
  },
  {
   "cell_type": "code",
   "execution_count": 3,
   "id": "257f4119",
   "metadata": {
    "ExecuteTime": {
     "end_time": "2022-12-30T20:06:43.648406Z",
     "start_time": "2022-12-30T20:06:43.611381Z"
    }
   },
   "outputs": [],
   "source": [
    "base_mat = np.random.randn(5, 10)\n",
    "base_mat = base_mat @ base_mat.T\n",
    "tt, V_gt = np.linalg.eig(base_mat)\n",
    "\n",
    "As = []\n",
    "for ix in range(20):\n",
    "    diag_mat = np.diag(np.sort(np.abs(np.random.randn(5)))[::-1])*10\n",
    "    mat = V_gt@ diag_mat @ V_gt.T\n",
    "    As.append(mat)\n",
    "    \n",
    "As = np.array(As)"
   ]
  },
  {
   "cell_type": "code",
   "execution_count": 6,
   "id": "d2bde621",
   "metadata": {
    "ExecuteTime": {
     "end_time": "2022-12-30T20:07:00.959180Z",
     "start_time": "2022-12-30T20:07:00.943460Z"
    }
   },
   "outputs": [],
   "source": [
    "base_mat = np.random.randn(5, 10)\n",
    "base_mat = base_mat @ base_mat.T\n",
    "tt, V_gt = np.linalg.eig(base_mat)\n",
    "\n",
    "As = []\n",
    "for ix in range(20):\n",
    "    diag_mat = np.diag(np.sort(np.abs(np.random.randn(5)))[::-1])*10\n",
    "    mat = V_gt@ diag_mat @ V_gt.T\n",
    "    As.append(mat)\n",
    "    \n",
    "As = np.array(As)\n",
    "V, Ds = joint_diag_r(As, 1e-10)\n",
    "V1, D1s = sorted_jd_result(V, Ds)"
   ]
  },
  {
   "cell_type": "code",
   "execution_count": 11,
   "id": "efc9700f",
   "metadata": {
    "ExecuteTime": {
     "end_time": "2022-12-30T20:07:39.374717Z",
     "start_time": "2022-12-30T20:07:39.344926Z"
    }
   },
   "outputs": [],
   "source": [
    "As = np.random.randn(20, 5, 5)\n",
    "\n",
    "V, Ds = joint_diag_r(As, 1e-10)\n",
    "V1, D1s = sorted_jd_result(V, Ds)"
   ]
  },
  {
   "cell_type": "code",
   "execution_count": null,
   "id": "2b67f890",
   "metadata": {},
   "outputs": [],
   "source": []
  }
 ],
 "metadata": {
  "kernelspec": {
   "display_name": "Python 3 (ipykernel)",
   "language": "python",
   "name": "python3"
  },
  "language_info": {
   "codemirror_mode": {
    "name": "ipython",
    "version": 3
   },
   "file_extension": ".py",
   "mimetype": "text/x-python",
   "name": "python",
   "nbconvert_exporter": "python",
   "pygments_lexer": "ipython3",
   "version": "3.9.7"
  },
  "toc": {
   "base_numbering": 1,
   "nav_menu": {},
   "number_sections": true,
   "sideBar": true,
   "skip_h1_title": false,
   "title_cell": "Table of Contents",
   "title_sidebar": "Contents",
   "toc_cell": false,
   "toc_position": {},
   "toc_section_display": true,
   "toc_window_display": true
  }
 },
 "nbformat": 4,
 "nbformat_minor": 5
}
