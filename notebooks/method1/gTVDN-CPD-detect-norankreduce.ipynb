{
 "cells": [
  {
   "cell_type": "markdown",
   "metadata": {},
   "source": [
    "In this file, we detect the switching pts without rank deduction. \n",
    "\n",
    "Here I do CPD such that both U and V are orthornormal"
   ]
  },
  {
   "cell_type": "code",
   "execution_count": 1,
   "metadata": {
    "ExecuteTime": {
     "end_time": "2022-11-04T03:10:36.514508Z",
     "start_time": "2022-11-04T03:10:34.804709Z"
    }
   },
   "outputs": [],
   "source": [
    "import numpy as np\n",
    "import scipy\n",
    "import matplotlib.pyplot as plt\n",
    "import seaborn as sns\n",
    "import pandas as pd\n",
    "import pickle\n",
    "\n",
    "from pathlib import Path\n",
    "from scipy.io import loadmat\n",
    "from tqdm import trange, tqdm\n",
    "from scipy.stats import ttest_ind\n",
    "from collections import defaultdict as ddict\n",
    "from easydict import EasyDict as edict\n",
    "\n",
    "%matplotlib inline"
   ]
  },
  {
   "cell_type": "code",
   "execution_count": 11,
   "metadata": {
    "ExecuteTime": {
     "end_time": "2022-11-04T03:11:33.753641Z",
     "start_time": "2022-11-04T03:11:33.737166Z"
    }
   },
   "outputs": [],
   "source": [
    "# import my own functions\n",
    "import sys\n",
    "sys.path.append(\"../../mypkg\")\n",
    "import importlib\n",
    "\n",
    "# paras\n",
    "import paras\n",
    "importlib.reload(paras);\n",
    "from paras import paras\n",
    "\n",
    "# some useful constants\n",
    "import constants\n",
    "importlib.reload(constants)\n",
    "from constants import REGION_NAMES, REGION_NAMES_WLOBE, RES_ROOT, DATA_ROOT"
   ]
  },
  {
   "cell_type": "code",
   "execution_count": 6,
   "metadata": {
    "ExecuteTime": {
     "end_time": "2022-11-04T03:11:08.039327Z",
     "start_time": "2022-11-04T03:11:08.025955Z"
    }
   },
   "outputs": [],
   "source": [
    "# gtvdn\n",
    "import gtvdn.gtvdn_post\n",
    "importlib.reload(gtvdn.gtvdn_post)\n",
    "from gtvdn.gtvdn_post import est_eigvals, update_kp\n",
    "\n",
    "import gtvdn.gtvdn_pre\n",
    "importlib.reload(gtvdn.gtvdn_pre)\n",
    "from gtvdn.gtvdn_pre import preprocess_MEG\n",
    "\n",
    "import gtvdn.gtvdn_utils\n",
    "importlib.reload(gtvdn.gtvdn_utils)\n",
    "from gtvdn.gtvdn_utils import get_bspline_est , get_newdata "
   ]
  },
  {
   "cell_type": "code",
   "execution_count": 8,
   "metadata": {
    "ExecuteTime": {
     "end_time": "2022-11-04T03:11:17.029618Z",
     "start_time": "2022-11-04T03:11:16.812085Z"
    }
   },
   "outputs": [],
   "source": [
    "# utils\n",
    "import utils.matrix\n",
    "importlib.reload(utils.matrix)\n",
    "from utils.matrix import eig_sorted\n",
    "\n",
    "import utils.misc\n",
    "importlib.reload(utils.misc)\n",
    "from utils.misc import paras2name, cumsum_cutoff, save_pkl, load_pkl\n",
    "\n",
    "import utils.projection\n",
    "importlib.reload(utils.projection)\n",
    "from utils.projection import euclidean_proj_l1ball\n",
    "\n",
    "import utils.standardize\n",
    "importlib.reload(utils.standardize)\n",
    "from utils.standardize import minmax, minmax_mat, minmax_pn\n",
    "\n",
    "import utils.tensor\n",
    "importlib.reload(utils.tensor)\n",
    "from utils.tensor import decompose_three_way_orth, decompose_three_way_fix, sort_orthCPD\n",
    "\n",
    "import utils.brain_plot\n",
    "importlib.reload(utils.brain_plot)\n",
    "from utils.brain_plot import reorder_U, U_2brain_vec"
   ]
  },
  {
   "cell_type": "markdown",
   "metadata": {},
   "source": [
    "## Set parameters"
   ]
  },
  {
   "cell_type": "code",
   "execution_count": 9,
   "metadata": {
    "ExecuteTime": {
     "end_time": "2022-11-04T03:11:18.717434Z",
     "start_time": "2022-11-04T03:11:18.711995Z"
    }
   },
   "outputs": [
    {
     "data": {
      "text/plain": [
       "dict_keys(['is_detrend', 'decimate_rate', 'T', 'lamb', 'fct', 'downsample_rate', 'r', 'Lmin', 'maxM', 'kappa', 'wh', 'kps', 'L', 'num_ranks', 'cutoff', 'Cs', 'penalty', 'data_dir', 'res_dir', 'fig_dir', 'cur_dir'])"
      ]
     },
     "execution_count": 9,
     "metadata": {},
     "output_type": "execute_result"
    }
   ],
   "source": [
    "# in case you want to update any parameters\n",
    "paras.keys()"
   ]
  },
  {
   "cell_type": "markdown",
   "metadata": {},
   "source": [
    "## Load data"
   ]
  },
  {
   "cell_type": "code",
   "execution_count": 12,
   "metadata": {
    "ExecuteTime": {
     "end_time": "2022-11-04T03:11:58.238038Z",
     "start_time": "2022-11-04T03:11:45.903149Z"
    }
   },
   "outputs": [],
   "source": [
    "datFil = list(DATA_ROOT.glob(\"70Ctrl*\"))[0]\n",
    "CtrlDat1 = loadmat(datFil)\n",
    "CtrlDats = CtrlDat1[\"dk10\"]"
   ]
  },
  {
   "cell_type": "code",
   "execution_count": 13,
   "metadata": {
    "ExecuteTime": {
     "end_time": "2022-11-04T03:12:18.888863Z",
     "start_time": "2022-11-04T03:12:04.130724Z"
    }
   },
   "outputs": [],
   "source": [
    "datFil = list(DATA_ROOT.glob(\"87AD*\"))[0]\n",
    "ADDat1 = loadmat(datFil)\n",
    "ADDats = ADDat1[\"dk10\"]"
   ]
  },
  {
   "cell_type": "code",
   "execution_count": 14,
   "metadata": {
    "ExecuteTime": {
     "end_time": "2022-11-04T03:12:19.207136Z",
     "start_time": "2022-11-04T03:12:18.894376Z"
    }
   },
   "outputs": [],
   "source": [
    "ADdatAdd = loadmat(DATA_ROOT/\"DK_timecourse.mat\")[\"DK_timecourse\"]"
   ]
  },
  {
   "cell_type": "code",
   "execution_count": 15,
   "metadata": {
    "ExecuteTime": {
     "end_time": "2022-11-04T03:12:24.870594Z",
     "start_time": "2022-11-04T03:12:19.211776Z"
    }
   },
   "outputs": [],
   "source": [
    "import mat73\n",
    "CtrldatAdd = mat73.loadmat(DATA_ROOT/\"timecourse_ucsfCONT_group.mat\")[\"dk10\"]"
   ]
  },
  {
   "cell_type": "code",
   "execution_count": 16,
   "metadata": {
    "ExecuteTime": {
     "end_time": "2022-11-04T03:12:24.903128Z",
     "start_time": "2022-11-04T03:12:24.873620Z"
    }
   },
   "outputs": [],
   "source": [
    "baseDF = pd.read_csv(DATA_ROOT/\"AllDataBaselineOrdered.csv\")\n",
    "CtrlKp = np.array(baseDF[baseDF[\"Grp\"]==\"Ctrl\"][\"KeepIt\"] == 1)"
   ]
  },
  {
   "cell_type": "code",
   "execution_count": 17,
   "metadata": {
    "ExecuteTime": {
     "end_time": "2022-11-04T03:12:32.804382Z",
     "start_time": "2022-11-04T03:12:27.493955Z"
    }
   },
   "outputs": [],
   "source": [
    "ADDatsAll = np.concatenate([ADDats, ADdatAdd[np.newaxis, :, :]], axis=0)\n",
    "CtrlDatsAll = np.concatenate([CtrlDats, CtrldatAdd], axis=0)\n",
    "CtrlDatsAll = CtrlDatsAll[CtrlKp]"
   ]
  },
  {
   "cell_type": "code",
   "execution_count": 23,
   "metadata": {
    "ExecuteTime": {
     "end_time": "2022-11-04T03:18:00.960628Z",
     "start_time": "2022-11-04T03:17:47.895282Z"
    }
   },
   "outputs": [
    {
     "name": "stdout",
     "output_type": "stream",
     "text": [
      "276.9328 1964.9369\n",
      "2392.0566 10322.05\n"
     ]
    }
   ],
   "source": [
    "print(np.median(np.abs(ADDatsAll)), np.median(np.abs(CtrlDatsAll)))\n",
    "print(np.mean(np.abs(ADDatsAll)), np.mean(np.abs(CtrlDatsAll)))"
   ]
  },
  {
   "cell_type": "code",
   "execution_count": 22,
   "metadata": {
    "ExecuteTime": {
     "end_time": "2022-11-04T03:13:32.490329Z",
     "start_time": "2022-11-04T03:13:27.916876Z"
    }
   },
   "outputs": [
    {
     "data": {
      "text/plain": [
       "1964.9369"
      ]
     },
     "execution_count": 22,
     "metadata": {},
     "output_type": "execute_result"
    }
   ],
   "source": []
  },
  {
   "cell_type": "code",
   "execution_count": null,
   "metadata": {},
   "outputs": [],
   "source": []
  },
  {
   "cell_type": "markdown",
   "metadata": {
    "heading_collapsed": true
   },
   "source": [
    "## Validate the function (No need, correct)"
   ]
  },
  {
   "cell_type": "code",
   "execution_count": 10,
   "metadata": {
    "hidden": true
   },
   "outputs": [],
   "source": [
    "from tqdm import trange\n",
    "from scipy.stats import multivariate_normal as mnorm\n",
    "\n",
    "\n",
    "# Function to obtain the sum of Ai matrix\n",
    "def GetAmatMul(dXmats, Xmats, timeSpan, downrate=1, fct=1):\n",
    "    \"\"\"\n",
    "    Input: \n",
    "        dXmats: The first derivative of Xmats, N x d x n matrix\n",
    "        Xmats: Xmat, N x d x n matrix\n",
    "        timeSpan: A list of time points with length n\n",
    "        downrate: The downrate factor, determine how many Ai matrix to be summed\n",
    "    Return:\n",
    "        A d x d matrix, it is sum of N x n/downrate  Ai matrix\n",
    "    \"\"\"\n",
    "    h = pybwnrd0(timeSpan)*fct\n",
    "    N, d, n = Xmats.shape\n",
    "    Amats = []\n",
    "    for ix in trange(N):\n",
    "        Amat = np.zeros((d, d))\n",
    "        Xmat, dXmat = Xmats[ix, :, :], dXmats[ix, :, :]\n",
    "        curAmat = np.zeros((d, d))\n",
    "        for s in timeSpan[::downrate]:\n",
    "            t_diff = timeSpan - s\n",
    "            kernels = 1/np.sqrt(2*np.pi) * np.exp(-t_diff**2/2/h**2) # normal_pdf(x/h)\n",
    "            kernelroot = kernels ** (1/2)\n",
    "            kerdXmat = kernelroot[:, np.newaxis] * (dXmat.T) # n x d\n",
    "            kerXmat = kernelroot[:, np.newaxis] * (Xmat.T) # n x d\n",
    "            M = kerXmat.T.dot(kerXmat)/n\n",
    "            XY = kerdXmat.T.dot(kerXmat)/n # it is Y\\trans x X , formula is Amat = Y\\trans X (X\\trans X)^{-1}\n",
    "            U, S, VT = np.linalg.svd(M)\n",
    "            # Num of singular values to keep\n",
    "            r = np.argmax(np.cumsum(S)/np.sum(S) >= 0.999) + 1 # For real data\n",
    "            invM = VT.T[:, :r].dot(np.diag(1/S[:r])).dot(U.T[:r, :]) # M is symmetric and PSD\n",
    "            curAmat = curAmat + XY.dot(invM)\n",
    "            Amat = Amat + curAmat\n",
    "        Amats.append(Amat)\n",
    "    return Amats\n",
    "\n",
    "def GetNewDataMul(dXmats, Xmats, Amats, rRaw, is_full=False):\n",
    "    \"\"\"\n",
    "    Input: \n",
    "        dXmats: The first derivative of Xmats, N x d x n matrix\n",
    "        Xmats: Xmat, N x d x n matrix\n",
    "        Amat: The A matrix to to eigendecomposition, d x d\n",
    "        rRaw:    The rank of A matrix\n",
    "              If r is decimal, the rank is the number of eigen values which account for 100r % of the total variance\n",
    "              If r is integer, the r in algorithm can be r + 1 if r breaks the conjugate eigval pairs. \n",
    "        is_full: Where return full outputs or not\n",
    "    Return: \n",
    "        nXmats, ndXmats, N x r x n \n",
    "    \"\"\"\n",
    "    N = len(Amats)\n",
    "    fullRess = []\n",
    "    for ix in trange(N):\n",
    "        r = rRaw\n",
    "        Amat = Amats[ix]\n",
    "        Xmat, dXmat = Xmats[ix],  dXmats[ix]\n",
    "        \n",
    "        eigVals, eigVecs = np.linalg.eig(Amat)\n",
    "        # sort the eigvs and eigvecs\n",
    "        sidx = np.argsort(-np.abs(eigVals))\n",
    "        eigVals = eigVals[sidx]\n",
    "        eigVecs = eigVecs[:, sidx]\n",
    "        if r is None:\n",
    "            rSel = np.where(np.cumsum(np.abs(eigVals))/np.sum(np.abs(eigVals)) >0.8)[0][0] + 1\n",
    "            r = rSel\n",
    "        elif r < 1:\n",
    "            rSel = np.where(np.cumsum(np.abs(eigVals))/np.sum(np.abs(eigVals)) >r)[0][0] + 1\n",
    "            r = rSel\n",
    "            \n",
    "        # if breaking conjugate eigval pair, add r with 1\n",
    "        if (eigVals[r-1].imag + eigVals[r].imag ) == 0:\n",
    "            r = r + 1\n",
    "    \n",
    "        eigValsfull = np.concatenate([[np.Inf], eigVals])\n",
    "        kpidxs = np.where(np.diff(np.abs(eigValsfull))[:r] != 0)[0]\n",
    "        eigVecsInv = np.linalg.inv(eigVecs)\n",
    "        \n",
    "        tXmat =  np.matmul(eigVecsInv[kpidxs, :], Xmat)\n",
    "        tdXmat =  np.matmul(eigVecsInv[kpidxs, :], dXmat)\n",
    "        nrow, n = tXmat.shape\n",
    "        nXmat = np.zeros((r, n))\n",
    "        ndXmat = np.zeros((r, n))\n",
    "        # Now I change to real first, then imag\n",
    "        # Note that for real eigval, we do not need imag part.\n",
    "        nXmat[:nrow, :] = tXmat.real\n",
    "        nXmat[nrow:, :] =  tXmat.imag[(np.abs(eigVals.imag)!=0)[kpidxs], :]\n",
    "        ndXmat[:nrow, :] = tdXmat.real\n",
    "        ndXmat[nrow:, :] =  tdXmat.imag[(np.abs(eigVals.imag)!=0)[kpidxs], :]\n",
    "        fullRes = edict({\"ndXmat\":ndXmat, \"nXmat\":nXmat, \"kpidxs\":kpidxs, \"eigVecs\":eigVecs, \"eigVals\":eigVals, \"r\": r})\n",
    "        fullRess.append(fullRes)\n",
    "    return fullRess\n",
    "def ScreeningMul(Ress, wh=10, showProgress=True):\n",
    "    \"\"\"\n",
    "    Input:\n",
    "        wh: screening window size\n",
    "    \"\"\"\n",
    "    # Get the scanning stats at index k\n",
    "    def GetScanStats(k, wh):\n",
    "        lidx = k - wh + 1\n",
    "        uidx = k + wh + 1\n",
    "\n",
    "        pndXmatA = ndXmat[:, lidx:uidx]\n",
    "        pnXmatA = nXmat[:, lidx:uidx]\n",
    "        GamkA = GetGammak(pndXmatA, pnXmatA)\n",
    "        nlogA = GetNlogk(pndXmatA, pnXmatA, GamkA)\n",
    "\n",
    "        pndXmatL = ndXmat[:, lidx:(k+1)]\n",
    "        pnXmatL = nXmat[:, lidx:(k+1)]\n",
    "        GamkL = GetGammak(pndXmatL, pnXmatL)\n",
    "        nlogL = GetNlogk(pndXmatL, pnXmatL, GamkL)\n",
    "\n",
    "        pndXmatR = ndXmat[:, (k+1):uidx]\n",
    "        pnXmatR = nXmat[:, (k+1):uidx]\n",
    "        GamkR = GetGammak(pndXmatR, pnXmatR)\n",
    "        nlogR = GetNlogk(pndXmatR, pnXmatR, GamkR)\n",
    "\n",
    "        return nlogR + nlogL - nlogA\n",
    "\n",
    "    N = len(Ress)\n",
    "    _, n = Ress[0].ndXmat.shape\n",
    "    canptss = []\n",
    "    if showProgress:\n",
    "        iterBar = trange(N, desc=\"Screening\")\n",
    "    else:\n",
    "        iterBar = range(N)\n",
    "    for ix in iterBar:\n",
    "        ndXmat, nXmat = Ress[ix].ndXmat, Ress[ix].nXmat\n",
    "        scanStats = []\n",
    "        for iy in range(n):\n",
    "            if iy < (wh-1):\n",
    "                scanStats.append(np.inf)\n",
    "            elif iy >= (n-wh):\n",
    "                scanStats.append(np.inf)\n",
    "            else:\n",
    "                scanStats.append(GetScanStats(iy, wh))\n",
    "\n",
    "        canpts = []\n",
    "        for idx, scanStat in enumerate(scanStats):\n",
    "            if (idx >= (wh-1)) and (idx < (n-wh)):\n",
    "                lidx = idx - wh + 1\n",
    "                uidx = idx + wh + 1\n",
    "                if scanStat == np.min(scanStats[lidx:uidx]):\n",
    "                    canpts.append(idx) # the change point is from 0 not 1\n",
    "\n",
    "        canptss.append(canpts)\n",
    "    return canptss"
   ]
  },
  {
   "cell_type": "code",
   "execution_count": 20,
   "metadata": {
    "hidden": true
   },
   "outputs": [],
   "source": [
    "YmatCtrl = prepMEG(CtrlDatsAll[:], paras)\n",
    "YmatAD = prepMEG(ADDatsAll[:], paras)"
   ]
  },
  {
   "cell_type": "code",
   "execution_count": 21,
   "metadata": {
    "hidden": true
   },
   "outputs": [
    {
     "name": "stderr",
     "output_type": "stream",
     "text": [
      "100%|█████████████████████████████████████████████████████████████████████████████████████████████████| 88/88 [00:38<00:00,  2.29it/s]\n",
      "100%|█████████████████████████████████████████████████████████████████████████████████████████████████| 88/88 [00:38<00:00,  2.28it/s]\n"
     ]
    }
   ],
   "source": [
    "timeSpan = np.linspace(0, paras.T, YmatAD.shape[-1])\n",
    "\n",
    "dXmatsAD, XmatsAD = GetBsplineEst(YmatAD, timeSpan, paras.lamb)\n",
    "dXmatsCtrl, XmatsCtrl = GetBsplineEst(YmatCtrl, timeSpan, paras.lamb)"
   ]
  },
  {
   "cell_type": "code",
   "execution_count": null,
   "metadata": {
    "hidden": true
   },
   "outputs": [],
   "source": [
    "AmatCtrls = GetAmatMul(dXmatsCtrl, XmatsCtrl, timeSpan, downrate=paras.downRate, fct=paras.fct)\n",
    "AmatADs = GetAmatMul(dXmatsAD, XmatsAD, timeSpan, downrate=paras.downRate, fct=paras.fct)"
   ]
  },
  {
   "cell_type": "code",
   "execution_count": 68,
   "metadata": {
    "hidden": true
   },
   "outputs": [
    {
     "name": "stderr",
     "output_type": "stream",
     "text": [
      "100%|████████████████████████████████████████████████████████████████████████████████████████████████| 88/88 [00:00<00:00, 134.14it/s]\n",
      "100%|████████████████████████████████████████████████████████████████████████████████████████████████| 88/88 [00:00<00:00, 149.31it/s]\n"
     ]
    }
   ],
   "source": [
    "ResCtrls = GetNewDataMul(dXmatsCtrl, XmatsCtrl, AmatCtrls, paras.r, True)\n",
    "ResADs = GetNewDataMul(dXmatsAD, XmatsAD, AmatADs, paras.r, True)"
   ]
  },
  {
   "cell_type": "code",
   "execution_count": 80,
   "metadata": {
    "hidden": true
   },
   "outputs": [
    {
     "name": "stdout",
     "output_type": "stream",
     "text": [
      "Ttest_indResult(statistic=3.198483968472748, pvalue=0.001641636770352705)\n"
     ]
    },
    {
     "data": {
      "text/plain": [
       "array([6.63636364, 5.03409091])"
      ]
     },
     "execution_count": 80,
     "metadata": {},
     "output_type": "execute_result"
    }
   ],
   "source": [
    "rksADs = [ix.ndXmat.shape[0] for ix in ResADs]\n",
    "rksCtrls = [ix.ndXmat.shape[0] for ix in ResCtrls]\n",
    "print(ttest_ind(rksADs, rksCtrls))\n",
    "np.mean([rksADs, rksCtrls], axis=1)"
   ]
  },
  {
   "cell_type": "code",
   "execution_count": 81,
   "metadata": {
    "hidden": true
   },
   "outputs": [
    {
     "name": "stderr",
     "output_type": "stream",
     "text": [
      "Screening: 100%|██████████████████████████████████████████████████████████████████████████████████████| 88/88 [10:48<00:00,  7.36s/it]\n",
      "Screening: 100%|██████████████████████████████████████████████████████████████████████████████████████| 88/88 [09:21<00:00,  6.38s/it]\n"
     ]
    }
   ],
   "source": [
    "canptssADs = ScreeningMul(ResADs, wh=paras.wh, showProgress=True)\n",
    "canptssCtrls = ScreeningMul(ResCtrls, wh=paras.wh, showProgress=True)"
   ]
  },
  {
   "cell_type": "code",
   "execution_count": 82,
   "metadata": {
    "hidden": true
   },
   "outputs": [
    {
     "name": "stderr",
     "output_type": "stream",
     "text": [
      "100%|█████████████████████████████████████████████████████████████████████████████████████████████████| 88/88 [21:43<00:00, 14.81s/it]\n"
     ]
    }
   ],
   "source": [
    "detRessADs = []\n",
    "for ix in trange(len(canptssADs)):\n",
    "    res = EGenDy(ResADs[ix].ndXmat, ResADs[ix].nXmat, paras.kappa, Lmin=paras.Lmin, \n",
    "          canpts=canptssADs[ix], MaxM=paras.MaxM, is_full=True, \n",
    "          showProgress=False)\n",
    "    detRessADs.append(res)"
   ]
  },
  {
   "cell_type": "code",
   "execution_count": 83,
   "metadata": {
    "hidden": true
   },
   "outputs": [
    {
     "name": "stderr",
     "output_type": "stream",
     "text": [
      "100%|█████████████████████████████████████████████████████████████████████████████████████████████████| 88/88 [17:07<00:00, 11.67s/it]\n"
     ]
    }
   ],
   "source": [
    "detRessCtrls = []\n",
    "for ix in trange(len(canptssCtrls)):\n",
    "    res = EGenDy(ResCtrls[ix].ndXmat, ResCtrls[ix].nXmat, paras.kappa, Lmin=paras.Lmin, \n",
    "          canpts=canptssCtrls[ix], MaxM=paras.MaxM, is_full=True, \n",
    "          showProgress=False)\n",
    "    detRessCtrls.append(res)"
   ]
  },
  {
   "cell_type": "code",
   "execution_count": 136,
   "metadata": {
    "hidden": true
   },
   "outputs": [
    {
     "name": "stdout",
     "output_type": "stream",
     "text": [
      "2.272727272727273 3.477272727272727\n",
      "Ttest_indResult(statistic=-2.846037666078681, pvalue=0.004960823967004037)\n"
     ]
    },
    {
     "data": {
      "text/plain": [
       "<matplotlib.legend.Legend at 0x7f225c1edfd0>"
      ]
     },
     "execution_count": 136,
     "metadata": {},
     "output_type": "execute_result"
    },
    {
     "data": {
      "image/png": "[encoded data removed]",
      "text/plain": [
       "<Figure size 432x288 with 1 Axes>"
      ]
     },
     "metadata": {
      "needs_background": "light"
     },
     "output_type": "display_data"
    }
   ],
   "source": [
    "curKp = 2.83\n",
    "_, n = ResCtrls[0].ndXmat.shape\n",
    "ecptssCtrls = np.array([UpdateKp(curKp, detRessCtrls[ix].U0, n, ResCtrls[ix].ndXmat.shape[0], paras) for ix in range(len(detRessCtrls))])\n",
    "_, n = ResADs[0].ndXmat.shape\n",
    "ecptssADs = np.array([UpdateKp(curKp, detRessADs[ix].U0, n, ResADs[ix].ndXmat.shape[0], paras) for ix in range(len(detRessADs))])\n",
    "print(np.mean(ecptssADs), np.mean(ecptssCtrls))\n",
    "print(ttest_ind(ecptssADs, ecptssCtrls, equal_var=False))\n",
    "\n",
    "plt.hist(ecptssCtrls, alpha=0.5, label=\"Ctrl\")\n",
    "plt.hist(ecptssADs, alpha=0.5, label=\"AD\")\n",
    "plt.legend()"
   ]
  },
  {
   "cell_type": "code",
   "execution_count": null,
   "metadata": {
    "hidden": true
   },
   "outputs": [],
   "source": []
  },
  {
   "cell_type": "markdown",
   "metadata": {},
   "source": [
    "## Run "
   ]
  },
  {
   "cell_type": "code",
   "execution_count": 24,
   "metadata": {
    "ExecuteTime": {
     "end_time": "2022-10-10T20:27:23.649081Z",
     "start_time": "2022-10-10T20:27:10.657495Z"
    }
   },
   "outputs": [],
   "source": [
    "Ymat_ctrl = preprocess_MEG(CtrlDatsAll[:], paras)\n",
    "Ymat_AD = preprocess_MEG(ADDatsAll[:], paras)"
   ]
  },
  {
   "cell_type": "code",
   "execution_count": null,
   "metadata": {
    "ExecuteTime": {
     "end_time": "2022-10-10T03:32:39.414693Z",
     "start_time": "2022-10-10T03:32:06.119352Z"
    }
   },
   "outputs": [],
   "source": [
    "time_span = np.linspace(0, paras.T, Ymat_AD.shape[-1])\n",
    "\n",
    "dXmats_AD, Xmats_AD = get_bspline_est(Ymat_AD, time_span, paras.lamb)\n",
    "dXmats_ctrl, Xmats_ctrl = get_bspline_est(Ymat_ctrl, time_span, paras.lamb)\n",
    "\n",
    "plt.figure(figsize=[10, 5])\n",
    "plt.subplot(121)\n",
    "for ix in range(68):\n",
    "    plt.plot(Xmats_AD[0, ix, :])\n",
    "plt.subplot(122)\n",
    "for ix in range(68):\n",
    "    plt.plot(Xmats_ctrl[0, ix, :])"
   ]
  },
  {
   "cell_type": "markdown",
   "metadata": {},
   "source": [
    "### CP decomposition"
   ]
  },
  {
   "cell_type": "code",
   "execution_count": null,
   "metadata": {
    "ExecuteTime": {
     "end_time": "2022-10-10T03:32:59.373842Z",
     "start_time": "2022-10-10T03:32:59.354065Z"
    }
   },
   "outputs": [],
   "source": [
    "Amat_ctrls_lowrank = get_Amats(dXmats_ctrl[:], Xmats_ctrl[:], time_span, downrate=paras.downsample_rate, \n",
    "                              fct=paras.fct, nRks=paras.num_ranks, is_sum=True)"
   ]
  },
  {
   "cell_type": "code",
   "execution_count": null,
   "metadata": {
    "ExecuteTime": {
     "end_time": "2022-10-10T03:36:45.260902Z",
     "start_time": "2022-10-10T03:36:03.733762Z"
    }
   },
   "outputs": [],
   "source": [
    "Amat_ADs_lowrank = get_Amats(dXmats_AD[:], Xmats_AD[:], time_span, downrate=paras.downsample_rate, \n",
    "                            fct=paras.fct, nRks=paras.num_ranks, is_sum=True)"
   ]
  },
  {
   "cell_type": "code",
   "execution_count": null,
   "metadata": {
    "code_folding": []
   },
   "outputs": [],
   "source": [
    "# rank-R decomposition\n",
    "tensors_ctrl = np.transpose(np.array(Amat_ctrls_lowrank), (1, 2, 0))\n",
    "tensors_AD = np.transpose(np.array(Amat_ADs_lowrank), (1, 2, 0))\n",
    "\n",
    "# the initial value \n",
    "Amat_ctrl_lowrank = np.sum(Amat_ctrls_lowrank, axis=0)\n",
    "U, _, VT = np.linalg.svd(Amat_ctrl_lowrank)\n",
    "ctrl_CPD_init = [U[:, :paras.r], VT.T[:, :paras.r]]\n",
    "\n",
    "CPDresult_ctrl = sort_orthCPD(decompose_three_way_orth(tensors_ctrl, paras.r, init=ctrl_CPD_init))\n",
    "CPDresult_AD = decompose_three_way_fix(tensors_AD, init=[CPDresult_ctrl[0], CPDresult_ctrl[1]])\n"
   ]
  },
  {
   "cell_type": "code",
   "execution_count": 41,
   "metadata": {},
   "outputs": [],
   "source": [
    "names =[\"AD\", \"ctrl\"]\n",
    "CPDress = edict()\n",
    "CPDress[\"AD\"]= CPDresult_AD\n",
    "CPDress[\"ctrl\"]= CPDresult_ctrl"
   ]
  },
  {
   "cell_type": "code",
   "execution_count": null,
   "metadata": {},
   "outputs": [],
   "source": []
  },
  {
   "cell_type": "markdown",
   "metadata": {},
   "source": [
    "#### CPD factors"
   ]
  },
  {
   "cell_type": "code",
   "execution_count": 46,
   "metadata": {},
   "outputs": [],
   "source": [
    "orgFn = lambda x: np.abs(x)\n",
    "mmFn = lambda x: minmax_mat(np.abs(x), is_row)\n",
    "cutFn = lambda x: minmax_mat(np.abs(x), is_row)>cutoff\n",
    "def heat_plot(idx, curFn):\n",
    "    plt.figure(figsize=[20, 10])\n",
    "    for ix, nam in enumerate(names):\n",
    "        plt.subplot(1, 2, ix+1)\n",
    "        curRes = CPDress[nam]\n",
    "        sns.heatmap(curFn(curRes[idx]))\n",
    "        plt.title(nam)"
   ]
  },
  {
   "cell_type": "code",
   "execution_count": 47,
   "metadata": {},
   "outputs": [
    {
     "data": {
      "image/png": "[encoded data removed]",
      "text/plain": [
       "<Figure size 1440x720 with 4 Axes>"
      ]
     },
     "metadata": {
      "needs_background": "light"
     },
     "output_type": "display_data"
    }
   ],
   "source": [
    "cutoff = 0.5\n",
    "is_row = True\n",
    "heat_plot(2, mmFn)\n",
    "#heatPlotFn(2, mmFn)"
   ]
  },
  {
   "cell_type": "code",
   "execution_count": 48,
   "metadata": {},
   "outputs": [
    {
     "data": {
      "text/plain": [
       "<matplotlib.legend.Legend at 0x7fce5622c130>"
      ]
     },
     "execution_count": 48,
     "metadata": {},
     "output_type": "execute_result"
    },
    {
     "data": {
      "image/png": "[encoded data removed]",
      "text/plain": [
       "<Figure size 720x360 with 2 Axes>"
      ]
     },
     "metadata": {
      "needs_background": "light"
     },
     "output_type": "display_data"
    }
   ],
   "source": [
    "cutoff = 0.5\n",
    "rksAD = cutFn(CPDress[\"AD\"][-1]).sum(axis=1)\n",
    "rksCtrl = cutFn(CPDress[\"ctrl\"][-1]).sum(axis=1)\n",
    "plt.figure(figsize=[10, 5])\n",
    "plt.subplot(121)\n",
    "_ = plt.boxplot([rksAD, rksCtrl], showfliers=False)\n",
    "pval = ttest_ind(rksAD, rksCtrl, equal_var=False).pvalue\n",
    "plt.xticks([1, 2], [\"AD\", \"Ctrl\"])\n",
    "plt.title(f\"Ranks: {np.mean(rksAD):.2f} vs {np.mean(rksCtrl):.2f} (Pvalue: {pval:.3f})\")\n",
    "\n",
    "plt.subplot(122)\n",
    "plt.hist(rksAD, alpha=0.5, label=\"AD\")\n",
    "plt.hist(rksCtrl, alpha=0.5, label=\"Ctrl\")\n",
    "plt.legend()"
   ]
  },
  {
   "cell_type": "code",
   "execution_count": null,
   "metadata": {},
   "outputs": [],
   "source": []
  },
  {
   "cell_type": "markdown",
   "metadata": {},
   "source": [
    "#### corrs with 7 networks"
   ]
  },
  {
   "cell_type": "code",
   "execution_count": 49,
   "metadata": {},
   "outputs": [],
   "source": [
    "import pandas as pd\n",
    "from scipy.stats import pearsonr\n",
    "import seaborn as sns\n",
    "\n",
    "defNetsFil = list(dataDir.glob(\"DK_dic68.csv\"))[0]\n",
    "defNets = pd.read_csv(defNetsFil).T\n",
    "\n",
    "mmDefNets = {}\n",
    "for ix in range(defNets.shape[-1]):\n",
    "    curCol = defNets[ix]\n",
    "    mmDefNets[curCol[0]] = minmax(np.array(curCol[1:]))\n",
    "kysOrd = sorted(mmDefNets.keys())"
   ]
  },
  {
   "cell_type": "code",
   "execution_count": 50,
   "metadata": {},
   "outputs": [],
   "source": [
    "idx = 0\n",
    "corrMats = edict()\n",
    "for ix, nam in enumerate(names):\n",
    "    curRes = CPDress[nam]\n",
    "    curUs = np.abs(curRes[idx])\n",
    "    corrMat = np.zeros((7, curUs.shape[-1]))\n",
    "    for iy in range(curUs.shape[-1]):\n",
    "        curU = minmax(curUs[:, iy])\n",
    "        for iz, kz in enumerate(kysOrd):\n",
    "            curV = mmDefNets[kz]\n",
    "            corrMat[iz, iy] = pearsonr(curU, curV)[0]\n",
    "    corrMats[nam] = corrMat"
   ]
  },
  {
   "cell_type": "code",
   "execution_count": 51,
   "metadata": {},
   "outputs": [],
   "source": [
    "def corr_plot():\n",
    "    plt.figure(figsize=[15, 10])\n",
    "    for ix, nam in enumerate(names):\n",
    "        plt.subplot(2, 1, ix+1)\n",
    "        curMat= corrMats[nam]\n",
    "        sns.heatmap(curMat,  yticklabels=kysOrd, cmap=\"coolwarm\", center=0, vmin=-1, vmax=1, annot=np.round(curMat, 2))\n",
    "        plt.title(nam)"
   ]
  },
  {
   "cell_type": "code",
   "execution_count": 52,
   "metadata": {},
   "outputs": [
    {
     "data": {
      "image/png": "[encoded data removed]",
      "text/plain": [
       "<Figure size 1080x720 with 4 Axes>"
      ]
     },
     "metadata": {
      "needs_background": "light"
     },
     "output_type": "display_data"
    }
   ],
   "source": [
    "corr_plot()"
   ]
  },
  {
   "cell_type": "markdown",
   "metadata": {},
   "source": [
    "### Reduce the dim of the data"
   ]
  },
  {
   "cell_type": "code",
   "execution_count": 35,
   "metadata": {},
   "outputs": [],
   "source": [
    "B1 = CPDresult_ctrl[0]\n",
    "B2 = CPDresult_ctrl[1]"
   ]
  },
  {
   "cell_type": "code",
   "execution_count": 63,
   "metadata": {},
   "outputs": [],
   "source": [
    "ndXmats_ctrl =  np.matmul(B1.T[np.newaxis, :, :], dXmats_ctrl)\n",
    "nXmats_ctrl =  np.matmul(B2.T[np.newaxis, :, :], Xmats_ctrl)\n",
    "ndXmats_AD =  np.matmul(B1.T[np.newaxis, :, :], dXmats_AD)\n",
    "nXmats_AD =  np.matmul(B2.T[np.newaxis, :, :], Xmats_AD)\n"
   ]
  },
  {
   "cell_type": "markdown",
   "metadata": {},
   "source": [
    "### Screening"
   ]
  },
  {
   "cell_type": "code",
   "execution_count": 68,
   "metadata": {
    "code_folding": [
     1
    ]
   },
   "outputs": [],
   "source": [
    "# Function to calculate the  Gamma_k matrix during dynamic programming for CP Decomposition\n",
    "def get_gammak_4CPD(Ycur, Xcur):\n",
    "    \"\"\"\n",
    "    Input: \n",
    "        Ycur: part of ndXmat, r x (j-i)\n",
    "        Xcur: part of nXmat, r x (j-i)\n",
    "    Return:\n",
    "        Gamma matrix, r x r\n",
    "    \"\"\"\n",
    "    r = Ycur.shape[0]\n",
    "    GamMat = np.zeros((r, r))\n",
    "    for ix in range(r):\n",
    "        rY, rX = Ycur[ix, :], Xcur[ix, :]\n",
    "        GamMat[ix, ix] = (rY.dot(rX))/(rX.dot(rX))\n",
    "    return GamMat"
   ]
  },
  {
   "cell_type": "code",
   "execution_count": 71,
   "metadata": {
    "code_folding": [
     0
    ]
   },
   "outputs": [],
   "source": [
    "def screening_4CPD(ndXmats, nXmats, wh=10, showProgress=True):\n",
    "    \"\"\"\n",
    "    Input:\n",
    "        wh: screening window size\n",
    "    \"\"\"\n",
    "    # Get the scanning stats at index k\n",
    "    def _get_scan_stats(k, wh):\n",
    "        lidx = k - wh + 1\n",
    "        uidx = k + wh + 1\n",
    "\n",
    "        pndXmatA = ndXmat[:, lidx:uidx]\n",
    "        pnXmatA = nXmat[:, lidx:uidx]\n",
    "        GamkA = get_gammak_4CPD(pndXmatA, pnXmatA)\n",
    "        nlogA = get_Nlogk(pndXmatA, pnXmatA, GamkA)\n",
    "\n",
    "        pndXmatL = ndXmat[:, lidx:(k+1)]\n",
    "        pnXmatL = nXmat[:, lidx:(k+1)]\n",
    "        GamkL = get_gammak_4CPD(pndXmatL, pnXmatL)\n",
    "        nlogL = get_Nlogk(pndXmatL, pnXmatL, GamkL)\n",
    "\n",
    "        pndXmatR = ndXmat[:, (k+1):uidx]\n",
    "        pnXmatR = nXmat[:, (k+1):uidx]\n",
    "        GamkR = get_gammak_4CPD(pndXmatR, pnXmatR)\n",
    "        nlogR = get_Nlogk(pndXmatR, pnXmatR, GamkR)\n",
    "\n",
    "        return nlogR + nlogL - nlogA\n",
    "\n",
    "    N, rAct, n = ndXmats.shape\n",
    "    canptss = []\n",
    "    if showProgress:\n",
    "        iterBar = trange(N, desc=\"Screening\")\n",
    "    else:\n",
    "        iterBar = range(N)\n",
    "    for ix in iterBar:\n",
    "        ndXmat, nXmat = ndXmats[ix, :, :], nXmats[ix, :, :]\n",
    "        scanStats = []\n",
    "        for iy in range(n):\n",
    "            if iy < (wh-1):\n",
    "                scanStats.append(np.inf)\n",
    "            elif iy >= (n-wh):\n",
    "                scanStats.append(np.inf)\n",
    "            else:\n",
    "                scanStats.append(_get_scan_stats(iy, wh))\n",
    "\n",
    "        canpts = []\n",
    "        for idx, scanStat in enumerate(scanStats):\n",
    "            if (idx >= (wh-1)) and (idx < (n-wh)):\n",
    "                lidx = idx - wh + 1\n",
    "                uidx = idx + wh + 1\n",
    "                if scanStat == np.min(scanStats[lidx:uidx]):\n",
    "                    canpts.append(idx) # the change point is from 0 not 1\n",
    "\n",
    "        canptss.append(canpts)\n",
    "    return canptss"
   ]
  },
  {
   "cell_type": "code",
   "execution_count": 76,
   "metadata": {},
   "outputs": [
    {
     "name": "stderr",
     "output_type": "stream",
     "text": [
      "Screening: 100%|██████████████████████████████████████████████████████████████████████████████████████| 88/88 [10:29<00:00,  7.15s/it]\n",
      "Screening: 100%|██████████████████████████████████████████████████████████████████████████████████████| 88/88 [10:38<00:00,  7.26s/it]\n"
     ]
    }
   ],
   "source": [
    "candidate_pts_ctrls = screening_4CPD(ndXmats_ctrl, nXmats_ctrl, wh=paras.wh)\n",
    "candidate_pts_ADs = screening_4CPD(ndXmats_AD, nXmats_AD, wh=paras.wh)"
   ]
  },
  {
   "cell_type": "markdown",
   "metadata": {
    "heading_collapsed": true
   },
   "source": [
    "### Detection"
   ]
  },
  {
   "cell_type": "code",
   "execution_count": 80,
   "metadata": {
    "hidden": true
   },
   "outputs": [],
   "source": [
    "# Effcient dynamic programming to optimize the MBIC, \n",
    "def dyna_prog_4CPD(ndXmat, nXmat, kappa, Lmin=None, canpts=None, maxM=None, is_full=False, Ms=None, showProgress=True):\n",
    "    \"\"\"\n",
    "    Input:\n",
    "    ndXmat: array, r x n. n is length of sequence. \n",
    "    nXmat: array, r x n. n is length of sequence. \n",
    "    kappa: The parameter of penalty\n",
    "    Lmin: The minimal length between 2 change points\n",
    "    canpts: candidate point set. list or array,  index should be from 1\n",
    "    maxM: int, maximal number of change point \n",
    "    Ms: the list containing prespecified number of change points.\n",
    "       When Ms=None, it means using MBIC to determine the number of change points\n",
    "    is_full: Where return full outputs or not\n",
    "    Return:\n",
    "        change point set with index starting from 1\n",
    "        chgMat: A matrix containing the change points for each number of change point\n",
    "        U0: MBIC without penalty\n",
    "        U:  MBIC  for each number of change point\n",
    "    \"\"\"\n",
    "    def _nloglk(i, j):\n",
    "        length = j - i + 1\n",
    "        pndXmat = ndXmat[:, i:(j+1)]\n",
    "        pnXmat = nXmat[:, i:(j+1)]\n",
    "        Gamk = get_gammak_4CPD(pndXmat, pnXmat)\n",
    "        if length >= Lmin:\n",
    "            return get_Nlogk(pndXmat, pnXmat, Gamk)\n",
    "        else:\n",
    "            return decon \n",
    "\n",
    "    r, n = nXmat.shape\n",
    "    if Lmin is None:\n",
    "        Lmin = r\n",
    "        \n",
    "    decon = np.inf\n",
    "\n",
    "    if Ms is not None:\n",
    "        Ms = sorted(Ms)\n",
    "    if canpts is None:\n",
    "        canpts = np.arange(n-1)\n",
    "    else:\n",
    "        canpts = np.array(canpts)\n",
    "    M0 = len(canpts) # number of change point in candidate point set\n",
    "\n",
    "    if (maxM is None) or (maxM>M0):\n",
    "        maxM = M0 \n",
    "    if not (Ms is None or len(Ms)==0):\n",
    "        maxM = Ms[-1] if Ms[-1]>=maxM else maxM\n",
    "    canpts_full = np.concatenate(([-1], canpts, [n-1]))\n",
    "    canpts_full2 = canpts_full[1:]\n",
    "    canpts_full1 = canpts_full[:-1] + 1 # small\n",
    "\n",
    "    Hmat = np.zeros((M0+1, M0+1)) + decon\n",
    "\n",
    "    # create a matrix \n",
    "    if showProgress:\n",
    "        proBar = trange(M0+1, desc=\"Dynamic Programming\")\n",
    "    else:\n",
    "        proBar = range(M0+1)\n",
    "    for ix in proBar:\n",
    "        for jx in range(ix, M0+1):\n",
    "            iidx, jjdx = canpts_full1[ix],  canpts_full2[jx]\n",
    "            Hmat[ix, jx]  = _nloglk(iidx, jjdx)\n",
    "\n",
    "    # vector contains results for each number of change point\n",
    "    U = np.zeros(maxM+1) \n",
    "    U[0] = Hmat[0, -1]\n",
    "    D = Hmat[:, -1]\n",
    "    # contain the location of candidate points  (in python idx)\n",
    "    Pos = np.zeros((M0+1, maxM)) + decon\n",
    "    Pos[M0, :] = np.ones(maxM) * M0\n",
    "    tau_mat = np.zeros((maxM, maxM)) + decon\n",
    "    for k in range(maxM):\n",
    "        for j in range(M0): # n = M0 + 1\n",
    "            dist = Hmat[j, j:-1] + D[(j+1):]\n",
    "            #print(dist)\n",
    "            D[j] = np.min(dist)\n",
    "            Pos[j, 0] = np.argmin(dist) + j + 1\n",
    "            if k > 0:\n",
    "                Pos[j, 1:(k+1)] = Pos[int(Pos[j, 0]), 0:k]\n",
    "        U[k+1] = D[0]\n",
    "        tau_mat[k, 0:(k+1)] = Pos[0, 0:(k+1)] - 1\n",
    "    U0 = U \n",
    "    U = U + 2*r*np.log(n)**kappa* (np.arange(1, maxM+2))\n",
    "    chgMat = np.zeros(tau_mat.shape) + np.inf\n",
    "    for iii in range(chgMat.shape[0]):\n",
    "        idx = tau_mat[iii,: ]\n",
    "        idx = np.array(idx[idx<np.inf], dtype=int)\n",
    "        chgMat[iii, :(iii+1)]= np.array(canpts)[idx] + 1 \n",
    "    \n",
    "    mbic_numchg = np.argmin(U[:(maxM+1)])\n",
    "    if mbic_numchg == 0:\n",
    "        mbic_ecpts = np.array([])\n",
    "    else:\n",
    "        idx = tau_mat[int(mbic_numchg-1),: ]\n",
    "        idx = np.array(idx[idx<np.inf], dtype=int)\n",
    "        mbic_ecpts = np.array(canpts)[idx] + 1\n",
    "        \n",
    "    if Ms is None or len(Ms)==0:\n",
    "        if not is_full:\n",
    "            return edict({\"U\":U, \"mbic_ecpts\": mbic_ecpts})\n",
    "        else:\n",
    "            return edict({\"U\":U, \"mbic_ecpts\": mbic_ecpts, \"chgMat\": chgMat, \"U0\":U0})\n",
    "    else:\n",
    "        ecptss = []\n",
    "        for numchg in Ms:\n",
    "            if numchg == 0:\n",
    "                ecpts = np.array([])\n",
    "            else:\n",
    "                idx = tau_mat[int(numchg-1),: ]\n",
    "                idx = np.array(idx[idx<np.inf], dtype=int)\n",
    "                ecpts = np.array(canpts)[idx] + 1\n",
    "            ecptss.append(ecpts)\n",
    "        if not is_full:\n",
    "            return edict({\"U\":U, \"ecptss\": ecptss, \"mbic_ecpts\": mbic_ecpts})\n",
    "        else:\n",
    "            return edict({\"U\":U, \"ecptss\": ecptss, \"mbic_ecpts\": mbic_ecpts, \"chgMat\": chgMat, \"U0\":U0})"
   ]
  },
  {
   "cell_type": "code",
   "execution_count": 83,
   "metadata": {
    "hidden": true
   },
   "outputs": [
    {
     "name": "stderr",
     "output_type": "stream",
     "text": [
      "100%|█████████████████████████████████████████████████████████████████████████████████████████████████| 88/88 [30:28<00:00, 20.78s/it]\n"
     ]
    }
   ],
   "source": [
    "cpts_ctrls = []\n",
    "for ix in trange(len(candidate_pts_ctrls)):\n",
    "    res = dyna_prog_4CPD(ndXmats_ctrl[ix], nXmats_ctrl[ix], paras.kappa, Lmin=paras.Lmin,  canpts=candidate_pts_ctrls[ix], \n",
    "                     maxM=paras.maxM,  is_full=True,  showProgress=False)\n",
    "    cpts_ctrls.append(res)"
   ]
  },
  {
   "cell_type": "code",
   "execution_count": 84,
   "metadata": {
    "hidden": true
   },
   "outputs": [
    {
     "name": "stderr",
     "output_type": "stream",
     "text": [
      "100%|█████████████████████████████████████████████████████████████████████████████████████████████████| 88/88 [31:58<00:00, 21.81s/it]\n"
     ]
    }
   ],
   "source": [
    "cpts_ADs = []\n",
    "for ix in trange(len(candidate_pts_ADs)):\n",
    "    res = dyna_prog_4CPD(ndXmats_AD[ix], nXmats_AD[ix], paras.kappa, Lmin=paras.Lmin,  canpts=candidate_pts_ADs[ix], \n",
    "                     maxM=paras.maxM,  is_full=True,  showProgress=False)\n",
    "    cpts_ADs.append(res)"
   ]
  },
  {
   "cell_type": "markdown",
   "metadata": {},
   "source": [
    "### Save the results"
   ]
  },
  {
   "cell_type": "code",
   "execution_count": 826,
   "metadata": {},
   "outputs": [],
   "source": [
    "results = edict()\n",
    "results.paras = paras\n",
    "\n",
    "results.AD = edict()\n",
    "results.AD.cpts = cpts_ADs\n",
    "results.AD.candidate_pts = candidate_pts_ADs\n",
    "results.AD.ndXmats = ndXmats_AD\n",
    "results.AD.nXmats = nXmats_AD\n",
    "results.AD.CPDres = CPDresult_AD\n",
    "\n",
    "results.ctrl = edict()\n",
    "results.ctrl.cpts = cpts_ctrls\n",
    "results.ctrl.candidate_pts = candidate_pts_ctrls\n",
    "results.ctrl.ndXmats = ndXmats_ctrl\n",
    "results.ctrl.nXmats = nXmats_ctrl\n",
    "results.ctrl.CPDres = CPDresult_ctrl\n",
    "save_pkl(paras.res_dir/\"CPD_results_detect_first.pkl\", results)"
   ]
  },
  {
   "cell_type": "code",
   "execution_count": 6,
   "metadata": {
    "ExecuteTime": {
     "end_time": "2022-10-10T20:45:56.533016Z",
     "start_time": "2022-10-10T20:45:56.401546Z"
    }
   },
   "outputs": [
    {
     "name": "stdout",
     "output_type": "stream",
     "text": [
      "Load file ../results/CPD_results_detect_first.pkl\n"
     ]
    }
   ],
   "source": [
    "results = load_pkl(paras.res_dir/\"CPD_results_detect_first.pkl\")"
   ]
  },
  {
   "cell_type": "code",
   "execution_count": null,
   "metadata": {},
   "outputs": [],
   "source": []
  },
  {
   "cell_type": "code",
   "execution_count": null,
   "metadata": {},
   "outputs": [],
   "source": []
  }
 ],
 "metadata": {
  "kernelspec": {
   "display_name": "Python 3 (ipykernel)",
   "language": "python",
   "name": "python3"
  },
  "language_info": {
   "codemirror_mode": {
    "name": "ipython",
    "version": 3
   },
   "file_extension": ".py",
   "mimetype": "text/x-python",
   "name": "python",
   "nbconvert_exporter": "python",
   "pygments_lexer": "ipython3",
   "version": "3.9.7"
  },
  "toc": {
   "base_numbering": 1,
   "nav_menu": {},
   "number_sections": true,
   "sideBar": true,
   "skip_h1_title": false,
   "title_cell": "Table of Contents",
   "title_sidebar": "Contents",
   "toc_cell": false,
   "toc_position": {
    "height": "calc(100% - 180px)",
    "left": "10px",
    "top": "150px",
    "width": "303.806px"
   },
   "toc_section_display": true,
   "toc_window_display": true
  }
 },
 "nbformat": 4,
 "nbformat_minor": 2
}
