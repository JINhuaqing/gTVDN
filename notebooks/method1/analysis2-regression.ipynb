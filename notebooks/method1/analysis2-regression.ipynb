{
 "cells": [
  {
   "cell_type": "markdown",
   "id": "944cc379",
   "metadata": {},
   "source": [
    "This file analyze the results for regression."
   ]
  },
  {
   "cell_type": "code",
   "execution_count": 1,
   "id": "b653da70",
   "metadata": {
    "ExecuteTime": {
     "end_time": "2022-11-01T22:24:13.789880Z",
     "start_time": "2022-11-01T22:24:13.010908Z"
    }
   },
   "outputs": [],
   "source": [
    "import numpy as np\n",
    "import scipy\n",
    "import matplotlib.pyplot as plt\n",
    "import seaborn as sns\n",
    "import pandas as pd\n",
    "import pickle\n",
    "\n",
    "from pathlib import Path\n",
    "from scipy.io import loadmat\n",
    "from tqdm import trange, tqdm\n",
    "from scipy.stats import ttest_ind\n",
    "from collections import defaultdict as ddict\n",
    "from easydict import EasyDict as edict\n",
    "\n",
    "from sklearn.linear_model import LogisticRegression\n",
    "from sklearn.metrics import roc_auc_score, roc_curve\n",
    "from sklearn.ensemble import RandomForestClassifier\n",
    "from sklearn.tree import DecisionTreeClassifier\n",
    "\n",
    "%matplotlib inline"
   ]
  },
  {
   "cell_type": "code",
   "execution_count": 2,
   "id": "ee51cbe2",
   "metadata": {
    "ExecuteTime": {
     "end_time": "2022-11-01T22:24:14.850397Z",
     "start_time": "2022-11-01T22:24:14.808289Z"
    }
   },
   "outputs": [],
   "source": [
    "# import my own functions\n",
    "import sys\n",
    "sys.path.append(\"../../mypkg\")\n",
    "import importlib\n",
    "\n",
    "# paras\n",
    "import paras\n",
    "importlib.reload(paras);\n",
    "from paras import paras\n",
    "\n",
    "# some useful constants\n",
    "import constants\n",
    "importlib.reload(constants)\n",
    "from constants import REGION_NAMES, REGION_NAMES_WLOBE, RES_ROOT"
   ]
  },
  {
   "cell_type": "code",
   "execution_count": 3,
   "id": "e6dc6f3b",
   "metadata": {
    "ExecuteTime": {
     "end_time": "2022-11-01T22:24:15.306259Z",
     "start_time": "2022-11-01T22:24:15.195952Z"
    }
   },
   "outputs": [],
   "source": [
    "# utils\n",
    "import utils.matrix\n",
    "importlib.reload(utils.matrix)\n",
    "from utils.matrix import eig_sorted\n",
    "\n",
    "import utils.misc\n",
    "importlib.reload(utils.misc)\n",
    "from utils.misc import paras2name, cumsum_cutoff, save_pkl, load_pkl, spec_emb_red\n",
    "\n",
    "import utils.projection\n",
    "importlib.reload(utils.projection)\n",
    "from utils.projection import euclidean_proj_l1ball\n",
    "\n",
    "import utils.standardize\n",
    "importlib.reload(utils.standardize)\n",
    "from utils.standardize import minmax, minmax_mat, minmax_pn\n",
    "\n",
    "import utils.brain_plot\n",
    "importlib.reload(utils.brain_plot)\n",
    "from utils.brain_plot import reorder_U, U_2brain_vec"
   ]
  },
  {
   "cell_type": "code",
   "execution_count": 4,
   "id": "bc958042",
   "metadata": {
    "ExecuteTime": {
     "end_time": "2022-11-01T22:24:15.863498Z",
     "start_time": "2022-11-01T22:24:15.849520Z"
    }
   },
   "outputs": [],
   "source": [
    "# gtvdn\n",
    "import gtvdn.gtvdn_post\n",
    "importlib.reload(gtvdn.gtvdn_post)\n",
    "from gtvdn.gtvdn_post import est_singular_vals, update_kp"
   ]
  },
  {
   "cell_type": "code",
   "execution_count": null,
   "id": "e643f164",
   "metadata": {},
   "outputs": [],
   "source": []
  },
  {
   "cell_type": "markdown",
   "id": "8b8172e1",
   "metadata": {},
   "source": [
    "## Load data"
   ]
  },
  {
   "cell_type": "code",
   "execution_count": 5,
   "id": "3ee62958",
   "metadata": {
    "ExecuteTime": {
     "end_time": "2022-11-01T22:24:18.520745Z",
     "start_time": "2022-11-01T22:24:18.398355Z"
    }
   },
   "outputs": [
    {
     "name": "stdout",
     "output_type": "stream",
     "text": [
      "Load file /data/rajlab1/user_data/jin/MyResearch/gTVDN/notebooks/method1/../../mypkg/../results/CPD_results_detect_first.pkl\n"
     ]
    }
   ],
   "source": [
    "results = load_pkl(RES_ROOT/\"./CPD_results_detect_first.pkl\")"
   ]
  },
  {
   "cell_type": "code",
   "execution_count": 6,
   "id": "4e20021c",
   "metadata": {
    "ExecuteTime": {
     "end_time": "2022-11-01T22:24:20.085511Z",
     "start_time": "2022-11-01T22:24:20.078527Z"
    }
   },
   "outputs": [],
   "source": [
    "cpts_ADs = results.AD.cpts \n",
    "candidate_pts_ADs = results.AD.candidate_pts \n",
    "ndXmats_AD = results.AD.ndXmats \n",
    "nXmats_AD = results.AD.nXmats \n",
    "CPDresult_AD = results.AD.CPDres \n",
    "\n",
    "cpts_ctrls = results.ctrl.cpts \n",
    "candidate_pts_ctrls = results.ctrl.candidate_pts \n",
    "ndXmats_ctrl = results.ctrl.ndXmats \n",
    "nXmats_ctrl = results.ctrl.nXmats \n",
    "CPDresult_ctrl = results.ctrl.CPDres \n",
    "\n",
    "\n",
    "B1 = CPDresult_ctrl[0]\n",
    "B2 = CPDresult_ctrl[1]\n",
    "\n",
    "# update parameters \n",
    "paras.update(results.paras)"
   ]
  },
  {
   "cell_type": "code",
   "execution_count": 7,
   "id": "b8f79b55",
   "metadata": {
    "ExecuteTime": {
     "end_time": "2022-11-01T22:24:25.001308Z",
     "start_time": "2022-11-01T22:24:24.774057Z"
    }
   },
   "outputs": [],
   "source": [
    "# Combine info from B1 and B2 together\n",
    "# Reduce dim, col by col\n",
    "# it is better than together\n",
    "com_Us = []\n",
    "for ix in range(20):\n",
    "    curU, curV = B1[:, ix], B2[:, ix]\n",
    "    both_info = np.stack([curU, curV]).T\n",
    "    com_U = spec_emb_red(both_info)\n",
    "    com_Us.append(np.squeeze(com_U))\n",
    "com_Us = np.array(com_Us).T"
   ]
  },
  {
   "cell_type": "code",
   "execution_count": 88,
   "id": "6e0bed5d",
   "metadata": {
    "ExecuteTime": {
     "end_time": "2022-10-28T16:50:28.049184Z",
     "start_time": "2022-10-28T16:50:27.807294Z"
    }
   },
   "outputs": [],
   "source": [
    "#(dont run this)\n",
    "# Combine info from B1 and B2 together\n",
    "# Reduce dim, all together\n",
    "both_UV = np.stack([B1.T.flatten(), B2.T.flatten()]).T\n",
    "com_Us_vec = np.squeeze(spec_emb_red(both_UV))\n",
    "com_Us = com_Us_vec.reshape(-1, 68).T"
   ]
  },
  {
   "cell_type": "code",
   "execution_count": 219,
   "id": "ab81120f",
   "metadata": {
    "ExecuteTime": {
     "end_time": "2022-10-28T21:53:51.973079Z",
     "start_time": "2022-10-28T21:53:51.970421Z"
    }
   },
   "outputs": [],
   "source": [
    "# not good. \n",
    "# little regions\n",
    "\n",
    "#com_Us = np.sqrt(B1**2+B2**2)"
   ]
  },
  {
   "cell_type": "code",
   "execution_count": 8,
   "id": "2846ef53",
   "metadata": {
    "ExecuteTime": {
     "end_time": "2022-11-01T22:24:35.981618Z",
     "start_time": "2022-11-01T22:24:35.975750Z"
    }
   },
   "outputs": [],
   "source": [
    "post_paras = results.post_paras\n",
    "\n",
    "singular_vals_ADs = results.AD.singular_vals \n",
    "cpts_ADs_selected =  results.AD.cpts_selected \n",
    "dwells_ADs_selected =  results.AD.dwells_selected \n",
    "rank_ADs = results.AD.ranks \n",
    "\n",
    "singular_vals_ctrls = results.ctrl.singular_vals \n",
    "cpts_ctrls_selected =  results.ctrl.cpts_selected \n",
    "dwells_ctrls_selected =  results.ctrl.dwells_selected \n",
    "rank_ctrls = results.ctrl.ranks "
   ]
  },
  {
   "cell_type": "code",
   "execution_count": 9,
   "id": "5086c7d8",
   "metadata": {
    "ExecuteTime": {
     "end_time": "2022-11-01T22:24:41.410796Z",
     "start_time": "2022-11-01T22:24:41.408191Z"
    }
   },
   "outputs": [],
   "source": [
    "post_results = edict()\n",
    "post_results.AD = edict()\n",
    "post_results.ctrl = edict()\n",
    "post_results.com_Us = com_Us"
   ]
  },
  {
   "cell_type": "code",
   "execution_count": 10,
   "id": "9c7e4923",
   "metadata": {
    "ExecuteTime": {
     "end_time": "2022-11-01T22:24:49.641310Z",
     "start_time": "2022-11-01T22:24:48.807149Z"
    }
   },
   "outputs": [
    {
     "data": {
      "text/plain": [
       "<AxesSubplot:>"
      ]
     },
     "execution_count": 10,
     "metadata": {},
     "output_type": "execute_result"
    },
    {
     "data": {
      "image/png": "[encoded data removed]",
      "text/plain": [
       "<Figure size 720x720 with 4 Axes>"
      ]
     },
     "metadata": {
      "needs_background": "light"
     },
     "output_type": "display_data"
    }
   ],
   "source": [
    "plt.figure(figsize=[10, 10])\n",
    "plt.subplot(121)\n",
    "sns.heatmap(com_Us, cmap=\"bwr\", center=0)\n",
    "plt.subplot(122)\n",
    "sns.heatmap(B1, cmap=\"bwr\", center=0)"
   ]
  },
  {
   "cell_type": "code",
   "execution_count": null,
   "id": "4d392430",
   "metadata": {},
   "outputs": [],
   "source": []
  },
  {
   "cell_type": "markdown",
   "id": "6b86a750",
   "metadata": {},
   "source": [
    "## get the dataset"
   ]
  },
  {
   "cell_type": "code",
   "execution_count": 11,
   "id": "51719e10",
   "metadata": {
    "ExecuteTime": {
     "end_time": "2022-10-28T22:07:42.871919Z",
     "start_time": "2022-10-28T22:07:42.868764Z"
    }
   },
   "outputs": [],
   "source": [
    "ncpts_ADs_selected = [len(cpts) for cpts in cpts_ADs_selected]\n",
    "ncpts_ctrls_selected = [len(cpts) for cpts in cpts_ctrls_selected]"
   ]
  },
  {
   "cell_type": "code",
   "execution_count": 93,
   "id": "d4fc2725",
   "metadata": {
    "ExecuteTime": {
     "end_time": "2022-10-28T22:27:06.554525Z",
     "start_time": "2022-10-28T22:27:06.532309Z"
    },
    "scrolled": true
   },
   "outputs": [],
   "source": [
    "cur_cutoff = post_paras.rank_curoff\n",
    "# selected U and calculate weighted U (ABS wU)\n",
    "#cur_cutoff = 1.2\n",
    "wUs_abs_AD = []\n",
    "wUs_abs_mean_AD = []\n",
    "wUs_abs_max_AD = []\n",
    "ws_abs_mean_AD = []\n",
    "ws_abs_max_AD = []\n",
    "for ix in range(len(singular_vals_ADs)):\n",
    "    cur_singular_val_abs = np.abs(singular_vals_ADs[ix])\n",
    "    cur_raw_B3row = np.abs(CPDresult_AD[-1][ix, :])\n",
    "    cur_keep_idx = cumsum_cutoff(cur_raw_B3row, cur_cutoff)\n",
    "    #cur_keep_idx = minmax(cur_raw_B3row) > cur_cutoff\n",
    "    cur_dwells = dwells_ADs_selected[ix]\n",
    "    \n",
    "    cur_ws_abs = cur_singular_val_abs[cur_keep_idx, :]\n",
    "    #cur_Us_abs = np.array(B1[:, cur_keep_idx])\n",
    "    cur_Us_abs = np.array(com_Us[:, cur_keep_idx])\n",
    "    \n",
    "    cur_wUs_abs = np.matmul(cur_Us_abs, cur_ws_abs)\n",
    "    #cur_wUs_abs_raw = cur_Us_abs[:, :, np.newaxis] *  cur_ws_abs[np.newaxis, :, :]\n",
    "    #cur_wUs_abs = np.array([np.squeeze(spec_emb_red(cur_wUs_abs_raw[:, :, ix])) \n",
    "    # for ix \n",
    "    # in range(cur_wUs_abs_raw.shape[-1])]).T\n",
    "    cur_wUs_abs_mean = cur_wUs_abs.mean(axis=1)\n",
    "    \n",
    "    wUs_abs_AD.append(cur_wUs_abs)\n",
    "    wUs_abs_max_AD.append(cur_wUs_abs[:, np.argmax(cur_dwells)])\n",
    "    wUs_abs_mean_AD.append(cur_wUs_abs_mean)\n",
    "    ws_abs_mean_AD.append(cur_ws_abs[:, :].mean())\n",
    "    ws_abs_max_AD.append(cur_ws_abs[:, :].max())\n",
    "    \n",
    "wUs_abs_ctrl = []\n",
    "wUs_abs_mean_ctrl = []\n",
    "wUs_abs_max_ctrl = []\n",
    "ws_abs_mean_ctrl = []\n",
    "ws_abs_max_ctrl = []\n",
    "for ix in range(len(singular_vals_ctrls)):\n",
    "    cur_singular_val_abs = np.abs(singular_vals_ctrls[ix])\n",
    "    cur_raw_B3row = np.abs(CPDresult_ctrl[-1][ix, :])\n",
    "    cur_keep_idx = cumsum_cutoff(cur_raw_B3row, cur_cutoff)\n",
    "    #cur_keep_idx = minmax(cur_raw_B3row) > cur_cutoff\n",
    "    cur_dwells = dwells_ctrls_selected[ix]\n",
    "    \n",
    "    cur_ws_abs = cur_singular_val_abs[cur_keep_idx, :]\n",
    "    #cur_Us_abs = np.array(B1[:, cur_keep_idx])\n",
    "    cur_Us_abs = np.array(com_Us[:, cur_keep_idx])\n",
    "    \n",
    "    cur_wUs_abs = np.matmul(cur_Us_abs, cur_ws_abs)\n",
    "    #cur_wUs_abs_raw = cur_Us_abs[:, :, np.newaxis] *  cur_ws_abs[np.newaxis, :, :]\n",
    "    #cur_wUs_abs = np.array([np.squeeze(spec_emb_red(cur_wUs_abs_raw[:, :, ix])) \n",
    "    # for ix \n",
    "    # in range(cur_wUs_abs_raw.shape[-1])]).T\n",
    "    cur_wUs_abs_mean = cur_wUs_abs.mean(axis=1)\n",
    "    \n",
    "    wUs_abs_ctrl.append(cur_wUs_abs)\n",
    "    wUs_abs_max_ctrl.append(cur_wUs_abs[:, np.argmax(cur_dwells)])\n",
    "    wUs_abs_mean_ctrl.append(cur_wUs_abs_mean)\n",
    "    ws_abs_mean_ctrl.append(cur_ws_abs[:, :].mean())\n",
    "    ws_abs_max_ctrl.append(cur_ws_abs[:, :].max())\n",
    "    \n",
    "wUs_abs_mean_AD = np.array(wUs_abs_mean_AD)\n",
    "wUs_abs_mean_ctrl = np.array(wUs_abs_mean_ctrl)\n",
    "wUs_abs_max_AD = np.array(wUs_abs_max_AD)\n",
    "wUs_abs_max_ctrl = np.array(wUs_abs_max_ctrl)"
   ]
  },
  {
   "cell_type": "markdown",
   "id": "8dc6433a",
   "metadata": {},
   "source": [
    "## Regression "
   ]
  },
  {
   "cell_type": "code",
   "execution_count": 94,
   "id": "0938a07c",
   "metadata": {
    "ExecuteTime": {
     "end_time": "2022-10-28T22:27:08.548365Z",
     "start_time": "2022-10-28T22:27:08.541837Z"
    }
   },
   "outputs": [],
   "source": [
    "# prepare for Y and X\n",
    "reg_Y = np.concatenate([np.ones_like(rank_ADs), np.zeros_like(rank_ctrls)])\n",
    "reg_X_B3 = np.concatenate([\n",
    "                minmax_mat(np.abs(CPDresult_AD[2]), is_row=True),\n",
    "                minmax_mat(np.abs(CPDresult_ctrl[2]), is_row=True)\n",
    "            ], axis=0)\n",
    "reg_X_wU_abs_mean = np.concatenate([wUs_abs_mean_AD, wUs_abs_mean_ctrl], axis=0)\n",
    "reg_X_wU_abs_max = np.concatenate([wUs_abs_max_AD, wUs_abs_max_ctrl], axis=0)\n",
    "reg_X_rank = np.concatenate([rank_ADs, rank_ctrls])\n",
    "reg_X_ncpts = np.concatenate([ncpts_ADs_selected, ncpts_ctrls_selected])\n",
    "reg_X_ws_max = np.concatenate([ws_abs_max_AD, ws_abs_max_ctrl])\n",
    "reg_X_ws_mean = np.concatenate([ws_abs_mean_AD, ws_abs_mean_ctrl])\n",
    "\n",
    "\n",
    "reg_X = np.concatenate([reg_X_rank.reshape(-1, 1), reg_X_ncpts.reshape(-1, 1)], axis=1)\n",
    "reg_X = np.concatenate([\n",
    "                        reg_X_wU_abs_max, \n",
    "                        reg_X_rank.reshape(-1, 1), \n",
    "                        reg_X_ncpts.reshape(-1, 1), \n",
    "                        #reg_X_ws_max.reshape(-1, 1)\n",
    "                       ], axis=1)\n",
    "#reg_X = reg_X_wU_abs_max\n",
    "reg_X_std = (reg_X - reg_X.mean(axis=0))/reg_X.std(axis=0)"
   ]
  },
  {
   "cell_type": "code",
   "execution_count": 95,
   "id": "ff095c79",
   "metadata": {
    "ExecuteTime": {
     "end_time": "2022-10-28T22:27:09.030537Z",
     "start_time": "2022-10-28T22:27:09.025820Z"
    }
   },
   "outputs": [],
   "source": [
    "import numbers\n",
    "# return the predicted probs for each test obs\n",
    "def clf_2probs(clf, X_test):\n",
    "    probs = clf.predict_proba(X_test)\n",
    "    return probs[:, clf.classes_==1].reshape(-1)\n",
    "\n",
    "def LOO_pred_givenC(cur_X, cur_Y, Cs=1, is_prg=True):\n",
    "    probs = []\n",
    "    if is_prg:\n",
    "        prog_bar = trange(len(cur_Y))\n",
    "    else:\n",
    "        prog_bar = range(len(cur_Y))\n",
    "    if isinstance(Cs, numbers.Number):\n",
    "        Cs = np.ones_like(cur_Y)*Cs\n",
    "    for ix in prog_bar:\n",
    "        cur_X_test = cur_X[ix, :].reshape(1, -1)\n",
    "        cur_Y_test = cur_Y[ix].reshape(1, -1)\n",
    "        cur_X_train = np.delete(cur_X, ix, axis=0)\n",
    "        cur_Y_train = np.delete(cur_Y, ix)\n",
    "        clf = LogisticRegression(random_state=0, C=Cs[ix], penalty=\"l2\", solver=\"liblinear\").fit(cur_X_train, cur_Y_train)\n",
    "        #clf = RandomForestClassifier(random_state=0).fit(cur_X_train, cur_Y_train)\n",
    "        #clf = DecisionTreeClassifier(random_state=0).fit(cur_X_train, cur_Y_train)\n",
    "        probs.append(clf_2probs(clf, cur_X_test))\n",
    "    return np.array(probs).reshape(-1)"
   ]
  },
  {
   "cell_type": "code",
   "execution_count": 96,
   "id": "796f1120",
   "metadata": {
    "ExecuteTime": {
     "end_time": "2022-10-28T22:27:09.467086Z",
     "start_time": "2022-10-28T22:27:09.463541Z"
    }
   },
   "outputs": [],
   "source": [
    "def LOO_bestC(cur_X, cur_Y, Cs, is_prg=0, is_C_only=1):\n",
    "    Cs = np.array(Cs)\n",
    "    cur_aucs = []\n",
    "    if is_prg:\n",
    "        prog_bar = tqdm(Cs)\n",
    "    else:\n",
    "        prog_bar = Cs\n",
    "    for cur_C in prog_bar: \n",
    "        cur_pred_probs = LOO_pred_givenC(cur_X, cur_Y, Cs=cur_C, is_prg=0)\n",
    "        cur_auc = roc_auc_score(cur_Y, cur_pred_probs)\n",
    "        cur_aucs.append(cur_auc)\n",
    "        cur_best_C = Cs[np.argmax(cur_aucs)]\n",
    "    cur_best_C = Cs[np.argmax(cur_aucs)]\n",
    "    if is_C_only:\n",
    "        return cur_best_C\n",
    "    else:\n",
    "        return cur_best_C, cur_aucs"
   ]
  },
  {
   "cell_type": "markdown",
   "id": "f31e129c",
   "metadata": {},
   "source": [
    "### AUC under LOO"
   ]
  },
  {
   "cell_type": "code",
   "execution_count": 97,
   "id": "e35cd257",
   "metadata": {
    "ExecuteTime": {
     "end_time": "2022-10-28T22:27:10.515354Z",
     "start_time": "2022-10-28T22:27:10.512760Z"
    }
   },
   "outputs": [],
   "source": [
    "Cs = paras.Cs[:11]\n",
    "paras.Cs = np.concatenate([Cs, [5e-3, 1e-3]])"
   ]
  },
  {
   "cell_type": "code",
   "execution_count": 98,
   "id": "24b21a42",
   "metadata": {
    "ExecuteTime": {
     "end_time": "2022-10-28T22:27:15.004571Z",
     "start_time": "2022-10-28T22:27:11.309513Z"
    }
   },
   "outputs": [
    {
     "name": "stderr",
     "output_type": "stream",
     "text": [
      "100%|██████████████████████████████████████████████████████████████████████████████████████████████████████████████████████████████████████████| 13/13 [00:03<00:00,  3.52it/s]"
     ]
    },
    {
     "name": "stdout",
     "output_type": "stream",
     "text": [
      "0.01\n"
     ]
    },
    {
     "name": "stderr",
     "output_type": "stream",
     "text": [
      "\n"
     ]
    }
   ],
   "source": [
    "gopt_C = LOO_bestC(reg_X_std, reg_Y, paras.Cs, 1)\n",
    "print(gopt_C)"
   ]
  },
  {
   "cell_type": "code",
   "execution_count": 99,
   "id": "61d0757a",
   "metadata": {
    "ExecuteTime": {
     "end_time": "2022-10-28T22:27:16.421863Z",
     "start_time": "2022-10-28T22:27:16.108541Z"
    }
   },
   "outputs": [
    {
     "name": "stderr",
     "output_type": "stream",
     "text": [
      "100%|███████████████████████████████████████████████████████████████████████████████████████████████████████████████████████████████████████| 176/176 [00:00<00:00, 744.77it/s]\n"
     ]
    },
    {
     "data": {
      "text/plain": [
       "[<matplotlib.lines.Line2D at 0x7f8502c1f1c0>]"
      ]
     },
     "execution_count": 99,
     "metadata": {},
     "output_type": "execute_result"
    },
    {
     "data": {
      "image/png": "[encoded data removed]",
      "text/plain": [
       "<Figure size 432x288 with 1 Axes>"
      ]
     },
     "metadata": {
      "needs_background": "light"
     },
     "output_type": "display_data"
    }
   ],
   "source": [
    "pred_probs = LOO_pred_givenC(reg_X_std, reg_Y, Cs=gopt_C, is_prg=1)\n",
    "fpr, tpr, thresholds = roc_curve(reg_Y, pred_probs, pos_label=1)\n",
    "auc = roc_auc_score(reg_Y, pred_probs)\n",
    "\n",
    "plt.title(f\"ROC (AUC:{auc:.3f})\")\n",
    "plt.plot(fpr, tpr)"
   ]
  },
  {
   "cell_type": "code",
   "execution_count": null,
   "id": "b962e8c3",
   "metadata": {},
   "outputs": [],
   "source": []
  },
  {
   "cell_type": "markdown",
   "id": "c974cfd9",
   "metadata": {
    "heading_collapsed": true
   },
   "source": [
    "### CV for tuning C for each Obs"
   ]
  },
  {
   "cell_type": "code",
   "execution_count": 100,
   "id": "412bb7ce",
   "metadata": {
    "ExecuteTime": {
     "end_time": "2022-10-28T22:27:21.040636Z",
     "start_time": "2022-10-28T22:27:18.350384Z"
    },
    "hidden": true,
    "scrolled": true
   },
   "outputs": [
    {
     "name": "stdout",
     "output_type": "stream",
     "text": [
      "639120\n",
      "15\n",
      "\n",
      "\n",
      "3318\n",
      "2421\n",
      "39\n",
      "\n",
      "514548\n",
      "4257\n",
      "54\n",
      "\n",
      "\n",
      "36\n",
      "30\n",
      "\n",
      "\n",
      "\n",
      "\n",
      "27\n"
     ]
    },
    {
     "name": "stderr",
     "output_type": "stream",
     "text": [
      "Process ForkPoolWorker-2:\n",
      "Process ForkPoolWorker-19:\n",
      "Process ForkPoolWorker-12:\n",
      "Process ForkPoolWorker-10:\n",
      "Process ForkPoolWorker-7:\n",
      "Process ForkPoolWorker-18:\n",
      "Process ForkPoolWorker-11:\n",
      "Process ForkPoolWorker-5:\n"
     ]
    },
    {
     "ename": "KeyboardInterrupt",
     "evalue": "",
     "output_type": "error",
     "traceback": [
      "\u001b[0;31m---------------------------------------------------------------------------\u001b[0m",
      "\u001b[0;31mKeyboardInterrupt\u001b[0m                         Traceback (most recent call last)",
      "\u001b[0;32m/tmp/ipykernel_77522/2079508782.py\u001b[0m in \u001b[0;36m<module>\u001b[0;34m\u001b[0m\n\u001b[1;32m     13\u001b[0m \u001b[0;32mif\u001b[0m \u001b[0m__name__\u001b[0m \u001b[0;34m==\u001b[0m \u001b[0;34m\"__main__\"\u001b[0m\u001b[0;34m:\u001b[0m\u001b[0;34m\u001b[0m\u001b[0;34m\u001b[0m\u001b[0m\n\u001b[1;32m     14\u001b[0m     \u001b[0;32mwith\u001b[0m \u001b[0mmp\u001b[0m\u001b[0;34m.\u001b[0m\u001b[0mPool\u001b[0m\u001b[0;34m(\u001b[0m\u001b[0mprocesses\u001b[0m\u001b[0;34m=\u001b[0m\u001b[0;36m20\u001b[0m\u001b[0;34m)\u001b[0m \u001b[0;32mas\u001b[0m \u001b[0mpool\u001b[0m\u001b[0;34m:\u001b[0m\u001b[0;34m\u001b[0m\u001b[0;34m\u001b[0m\u001b[0m\n\u001b[0;32m---> 15\u001b[0;31m         \u001b[0mres\u001b[0m \u001b[0;34m=\u001b[0m \u001b[0mpool\u001b[0m\u001b[0;34m.\u001b[0m\u001b[0mmap\u001b[0m\u001b[0;34m(\u001b[0m\u001b[0mrun_fn\u001b[0m\u001b[0;34m,\u001b[0m \u001b[0mlist\u001b[0m\u001b[0;34m(\u001b[0m\u001b[0mrange\u001b[0m\u001b[0;34m(\u001b[0m\u001b[0mlen\u001b[0m\u001b[0;34m(\u001b[0m\u001b[0mreg_Y\u001b[0m\u001b[0;34m)\u001b[0m\u001b[0;34m)\u001b[0m\u001b[0;34m)\u001b[0m\u001b[0;34m)\u001b[0m\u001b[0;34m\u001b[0m\u001b[0;34m\u001b[0m\u001b[0m\n\u001b[0m\u001b[1;32m     16\u001b[0m     \u001b[0mpool\u001b[0m\u001b[0;34m.\u001b[0m\u001b[0mjoin\u001b[0m\u001b[0;34m(\u001b[0m\u001b[0;34m)\u001b[0m\u001b[0;34m\u001b[0m\u001b[0;34m\u001b[0m\u001b[0m\n",
      "\u001b[0;32m/opt/conda/lib/python3.9/multiprocessing/pool.py\u001b[0m in \u001b[0;36mmap\u001b[0;34m(self, func, iterable, chunksize)\u001b[0m\n\u001b[1;32m    362\u001b[0m         \u001b[0;32min\u001b[0m \u001b[0ma\u001b[0m \u001b[0mlist\u001b[0m \u001b[0mthat\u001b[0m \u001b[0;32mis\u001b[0m \u001b[0mreturned\u001b[0m\u001b[0;34m.\u001b[0m\u001b[0;34m\u001b[0m\u001b[0;34m\u001b[0m\u001b[0m\n\u001b[1;32m    363\u001b[0m         '''\n\u001b[0;32m--> 364\u001b[0;31m         \u001b[0;32mreturn\u001b[0m \u001b[0mself\u001b[0m\u001b[0;34m.\u001b[0m\u001b[0m_map_async\u001b[0m\u001b[0;34m(\u001b[0m\u001b[0mfunc\u001b[0m\u001b[0;34m,\u001b[0m \u001b[0miterable\u001b[0m\u001b[0;34m,\u001b[0m \u001b[0mmapstar\u001b[0m\u001b[0;34m,\u001b[0m \u001b[0mchunksize\u001b[0m\u001b[0;34m)\u001b[0m\u001b[0;34m.\u001b[0m\u001b[0mget\u001b[0m\u001b[0;34m(\u001b[0m\u001b[0;34m)\u001b[0m\u001b[0;34m\u001b[0m\u001b[0;34m\u001b[0m\u001b[0m\n\u001b[0m\u001b[1;32m    365\u001b[0m \u001b[0;34m\u001b[0m\u001b[0m\n\u001b[1;32m    366\u001b[0m     \u001b[0;32mdef\u001b[0m \u001b[0mstarmap\u001b[0m\u001b[0;34m(\u001b[0m\u001b[0mself\u001b[0m\u001b[0;34m,\u001b[0m \u001b[0mfunc\u001b[0m\u001b[0;34m,\u001b[0m \u001b[0miterable\u001b[0m\u001b[0;34m,\u001b[0m \u001b[0mchunksize\u001b[0m\u001b[0;34m=\u001b[0m\u001b[0;32mNone\u001b[0m\u001b[0;34m)\u001b[0m\u001b[0;34m:\u001b[0m\u001b[0;34m\u001b[0m\u001b[0;34m\u001b[0m\u001b[0m\n",
      "\u001b[0;32m/opt/conda/lib/python3.9/multiprocessing/pool.py\u001b[0m in \u001b[0;36mget\u001b[0;34m(self, timeout)\u001b[0m\n\u001b[1;32m    763\u001b[0m \u001b[0;34m\u001b[0m\u001b[0m\n\u001b[1;32m    764\u001b[0m     \u001b[0;32mdef\u001b[0m \u001b[0mget\u001b[0m\u001b[0;34m(\u001b[0m\u001b[0mself\u001b[0m\u001b[0;34m,\u001b[0m \u001b[0mtimeout\u001b[0m\u001b[0;34m=\u001b[0m\u001b[0;32mNone\u001b[0m\u001b[0;34m)\u001b[0m\u001b[0;34m:\u001b[0m\u001b[0;34m\u001b[0m\u001b[0;34m\u001b[0m\u001b[0m\n\u001b[0;32m--> 765\u001b[0;31m         \u001b[0mself\u001b[0m\u001b[0;34m.\u001b[0m\u001b[0mwait\u001b[0m\u001b[0;34m(\u001b[0m\u001b[0mtimeout\u001b[0m\u001b[0;34m)\u001b[0m\u001b[0;34m\u001b[0m\u001b[0;34m\u001b[0m\u001b[0m\n\u001b[0m\u001b[1;32m    766\u001b[0m         \u001b[0;32mif\u001b[0m \u001b[0;32mnot\u001b[0m \u001b[0mself\u001b[0m\u001b[0;34m.\u001b[0m\u001b[0mready\u001b[0m\u001b[0;34m(\u001b[0m\u001b[0;34m)\u001b[0m\u001b[0;34m:\u001b[0m\u001b[0;34m\u001b[0m\u001b[0;34m\u001b[0m\u001b[0m\n\u001b[1;32m    767\u001b[0m             \u001b[0;32mraise\u001b[0m \u001b[0mTimeoutError\u001b[0m\u001b[0;34m\u001b[0m\u001b[0;34m\u001b[0m\u001b[0m\n",
      "\u001b[0;32m/opt/conda/lib/python3.9/multiprocessing/pool.py\u001b[0m in \u001b[0;36mwait\u001b[0;34m(self, timeout)\u001b[0m\n\u001b[1;32m    760\u001b[0m \u001b[0;34m\u001b[0m\u001b[0m\n\u001b[1;32m    761\u001b[0m     \u001b[0;32mdef\u001b[0m \u001b[0mwait\u001b[0m\u001b[0;34m(\u001b[0m\u001b[0mself\u001b[0m\u001b[0;34m,\u001b[0m \u001b[0mtimeout\u001b[0m\u001b[0;34m=\u001b[0m\u001b[0;32mNone\u001b[0m\u001b[0;34m)\u001b[0m\u001b[0;34m:\u001b[0m\u001b[0;34m\u001b[0m\u001b[0;34m\u001b[0m\u001b[0m\n\u001b[0;32m--> 762\u001b[0;31m         \u001b[0mself\u001b[0m\u001b[0;34m.\u001b[0m\u001b[0m_event\u001b[0m\u001b[0;34m.\u001b[0m\u001b[0mwait\u001b[0m\u001b[0;34m(\u001b[0m\u001b[0mtimeout\u001b[0m\u001b[0;34m)\u001b[0m\u001b[0;34m\u001b[0m\u001b[0;34m\u001b[0m\u001b[0m\n\u001b[0m\u001b[1;32m    763\u001b[0m \u001b[0;34m\u001b[0m\u001b[0m\n\u001b[1;32m    764\u001b[0m     \u001b[0;32mdef\u001b[0m \u001b[0mget\u001b[0m\u001b[0;34m(\u001b[0m\u001b[0mself\u001b[0m\u001b[0;34m,\u001b[0m \u001b[0mtimeout\u001b[0m\u001b[0;34m=\u001b[0m\u001b[0;32mNone\u001b[0m\u001b[0;34m)\u001b[0m\u001b[0;34m:\u001b[0m\u001b[0;34m\u001b[0m\u001b[0;34m\u001b[0m\u001b[0m\n",
      "\u001b[0;32m/opt/conda/lib/python3.9/threading.py\u001b[0m in \u001b[0;36mwait\u001b[0;34m(self, timeout)\u001b[0m\n\u001b[1;32m    572\u001b[0m             \u001b[0msignaled\u001b[0m \u001b[0;34m=\u001b[0m \u001b[0mself\u001b[0m\u001b[0;34m.\u001b[0m\u001b[0m_flag\u001b[0m\u001b[0;34m\u001b[0m\u001b[0;34m\u001b[0m\u001b[0m\n\u001b[1;32m    573\u001b[0m             \u001b[0;32mif\u001b[0m \u001b[0;32mnot\u001b[0m \u001b[0msignaled\u001b[0m\u001b[0;34m:\u001b[0m\u001b[0;34m\u001b[0m\u001b[0;34m\u001b[0m\u001b[0m\n\u001b[0;32m--> 574\u001b[0;31m                 \u001b[0msignaled\u001b[0m \u001b[0;34m=\u001b[0m \u001b[0mself\u001b[0m\u001b[0;34m.\u001b[0m\u001b[0m_cond\u001b[0m\u001b[0;34m.\u001b[0m\u001b[0mwait\u001b[0m\u001b[0;34m(\u001b[0m\u001b[0mtimeout\u001b[0m\u001b[0;34m)\u001b[0m\u001b[0;34m\u001b[0m\u001b[0;34m\u001b[0m\u001b[0m\n\u001b[0m\u001b[1;32m    575\u001b[0m             \u001b[0;32mreturn\u001b[0m \u001b[0msignaled\u001b[0m\u001b[0;34m\u001b[0m\u001b[0;34m\u001b[0m\u001b[0m\n\u001b[1;32m    576\u001b[0m \u001b[0;34m\u001b[0m\u001b[0m\n",
      "\u001b[0;32m/opt/conda/lib/python3.9/threading.py\u001b[0m in \u001b[0;36mwait\u001b[0;34m(self, timeout)\u001b[0m\n\u001b[1;32m    310\u001b[0m         \u001b[0;32mtry\u001b[0m\u001b[0;34m:\u001b[0m    \u001b[0;31m# restore state no matter what (e.g., KeyboardInterrupt)\u001b[0m\u001b[0;34m\u001b[0m\u001b[0;34m\u001b[0m\u001b[0m\n\u001b[1;32m    311\u001b[0m             \u001b[0;32mif\u001b[0m \u001b[0mtimeout\u001b[0m \u001b[0;32mis\u001b[0m \u001b[0;32mNone\u001b[0m\u001b[0;34m:\u001b[0m\u001b[0;34m\u001b[0m\u001b[0;34m\u001b[0m\u001b[0m\n\u001b[0;32m--> 312\u001b[0;31m                 \u001b[0mwaiter\u001b[0m\u001b[0;34m.\u001b[0m\u001b[0macquire\u001b[0m\u001b[0;34m(\u001b[0m\u001b[0;34m)\u001b[0m\u001b[0;34m\u001b[0m\u001b[0;34m\u001b[0m\u001b[0m\n\u001b[0m\u001b[1;32m    313\u001b[0m                 \u001b[0mgotit\u001b[0m \u001b[0;34m=\u001b[0m \u001b[0;32mTrue\u001b[0m\u001b[0;34m\u001b[0m\u001b[0;34m\u001b[0m\u001b[0m\n\u001b[1;32m    314\u001b[0m             \u001b[0;32melse\u001b[0m\u001b[0;34m:\u001b[0m\u001b[0;34m\u001b[0m\u001b[0;34m\u001b[0m\u001b[0m\n",
      "\u001b[0;31mKeyboardInterrupt\u001b[0m: "
     ]
    }
   ],
   "source": [
    "import multiprocessing as mp\n",
    "def run_fn(ix):\n",
    "    cur_X_test = reg_X_std[ix, :].reshape(1, -1)\n",
    "    cur_Y_test = reg_Y[ix].reshape(1, -1)\n",
    "    cur_X_train = np.delete(reg_X_std, ix, axis=0)\n",
    "    cur_Y_train = np.delete(reg_Y, ix)\n",
    "    \n",
    "    print(ix)\n",
    "    cur_best_C =  LOO_bestC(cur_X_train, cur_Y_train, paras.Cs, 0)\n",
    "    return (ix, cur_best_C)\n",
    "\n",
    "\n",
    "if __name__ == \"__main__\":\n",
    "    with mp.Pool(processes=20) as pool:\n",
    "        res = pool.map(run_fn, list(range(len(reg_Y))))\n",
    "    pool.join()"
   ]
  },
  {
   "cell_type": "code",
   "execution_count": 19,
   "id": "0578d7f1",
   "metadata": {
    "ExecuteTime": {
     "end_time": "2022-10-10T21:55:40.603853Z",
     "start_time": "2022-10-10T21:55:40.315467Z"
    },
    "hidden": true
   },
   "outputs": [
    {
     "name": "stderr",
     "output_type": "stream",
     "text": [
      "100%|██████████████████████████████████████████████████████████████████████████████████████████████████████████████████████████████████████████████████████████████████████| 176/176 [00:00<00:00, 839.34it/s]\n"
     ]
    },
    {
     "data": {
      "text/plain": [
       "[<matplotlib.lines.Line2D at 0x7f2c36171940>]"
      ]
     },
     "execution_count": 19,
     "metadata": {},
     "output_type": "execute_result"
    },
    {
     "data": {
      "image/png": "[encoded data removed]",
      "text/plain": [
       "<Figure size 432x288 with 1 Axes>"
      ]
     },
     "metadata": {
      "needs_background": "light"
     },
     "output_type": "display_data"
    }
   ],
   "source": [
    "res = sorted(res, key=lambda x:x[0])\n",
    "best_Cs = [re[-1] for re in res]\n",
    "\n",
    "probs = []\n",
    "pred_probs = LOO_pred_givenC(reg_X_std, reg_Y, Cs=best_Cs, is_prg=1)\n",
    "fpr, tpr, thresholds = roc_curve(reg_Y, pred_probs, pos_label=1)\n",
    "auc = roc_auc_score(reg_Y, pred_probs)\n",
    "\n",
    "plt.title(f\"ROC (AUC:{auc:.3f})\")\n",
    "plt.plot(fpr, tpr)"
   ]
  },
  {
   "cell_type": "markdown",
   "id": "181cb65d",
   "metadata": {},
   "source": [
    "### AUC under 10000 CV"
   ]
  },
  {
   "cell_type": "code",
   "execution_count": 101,
   "id": "16ed0b49",
   "metadata": {
    "ExecuteTime": {
     "end_time": "2022-10-28T22:27:42.644615Z",
     "start_time": "2022-10-28T22:27:26.437688Z"
    }
   },
   "outputs": [
    {
     "name": "stderr",
     "output_type": "stream",
     "text": [
      "100%|███████████████████████████████████████████████████████████████████████████████████████████████████████████████████████████████████| 10000/10000 [00:16<00:00, 617.39it/s]"
     ]
    },
    {
     "name": "stdout",
     "output_type": "stream",
     "text": [
      "The mean of AUC under 1000 repetitions is 0.796 and the standard deviation is 0.070, the 95% CI is (0.648, 0.920).\n"
     ]
    },
    {
     "name": "stderr",
     "output_type": "stream",
     "text": [
      "\n"
     ]
    }
   ],
   "source": [
    "# AUC under repetitions\n",
    "np.random.seed(0)\n",
    "nobs = reg_X_std.shape[0]\n",
    "rep_aucs = []\n",
    "for j in tqdm(range(10000)):\n",
    "    test_idxs = np.random.choice(nobs, int(nobs/5), False)\n",
    "    train_idxs = np.delete(np.arange(nobs), test_idxs)\n",
    "    clf = LogisticRegression(penalty=paras.penalty, random_state=0, C=gopt_C, solver=\"liblinear\")\n",
    "    clf.fit(reg_X_std[train_idxs], reg_Y[train_idxs])\n",
    "    cur_eprobs = clf_2probs(clf, reg_X_std[test_idxs, :])\n",
    "    cur_auc = roc_auc_score(reg_Y[test_idxs], cur_eprobs)\n",
    "    rep_aucs.append(cur_auc)\n",
    "mean_auc = np.mean(rep_aucs)\n",
    "std_auc = np.std(rep_aucs)\n",
    "print(f\"The mean of AUC under 1000 repetitions is {mean_auc:.3f} and the standard deviation is {std_auc:.3f}, \"\n",
    "      f\"the 95% CI is ({np.quantile(rep_aucs, 0.025):.3f}, {np.quantile(rep_aucs, 0.975):.3f}).\")"
   ]
  },
  {
   "cell_type": "markdown",
   "id": "fd99e793",
   "metadata": {},
   "source": [
    "### final fit  and bootstrap analysis"
   ]
  },
  {
   "cell_type": "code",
   "execution_count": 102,
   "id": "4ea2cf86",
   "metadata": {
    "ExecuteTime": {
     "end_time": "2022-10-28T22:27:42.648715Z",
     "start_time": "2022-10-28T22:27:42.645692Z"
    }
   },
   "outputs": [],
   "source": [
    "final_clf = LogisticRegression(random_state=0, C=gopt_C, penalty=\"l2\", solver=\"liblinear\").fit(reg_X_std, reg_Y)\n",
    "final_coefs = final_clf.coef_.reshape(-1)"
   ]
  },
  {
   "cell_type": "code",
   "execution_count": 103,
   "id": "c941c034",
   "metadata": {
    "ExecuteTime": {
     "end_time": "2022-10-28T22:27:52.489224Z",
     "start_time": "2022-10-28T22:27:42.649453Z"
    }
   },
   "outputs": [
    {
     "name": "stderr",
     "output_type": "stream",
     "text": [
      "100%|██████████████████████████████████████████████████████████████████████████████████████████████████████████████████████████████████| 10000/10000 [00:09<00:00, 1020.16it/s]\n"
     ]
    }
   ],
   "source": [
    "# bootstrap CIs\n",
    "np.random.seed(1)\n",
    "rep_num = 10000\n",
    "parass_boot = []\n",
    "for _ in trange(rep_num):\n",
    "    boot_idx = np.random.choice(len(reg_Y), len(reg_Y))\n",
    "    cur_Y_boot = reg_Y[boot_idx]\n",
    "    cur_X_boot = reg_X_std[boot_idx]\n",
    "    cur_clf = LogisticRegression(penalty=paras.penalty, random_state=0, C=gopt_C, solver=\"liblinear\")\n",
    "    cur_clf.fit(cur_X_boot, cur_Y_boot)\n",
    "    paras_boot = cur_clf.coef_.reshape(-1)\n",
    "    parass_boot.append(paras_boot)"
   ]
  },
  {
   "cell_type": "code",
   "execution_count": 104,
   "id": "83fb0784",
   "metadata": {
    "ExecuteTime": {
     "end_time": "2022-10-28T22:27:52.509259Z",
     "start_time": "2022-10-28T22:27:52.490456Z"
    }
   },
   "outputs": [],
   "source": [
    "from scipy.stats import norm\n",
    "parass_boot = np.array(parass_boot)\n",
    "# 95% CIs\n",
    "lows, ups = final_coefs-parass_boot.std(axis=0)*1.96, final_coefs+parass_boot.std(axis=0)*1.96\n",
    "keep_idx_boot = np.bitwise_or(lows >0,  ups < 0)\n",
    "keep_idx_id_boot =  np.where(keep_idx_boot)[0]\n",
    "\n",
    "# Pvalue\n",
    "test_stat_boot = final_coefs/parass_boot.std(axis=0)\n",
    "norm_rv = norm()\n",
    "# to be consistent, I think we should use two-sided pvalue\n",
    "boot_pvs = 2*(1-norm_rv.cdf(np.abs(test_stat_boot)))"
   ]
  },
  {
   "cell_type": "code",
   "execution_count": 105,
   "id": "b4501d46",
   "metadata": {
    "ExecuteTime": {
     "end_time": "2022-10-28T22:27:52.650534Z",
     "start_time": "2022-10-28T22:27:52.510413Z"
    }
   },
   "outputs": [
    {
     "data": {
      "image/png": "[encoded data removed]",
      "text/plain": [
       "<Figure size 1080x288 with 1 Axes>"
      ]
     },
     "metadata": {
      "needs_background": "light"
     },
     "output_type": "display_data"
    }
   ],
   "source": [
    "xlabs = np.concatenate([REGION_NAMES, [\"Rank\", \"Num of cpts\"]])\n",
    "#xlabs = np.concatenate([region_names, [\"Rank\", \"Num of cpts\", \"Lambda\"]])\n",
    "plt.figure(figsize=[15, 4])\n",
    "plt.fill_between(list(range(len(lows))), lows, ups, color=\"red\", alpha=.5)\n",
    "plt.title(\"The 95% CI of the parameters\")\n",
    "_ = plt.xticks(keep_idx_id_boot, xlabs[keep_idx_id_boot], rotation=30, fontsize=8)"
   ]
  },
  {
   "cell_type": "code",
   "execution_count": 106,
   "id": "9c09c3ec",
   "metadata": {
    "ExecuteTime": {
     "end_time": "2022-10-28T22:27:52.655895Z",
     "start_time": "2022-10-28T22:27:52.651532Z"
    }
   },
   "outputs": [
    {
     "name": "stdout",
     "output_type": "stream",
     "text": [
      "Empty DataFrame\n",
      "Columns: [Feature, Parameters, Lower, Upper, Pvalues]\n",
      "Index: []\n"
     ]
    }
   ],
   "source": [
    "# Bootstrap p value and CI are consistent\n",
    "tmp_idx = np.bitwise_xor(boot_pvs <= 0.05, keep_idx_boot)\n",
    "res_tb = {\n",
    "   \"Feature\" : xlabs[tmp_idx],  \n",
    "    \"Parameters\": final_coefs[tmp_idx],\n",
    "    \"Lower\": lows[tmp_idx],\n",
    "    \"Upper\": ups[tmp_idx],\n",
    "    \"Pvalues\": boot_pvs[tmp_idx]\n",
    "}\n",
    "pd.set_option(\"display.precision\", 3)\n",
    "res_tb = pd.DataFrame(res_tb)\n",
    "print(res_tb)"
   ]
  },
  {
   "cell_type": "code",
   "execution_count": 107,
   "id": "e9e36de9",
   "metadata": {
    "ExecuteTime": {
     "end_time": "2022-10-28T22:27:52.684635Z",
     "start_time": "2022-10-28T22:27:52.656821Z"
    }
   },
   "outputs": [
    {
     "name": "stdout",
     "output_type": "stream",
     "text": [
      "                   Feature  Parameters   Lower   Upper  Pvalues\n",
      "0    L-Caudalmiddlefrontal      0.0326  0.0047  0.0605   0.0222\n",
      "1                 L-Cuneus     -0.0364 -0.0589 -0.0140   0.0014\n",
      "2               L-Fusiform      0.0827  0.0415  0.1240   0.0001\n",
      "3       L-Inferiorparietal      0.0422  0.0113  0.0730   0.0075\n",
      "4       L-Inferiortemporal      0.0653  0.0229  0.1077   0.0026\n",
      "5       L-Isthmuscingulate     -0.0290 -0.0552 -0.0029   0.0297\n",
      "6       L-Lateraloccipital      0.0626  0.0256  0.0997   0.0009\n",
      "7        L-Parahippocampal      0.0634  0.0320  0.0948   0.0001\n",
      "8          L-Parsorbitalis      0.0422  0.0105  0.0739   0.0090\n",
      "9   L-Rostralmiddlefrontal     -0.0486 -0.0783 -0.0188   0.0014\n",
      "10              R-Bankssts      0.0435  0.0050  0.0821   0.0270\n",
      "11   R-Caudalmiddlefrontal      0.0411  0.0126  0.0696   0.0047\n",
      "12      R-Inferiortemporal      0.0384  0.0055  0.0714   0.0221\n",
      "13           R-Postcentral     -0.0444 -0.0788 -0.0101   0.0113\n",
      "14            R-Precentral     -0.0527 -0.0831 -0.0223   0.0007\n",
      "15          R-Temporalpole      0.0529  0.0113  0.0945   0.0126\n",
      "16    R-Transversetemporal     -0.0598 -0.0929 -0.0267   0.0004\n",
      "17                    Rank      0.1064  0.0335  0.1793   0.0042\n",
      "18             Num of cpts     -0.2878 -0.3587 -0.2169   0.0000\n"
     ]
    }
   ],
   "source": [
    "#  output table\n",
    "res_tb = {\n",
    "   \"Feature\" : xlabs[keep_idx_boot],  \n",
    "    \"Parameters\": final_coefs[keep_idx_boot],\n",
    "    \"Lower\": lows[keep_idx_boot],\n",
    "    \"Upper\": ups[keep_idx_boot],\n",
    "    \"Pvalues\": boot_pvs[keep_idx_boot]\n",
    "}\n",
    "#pd.set_option(\"display.precision\", 3)\n",
    "pd.set_option('display.float_format',lambda x : '%.4f' % x)\n",
    "res_tb = pd.DataFrame(res_tb)\n",
    "print(res_tb)"
   ]
  },
  {
   "cell_type": "code",
   "execution_count": 108,
   "id": "dd117b91",
   "metadata": {
    "ExecuteTime": {
     "end_time": "2022-10-28T22:28:05.339860Z",
     "start_time": "2022-10-28T22:28:05.178947Z"
    }
   },
   "outputs": [
    {
     "name": "stdout",
     "output_type": "stream",
     "text": [
      "51 51\n"
     ]
    }
   ],
   "source": [
    "# final parameter, no abs, remove pv <0.05\n",
    "mm_pn_paras = minmax(np.abs(final_coefs[:68]))\n",
    "nlog_pvs = -np.log10(boot_pvs[:68])\n",
    "mm_pn_paras[nlog_pvs < -np.log10(0.05)] = 0\n",
    "out_paras = U_2brain_vec(reorder_U(mm_pn_paras))\n",
    "print(np.sum(mm_pn_paras ==0), np.sum(nlog_pvs < -np.log10(0.05)))\n",
    "np.savetxt(RES_ROOT/\"./finalOPParas1.txt\", out_paras)\n",
    "#pd.DataFrame({\"Name\": region_names, \"Vec\": mm_pn_paras}).to_csv(paras.res_dir/\"./finalOPParas1.csv\", index=False)"
   ]
  },
  {
   "cell_type": "code",
   "execution_count": 109,
   "id": "43b1d09e",
   "metadata": {
    "ExecuteTime": {
     "end_time": "2022-10-28T22:28:36.819803Z",
     "start_time": "2022-10-28T22:28:36.577406Z"
    }
   },
   "outputs": [],
   "source": [
    "!cp ../../results/finalOPParas1.txt  ../../../../Documents/MATLAB/gTVDN/map_fils/"
   ]
  },
  {
   "cell_type": "code",
   "execution_count": 91,
   "id": "709f8bf1",
   "metadata": {
    "ExecuteTime": {
     "end_time": "2022-10-28T22:26:32.453102Z",
     "start_time": "2022-10-28T22:26:32.449594Z"
    }
   },
   "outputs": [
    {
     "data": {
      "text/plain": [
       "array([0.        , 0.        , 0.        , 0.        , 0.        ,\n",
       "       0.        , 0.95884695, 0.53126384, 1.        , 0.        ,\n",
       "       0.        , 0.        , 0.        , 0.        , 0.        ,\n",
       "       0.        , 0.        , 0.62393368, 0.        , 0.        ,\n",
       "       0.        , 0.        , 0.        , 0.        , 0.        ,\n",
       "       0.        , 0.        , 0.        , 0.        , 0.        ,\n",
       "       0.        , 0.        , 0.        , 0.        , 0.82119183,\n",
       "       0.        , 0.53841165, 0.        , 0.        , 0.        ,\n",
       "       0.72429493, 0.        , 0.        , 0.        , 0.        ,\n",
       "       0.        , 0.        , 0.        , 0.        , 0.        ,\n",
       "       0.        , 0.        , 0.        , 0.        , 0.        ,\n",
       "       0.        , 0.        , 0.        , 0.56293752, 0.        ,\n",
       "       0.        , 0.        , 0.        , 0.        , 0.        ,\n",
       "       0.        , 0.73304072, 0.        ])"
      ]
     },
     "execution_count": 91,
     "metadata": {},
     "output_type": "execute_result"
    }
   ],
   "source": [
    "mm_pn_paras"
   ]
  },
  {
   "cell_type": "code",
   "execution_count": 61,
   "id": "2531bf75",
   "metadata": {
    "ExecuteTime": {
     "end_time": "2022-10-27T04:45:58.778373Z",
     "start_time": "2022-10-27T04:45:58.769375Z"
    }
   },
   "outputs": [
    {
     "data": {
      "text/plain": [
       "array([0.        , 0.50270761, 0.        , 0.        , 0.78842115,\n",
       "       0.        , 0.60156815, 0.        , 0.        , 0.        ,\n",
       "       0.8871782 , 0.51729537, 0.        , 0.        , 0.        ,\n",
       "       0.        , 0.        , 0.        , 0.        , 0.        ,\n",
       "       0.30026353, 0.        , 0.        , 0.        , 0.        ,\n",
       "       0.        , 0.        , 0.        , 0.44250063, 0.        ,\n",
       "       0.52729224, 0.        , 0.        , 0.66177418, 0.        ,\n",
       "       0.        , 0.        , 0.        , 0.        , 0.        ,\n",
       "       0.        , 0.55824172, 0.        , 0.        , 0.81933806,\n",
       "       0.        , 0.        , 0.        , 0.        , 0.        ,\n",
       "       0.        , 0.        , 0.        , 0.        , 0.        ,\n",
       "       0.        , 1.        , 0.69050099, 0.94216946, 0.55215331,\n",
       "       0.        , 0.        , 0.        , 0.        , 0.        ,\n",
       "       0.        , 0.        , 0.6763868 ])"
      ]
     },
     "execution_count": 61,
     "metadata": {},
     "output_type": "execute_result"
    }
   ],
   "source": [
    "mm_pn_paras"
   ]
  },
  {
   "cell_type": "markdown",
   "id": "016449f1",
   "metadata": {},
   "source": [
    "## Save"
   ]
  },
  {
   "cell_type": "code",
   "execution_count": null,
   "id": "562c873c",
   "metadata": {
    "ExecuteTime": {
     "start_time": "2022-11-01T22:25:05.091Z"
    }
   },
   "outputs": [
    {
     "name": "stdout",
     "output_type": "stream",
     "text": [
      "Save to /data/rajlab1/user_data/jin/MyResearch/gTVDN/notebooks/method1/../../mypkg/../results/CPD_results_detect_first.pkl\n"
     ]
    }
   ],
   "source": [
    "results.post_results = post_results\n",
    "save_pkl(RES_ROOT/\"./CPD_results_detect_first.pkl\", results, True)"
   ]
  },
  {
   "cell_type": "code",
   "execution_count": null,
   "id": "80121678",
   "metadata": {},
   "outputs": [],
   "source": []
  }
 ],
 "metadata": {
  "kernelspec": {
   "display_name": "Python 3 (ipykernel)",
   "language": "python",
   "name": "python3"
  },
  "language_info": {
   "codemirror_mode": {
    "name": "ipython",
    "version": 3
   },
   "file_extension": ".py",
   "mimetype": "text/x-python",
   "name": "python",
   "nbconvert_exporter": "python",
   "pygments_lexer": "ipython3",
   "version": "3.9.7"
  },
  "toc": {
   "base_numbering": 1,
   "nav_menu": {},
   "number_sections": true,
   "sideBar": true,
   "skip_h1_title": false,
   "title_cell": "Table of Contents",
   "title_sidebar": "Contents",
   "toc_cell": false,
   "toc_position": {},
   "toc_section_display": true,
   "toc_window_display": true
  }
 },
 "nbformat": 4,
 "nbformat_minor": 5
}
