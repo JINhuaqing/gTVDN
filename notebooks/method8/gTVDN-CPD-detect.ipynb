{
 "cells": [
  {
   "cell_type": "markdown",
   "metadata": {},
   "source": [
    "In this file, we detect the switching pts without rank deduction. \n",
    "\n",
    "For CPD, we sum the Amat for each subject and\n",
    "\n",
    "do orthogonalization for both B1 (U) and B2 (V).\n",
    "\n",
    "And here I use both AD and ctrl to get the U and V"
   ]
  },
  {
   "cell_type": "code",
   "execution_count": 1,
   "metadata": {
    "ExecuteTime": {
     "end_time": "2023-02-13T06:17:41.993299Z",
     "start_time": "2023-02-13T06:17:41.315540Z"
    }
   },
   "outputs": [],
   "source": [
    "import scipy\n",
    "import mat73\n",
    "import pickle\n",
    "\n",
    "import numpy as np\n",
    "import pandas as pd\n",
    "import matplotlib.pyplot as plt\n",
    "import seaborn as sns\n",
    "\n",
    "from pathlib import Path\n",
    "from scipy.io import loadmat\n",
    "from tqdm import trange, tqdm\n",
    "from functools import partial\n",
    "from pprint import pprint\n",
    "\n",
    "from collections import defaultdict as ddict\n",
    "from easydict import EasyDict as edict\n",
    "\n",
    "\n",
    "%matplotlib inline"
   ]
  },
  {
   "cell_type": "code",
   "execution_count": 2,
   "metadata": {
    "ExecuteTime": {
     "end_time": "2023-02-13T06:17:43.700791Z",
     "start_time": "2023-02-13T06:17:43.685504Z"
    }
   },
   "outputs": [],
   "source": [
    "# import my own functions\n",
    "import sys\n",
    "sys.path.append(\"../../mypkg\")\n",
    "import importlib\n",
    "\n",
    "# paras\n",
    "import paras\n",
    "importlib.reload(paras);\n",
    "from paras import paras\n",
    "\n",
    "# some useful constants\n",
    "import constants\n",
    "importlib.reload(constants)\n",
    "from constants import REGION_NAMES, REGION_NAMES_WLOBE, RES_ROOT, DATA_ROOT, FIG_ROOT\n",
    "\n",
    "plt.style.use(FIG_ROOT/\"base.mplstyle\")"
   ]
  },
  {
   "cell_type": "code",
   "execution_count": 3,
   "metadata": {
    "ExecuteTime": {
     "end_time": "2023-02-13T06:17:46.166265Z",
     "start_time": "2023-02-13T06:17:45.646896Z"
    }
   },
   "outputs": [],
   "source": [
    "# gtvdn\n",
    "import gtvdn.gtvdn_det_CPD\n",
    "importlib.reload(gtvdn.gtvdn_det_CPD)\n",
    "from gtvdn.gtvdn_det_CPD import screening_4CPD, dyna_prog_4CPD\n",
    "\n",
    "import gtvdn.gtvdn_post\n",
    "importlib.reload(gtvdn.gtvdn_post)\n",
    "from gtvdn.gtvdn_post import update_kp\n",
    "\n",
    "import gtvdn.gtvdn_pre\n",
    "importlib.reload(gtvdn.gtvdn_pre)\n",
    "from gtvdn.gtvdn_pre import preprocess_MEG\n",
    "\n",
    "import gtvdn.gtvdn_utils\n",
    "importlib.reload(gtvdn.gtvdn_utils)\n",
    "from gtvdn.gtvdn_utils import get_bspline_est , get_newdata, get_Amats, get_Nlogk"
   ]
  },
  {
   "cell_type": "code",
   "execution_count": 4,
   "metadata": {
    "ExecuteTime": {
     "end_time": "2023-02-13T06:17:47.824091Z",
     "start_time": "2023-02-13T06:17:47.538761Z"
    }
   },
   "outputs": [],
   "source": [
    "# utils\n",
    "import utils.matrix\n",
    "importlib.reload(utils.matrix)\n",
    "from utils.matrix import eig_sorted\n",
    "\n",
    "import utils.misc\n",
    "importlib.reload(utils.misc)\n",
    "from utils.misc import paras2name, cumsum_cutoff, save_pkl_dict2folder, load_pkl_folder2dict\n",
    "\n",
    "import utils.projection\n",
    "importlib.reload(utils.projection)\n",
    "from utils.projection import euclidean_proj_l1ball\n",
    "\n",
    "import utils.standardize\n",
    "importlib.reload(utils.standardize)\n",
    "from utils.standardize import minmax, minmax_mat, minmax_pn\n",
    "\n",
    "import utils.tensor\n",
    "importlib.reload(utils.tensor)\n",
    "from utils.tensor import decompose_three_way_orth, sort_orthCPD, decompose_three_way_fix\n",
    "\n",
    "import utils.brain_plot\n",
    "importlib.reload(utils.brain_plot)\n",
    "from utils.brain_plot import reorder_U, U_2brain_vec"
   ]
  },
  {
   "cell_type": "code",
   "execution_count": null,
   "metadata": {},
   "outputs": [],
   "source": []
  },
  {
   "cell_type": "markdown",
   "metadata": {},
   "source": [
    "## Some fns"
   ]
  },
  {
   "cell_type": "code",
   "execution_count": 5,
   "metadata": {
    "ExecuteTime": {
     "end_time": "2023-02-13T06:17:50.824308Z",
     "start_time": "2023-02-13T06:17:50.817183Z"
    }
   },
   "outputs": [],
   "source": [
    "# truncate small value in vec\n",
    "def _cumsum_trunc(vec, cutoff=0.9):\n",
    "    vec = vec.copy()\n",
    "    idxs = cumsum_cutoff(vec, cutoff)\n",
    "    counter_idxs = np.delete(np.arange(len(vec)), idxs)\n",
    "    vec[counter_idxs] = 0\n",
    "    return vec"
   ]
  },
  {
   "cell_type": "code",
   "execution_count": 21,
   "metadata": {
    "ExecuteTime": {
     "end_time": "2023-02-13T06:30:53.673831Z",
     "start_time": "2023-02-13T06:30:53.656764Z"
    }
   },
   "outputs": [],
   "source": [
    "# plot the corrmat with 7 canonical nets\n",
    "def _corr_plot(vecs, cutoff=0.05, trun_fn=lambda x:x, trans_fn=np.abs):\n",
    "    vecs = np.array(vecs)\n",
    "    if vecs.shape[0] != 68:\n",
    "        vecs = vecs.T\n",
    "    assert vecs.shape[0] == 68\n",
    "    corrMat = np.zeros((7, vecs.shape[-1]))\n",
    "    for ix in range(vecs.shape[-1]):\n",
    "        curU = vecs[:, ix]\n",
    "        curU = trun_fn(curU)\n",
    "        for iy, kz in enumerate(_paras.canon_net_names):\n",
    "            curV = _paras.canon_nets[kz]\n",
    "            curV = trun_fn(curV)\n",
    "            corr_v, pv = scipy.stats.pearsonr(curU, curV)\n",
    "            if pv <= cutoff:\n",
    "                corrMat[iy, ix] = corr_v\n",
    "            else:\n",
    "                corrMat[iy, ix] = 0\n",
    "            \n",
    "    plt.figure(figsize=[15, 5])\n",
    "    trans_corrMat = trans_fn(corrMat)\n",
    "    sns.heatmap(trans_corrMat,  yticklabels=_paras.canon_net_names, \n",
    "                xticklabels=np.arange(1, vecs.shape[-1]+1),\n",
    "                cmap=\"bwr\", center=0, \n",
    "                vmin=-1, vmax=1, annot=np.round(trans_corrMat, 2))\n",
    "    return corrMat"
   ]
  },
  {
   "cell_type": "markdown",
   "metadata": {},
   "source": [
    "## Set parameters"
   ]
  },
  {
   "cell_type": "code",
   "execution_count": 7,
   "metadata": {
    "ExecuteTime": {
     "end_time": "2023-02-13T06:25:47.852945Z",
     "start_time": "2023-02-13T06:25:47.814754Z"
    }
   },
   "outputs": [
    {
     "name": "stdout",
     "output_type": "stream",
     "text": [
      "{'Cs': array([1.0e+02, 2.5e+01, 1.0e+01, 5.0e+00, 2.0e+00, 1.0e+00, 5.0e-01,\n",
      "       2.0e-01, 1.0e-01, 5.0e-02, 1.0e-02]),\n",
      " 'L': 100.0,\n",
      " 'Lmin': 200,\n",
      " 'T': 2,\n",
      " 'cur_dir': PosixPath('/gTVDN/notebooks/method8/../../mypkg'),\n",
      " 'cutoff': 0.6,\n",
      " 'data_dir': PosixPath('../data'),\n",
      " 'decimate_rate': 5,\n",
      " 'downsample_rate': 20,\n",
      " 'fct': 0.5,\n",
      " 'fig_dir': PosixPath('../figs'),\n",
      " 'is_detrend': True,\n",
      " 'kappa': 3.21,\n",
      " 'kps': array([1.        , 1.003003  , 1.00600601, 1.00900901, 1.01201201,\n",
      "       1.01501502, 1.01801802, 1.02102102, 1.02402402, 1.02702703,\n",
      "       1.03003003, 1.03303303, 1.03603604, 1.03903904, 1.04204204,\n",
      "       1.04504505, 1.04804805, 1.05105105, 1.05405405, 1.05705706,\n",
      "       1.06006006, 1.06306306, 1.06606607, 1.06906907, 1.07207207,\n",
      "       1.07507508, 1.07807808, 1.08108108, 1.08408408, 1.08708709,\n",
      "       1.09009009, 1.09309309, 1.0960961 , 1.0990991 , 1.1021021 ,\n",
      "       1.10510511, 1.10810811, 1.11111111, 1.11411411, 1.11711712,\n",
      "       1.12012012, 1.12312312, 1.12612613, 1.12912913, 1.13213213,\n",
      "       1.13513514, 1.13813814, 1.14114114, 1.14414414, 1.14714715,\n",
      "       1.15015015, 1.15315315, 1.15615616, 1.15915916, 1.16216216,\n",
      "       1.16516517, 1.16816817, 1.17117117, 1.17417417, 1.17717718,\n",
      "       1.18018018, 1.18318318, 1.18618619, 1.18918919, 1.19219219,\n",
      "       1.1951952 , 1.1981982 , 1.2012012 , 1.2042042 , 1.20720721,\n",
      "       1.21021021, 1.21321321, 1.21621622, 1.21921922, 1.22222222,\n",
      "       1.22522523, 1.22822823, 1.23123123, 1.23423423, 1.23723724,\n",
      "       1.24024024, 1.24324324, 1.24624625, 1.24924925, 1.25225225,\n",
      "       1.25525526, 1.25825826, 1.26126126, 1.26426426, 1.26726727,\n",
      "       1.27027027, 1.27327327, 1.27627628, 1.27927928, 1.28228228,\n",
      "       1.28528529, 1.28828829, 1.29129129, 1.29429429, 1.2972973 ,\n",
      "       1.3003003 , 1.3033033 , 1.30630631, 1.30930931, 1.31231231,\n",
      "       1.31531532, 1.31831832, 1.32132132, 1.32432432, 1.32732733,\n",
      "       1.33033033, 1.33333333, 1.33633634, 1.33933934, 1.34234234,\n",
      "       1.34534535, 1.34834835, 1.35135135, 1.35435435, 1.35735736,\n",
      "       1.36036036, 1.36336336, 1.36636637, 1.36936937, 1.37237237,\n",
      "       1.37537538, 1.37837838, 1.38138138, 1.38438438, 1.38738739,\n",
      "       1.39039039, 1.39339339, 1.3963964 , 1.3993994 , 1.4024024 ,\n",
      "       1.40540541, 1.40840841, 1.41141141, 1.41441441, 1.41741742,\n",
      "       1.42042042, 1.42342342, 1.42642643, 1.42942943, 1.43243243,\n",
      "       1.43543544, 1.43843844, 1.44144144, 1.44444444, 1.44744745,\n",
      "       1.45045045, 1.45345345, 1.45645646, 1.45945946, 1.46246246,\n",
      "       1.46546547, 1.46846847, 1.47147147, 1.47447447, 1.47747748,\n",
      "       1.48048048, 1.48348348, 1.48648649, 1.48948949, 1.49249249,\n",
      "       1.4954955 , 1.4984985 , 1.5015015 , 1.5045045 , 1.50750751,\n",
      "       1.51051051, 1.51351351, 1.51651652, 1.51951952, 1.52252252,\n",
      "       1.52552553, 1.52852853, 1.53153153, 1.53453453, 1.53753754,\n",
      "       1.54054054, 1.54354354, 1.54654655, 1.54954955, 1.55255255,\n",
      "       1.55555556, 1.55855856, 1.56156156, 1.56456456, 1.56756757,\n",
      "       1.57057057, 1.57357357, 1.57657658, 1.57957958, 1.58258258,\n",
      "       1.58558559, 1.58858859, 1.59159159, 1.59459459, 1.5975976 ,\n",
      "       1.6006006 , 1.6036036 , 1.60660661, 1.60960961, 1.61261261,\n",
      "       1.61561562, 1.61861862, 1.62162162, 1.62462462, 1.62762763,\n",
      "       1.63063063, 1.63363363, 1.63663664, 1.63963964, 1.64264264,\n",
      "       1.64564565, 1.64864865, 1.65165165, 1.65465465, 1.65765766,\n",
      "       1.66066066, 1.66366366, 1.66666667, 1.66966967, 1.67267267,\n",
      "       1.67567568, 1.67867868, 1.68168168, 1.68468468, 1.68768769,\n",
      "       1.69069069, 1.69369369, 1.6966967 , 1.6996997 , 1.7027027 ,\n",
      "       1.70570571, 1.70870871, 1.71171171, 1.71471471, 1.71771772,\n",
      "       1.72072072, 1.72372372, 1.72672673, 1.72972973, 1.73273273,\n",
      "       1.73573574, 1.73873874, 1.74174174, 1.74474474, 1.74774775,\n",
      "       1.75075075, 1.75375375, 1.75675676, 1.75975976, 1.76276276,\n",
      "       1.76576577, 1.76876877, 1.77177177, 1.77477477, 1.77777778,\n",
      "       1.78078078, 1.78378378, 1.78678679, 1.78978979, 1.79279279,\n",
      "       1.7957958 , 1.7987988 , 1.8018018 , 1.8048048 , 1.80780781,\n",
      "       1.81081081, 1.81381381, 1.81681682, 1.81981982, 1.82282282,\n",
      "       1.82582583, 1.82882883, 1.83183183, 1.83483483, 1.83783784,\n",
      "       1.84084084, 1.84384384, 1.84684685, 1.84984985, 1.85285285,\n",
      "       1.85585586, 1.85885886, 1.86186186, 1.86486486, 1.86786787,\n",
      "       1.87087087, 1.87387387, 1.87687688, 1.87987988, 1.88288288,\n",
      "       1.88588589, 1.88888889, 1.89189189, 1.89489489, 1.8978979 ,\n",
      "       1.9009009 , 1.9039039 , 1.90690691, 1.90990991, 1.91291291,\n",
      "       1.91591592, 1.91891892, 1.92192192, 1.92492492, 1.92792793,\n",
      "       1.93093093, 1.93393393, 1.93693694, 1.93993994, 1.94294294,\n",
      "       1.94594595, 1.94894895, 1.95195195, 1.95495495, 1.95795796,\n",
      "       1.96096096, 1.96396396, 1.96696697, 1.96996997, 1.97297297,\n",
      "       1.97597598, 1.97897898, 1.98198198, 1.98498498, 1.98798799,\n",
      "       1.99099099, 1.99399399, 1.996997  , 2.        , 2.003003  ,\n",
      "       2.00600601, 2.00900901, 2.01201201, 2.01501502, 2.01801802,\n",
      "       2.02102102, 2.02402402, 2.02702703, 2.03003003, 2.03303303,\n",
      "       2.03603604, 2.03903904, 2.04204204, 2.04504505, 2.04804805,\n",
      "       2.05105105, 2.05405405, 2.05705706, 2.06006006, 2.06306306,\n",
      "       2.06606607, 2.06906907, 2.07207207, 2.07507508, 2.07807808,\n",
      "       2.08108108, 2.08408408, 2.08708709, 2.09009009, 2.09309309,\n",
      "       2.0960961 , 2.0990991 , 2.1021021 , 2.10510511, 2.10810811,\n",
      "       2.11111111, 2.11411411, 2.11711712, 2.12012012, 2.12312312,\n",
      "       2.12612613, 2.12912913, 2.13213213, 2.13513514, 2.13813814,\n",
      "       2.14114114, 2.14414414, 2.14714715, 2.15015015, 2.15315315,\n",
      "       2.15615616, 2.15915916, 2.16216216, 2.16516517, 2.16816817,\n",
      "       2.17117117, 2.17417417, 2.17717718, 2.18018018, 2.18318318,\n",
      "       2.18618619, 2.18918919, 2.19219219, 2.1951952 , 2.1981982 ,\n",
      "       2.2012012 , 2.2042042 , 2.20720721, 2.21021021, 2.21321321,\n",
      "       2.21621622, 2.21921922, 2.22222222, 2.22522523, 2.22822823,\n",
      "       2.23123123, 2.23423423, 2.23723724, 2.24024024, 2.24324324,\n",
      "       2.24624625, 2.24924925, 2.25225225, 2.25525526, 2.25825826,\n",
      "       2.26126126, 2.26426426, 2.26726727, 2.27027027, 2.27327327,\n",
      "       2.27627628, 2.27927928, 2.28228228, 2.28528529, 2.28828829,\n",
      "       2.29129129, 2.29429429, 2.2972973 , 2.3003003 , 2.3033033 ,\n",
      "       2.30630631, 2.30930931, 2.31231231, 2.31531532, 2.31831832,\n",
      "       2.32132132, 2.32432432, 2.32732733, 2.33033033, 2.33333333,\n",
      "       2.33633634, 2.33933934, 2.34234234, 2.34534535, 2.34834835,\n",
      "       2.35135135, 2.35435435, 2.35735736, 2.36036036, 2.36336336,\n",
      "       2.36636637, 2.36936937, 2.37237237, 2.37537538, 2.37837838,\n",
      "       2.38138138, 2.38438438, 2.38738739, 2.39039039, 2.39339339,\n",
      "       2.3963964 , 2.3993994 , 2.4024024 , 2.40540541, 2.40840841,\n",
      "       2.41141141, 2.41441441, 2.41741742, 2.42042042, 2.42342342,\n",
      "       2.42642643, 2.42942943, 2.43243243, 2.43543544, 2.43843844,\n",
      "       2.44144144, 2.44444444, 2.44744745, 2.45045045, 2.45345345,\n",
      "       2.45645646, 2.45945946, 2.46246246, 2.46546547, 2.46846847,\n",
      "       2.47147147, 2.47447447, 2.47747748, 2.48048048, 2.48348348,\n",
      "       2.48648649, 2.48948949, 2.49249249, 2.4954955 , 2.4984985 ,\n",
      "       2.5015015 , 2.5045045 , 2.50750751, 2.51051051, 2.51351351,\n",
      "       2.51651652, 2.51951952, 2.52252252, 2.52552553, 2.52852853,\n",
      "       2.53153153, 2.53453453, 2.53753754, 2.54054054, 2.54354354,\n",
      "       2.54654655, 2.54954955, 2.55255255, 2.55555556, 2.55855856,\n",
      "       2.56156156, 2.56456456, 2.56756757, 2.57057057, 2.57357357,\n",
      "       2.57657658, 2.57957958, 2.58258258, 2.58558559, 2.58858859,\n",
      "       2.59159159, 2.59459459, 2.5975976 , 2.6006006 , 2.6036036 ,\n",
      "       2.60660661, 2.60960961, 2.61261261, 2.61561562, 2.61861862,\n",
      "       2.62162162, 2.62462462, 2.62762763, 2.63063063, 2.63363363,\n",
      "       2.63663664, 2.63963964, 2.64264264, 2.64564565, 2.64864865,\n",
      "       2.65165165, 2.65465465, 2.65765766, 2.66066066, 2.66366366,\n",
      "       2.66666667, 2.66966967, 2.67267267, 2.67567568, 2.67867868,\n",
      "       2.68168168, 2.68468468, 2.68768769, 2.69069069, 2.69369369,\n",
      "       2.6966967 , 2.6996997 , 2.7027027 , 2.70570571, 2.70870871,\n",
      "       2.71171171, 2.71471471, 2.71771772, 2.72072072, 2.72372372,\n",
      "       2.72672673, 2.72972973, 2.73273273, 2.73573574, 2.73873874,\n",
      "       2.74174174, 2.74474474, 2.74774775, 2.75075075, 2.75375375,\n",
      "       2.75675676, 2.75975976, 2.76276276, 2.76576577, 2.76876877,\n",
      "       2.77177177, 2.77477477, 2.77777778, 2.78078078, 2.78378378,\n",
      "       2.78678679, 2.78978979, 2.79279279, 2.7957958 , 2.7987988 ,\n",
      "       2.8018018 , 2.8048048 , 2.80780781, 2.81081081, 2.81381381,\n",
      "       2.81681682, 2.81981982, 2.82282282, 2.82582583, 2.82882883,\n",
      "       2.83183183, 2.83483483, 2.83783784, 2.84084084, 2.84384384,\n",
      "       2.84684685, 2.84984985, 2.85285285, 2.85585586, 2.85885886,\n",
      "       2.86186186, 2.86486486, 2.86786787, 2.87087087, 2.87387387,\n",
      "       2.87687688, 2.87987988, 2.88288288, 2.88588589, 2.88888889,\n",
      "       2.89189189, 2.89489489, 2.8978979 , 2.9009009 , 2.9039039 ,\n",
      "       2.90690691, 2.90990991, 2.91291291, 2.91591592, 2.91891892,\n",
      "       2.92192192, 2.92492492, 2.92792793, 2.93093093, 2.93393393,\n",
      "       2.93693694, 2.93993994, 2.94294294, 2.94594595, 2.94894895,\n",
      "       2.95195195, 2.95495495, 2.95795796, 2.96096096, 2.96396396,\n",
      "       2.96696697, 2.96996997, 2.97297297, 2.97597598, 2.97897898,\n",
      "       2.98198198, 2.98498498, 2.98798799, 2.99099099, 2.99399399,\n",
      "       2.996997  , 3.        , 3.003003  , 3.00600601, 3.00900901,\n",
      "       3.01201201, 3.01501502, 3.01801802, 3.02102102, 3.02402402,\n",
      "       3.02702703, 3.03003003, 3.03303303, 3.03603604, 3.03903904,\n",
      "       3.04204204, 3.04504505, 3.04804805, 3.05105105, 3.05405405,\n",
      "       3.05705706, 3.06006006, 3.06306306, 3.06606607, 3.06906907,\n",
      "       3.07207207, 3.07507508, 3.07807808, 3.08108108, 3.08408408,\n",
      "       3.08708709, 3.09009009, 3.09309309, 3.0960961 , 3.0990991 ,\n",
      "       3.1021021 , 3.10510511, 3.10810811, 3.11111111, 3.11411411,\n",
      "       3.11711712, 3.12012012, 3.12312312, 3.12612613, 3.12912913,\n",
      "       3.13213213, 3.13513514, 3.13813814, 3.14114114, 3.14414414,\n",
      "       3.14714715, 3.15015015, 3.15315315, 3.15615616, 3.15915916,\n",
      "       3.16216216, 3.16516517, 3.16816817, 3.17117117, 3.17417417,\n",
      "       3.17717718, 3.18018018, 3.18318318, 3.18618619, 3.18918919,\n",
      "       3.19219219, 3.1951952 , 3.1981982 , 3.2012012 , 3.2042042 ,\n",
      "       3.20720721, 3.21021021, 3.21321321, 3.21621622, 3.21921922,\n",
      "       3.22222222, 3.22522523, 3.22822823, 3.23123123, 3.23423423,\n",
      "       3.23723724, 3.24024024, 3.24324324, 3.24624625, 3.24924925,\n",
      "       3.25225225, 3.25525526, 3.25825826, 3.26126126, 3.26426426,\n",
      "       3.26726727, 3.27027027, 3.27327327, 3.27627628, 3.27927928,\n",
      "       3.28228228, 3.28528529, 3.28828829, 3.29129129, 3.29429429,\n",
      "       3.2972973 , 3.3003003 , 3.3033033 , 3.30630631, 3.30930931,\n",
      "       3.31231231, 3.31531532, 3.31831832, 3.32132132, 3.32432432,\n",
      "       3.32732733, 3.33033033, 3.33333333, 3.33633634, 3.33933934,\n",
      "       3.34234234, 3.34534535, 3.34834835, 3.35135135, 3.35435435,\n",
      "       3.35735736, 3.36036036, 3.36336336, 3.36636637, 3.36936937,\n",
      "       3.37237237, 3.37537538, 3.37837838, 3.38138138, 3.38438438,\n",
      "       3.38738739, 3.39039039, 3.39339339, 3.3963964 , 3.3993994 ,\n",
      "       3.4024024 , 3.40540541, 3.40840841, 3.41141141, 3.41441441,\n",
      "       3.41741742, 3.42042042, 3.42342342, 3.42642643, 3.42942943,\n",
      "       3.43243243, 3.43543544, 3.43843844, 3.44144144, 3.44444444,\n",
      "       3.44744745, 3.45045045, 3.45345345, 3.45645646, 3.45945946,\n",
      "       3.46246246, 3.46546547, 3.46846847, 3.47147147, 3.47447447,\n",
      "       3.47747748, 3.48048048, 3.48348348, 3.48648649, 3.48948949,\n",
      "       3.49249249, 3.4954955 , 3.4984985 , 3.5015015 , 3.5045045 ,\n",
      "       3.50750751, 3.51051051, 3.51351351, 3.51651652, 3.51951952,\n",
      "       3.52252252, 3.52552553, 3.52852853, 3.53153153, 3.53453453,\n",
      "       3.53753754, 3.54054054, 3.54354354, 3.54654655, 3.54954955,\n",
      "       3.55255255, 3.55555556, 3.55855856, 3.56156156, 3.56456456,\n",
      "       3.56756757, 3.57057057, 3.57357357, 3.57657658, 3.57957958,\n",
      "       3.58258258, 3.58558559, 3.58858859, 3.59159159, 3.59459459,\n",
      "       3.5975976 , 3.6006006 , 3.6036036 , 3.60660661, 3.60960961,\n",
      "       3.61261261, 3.61561562, 3.61861862, 3.62162162, 3.62462462,\n",
      "       3.62762763, 3.63063063, 3.63363363, 3.63663664, 3.63963964,\n",
      "       3.64264264, 3.64564565, 3.64864865, 3.65165165, 3.65465465,\n",
      "       3.65765766, 3.66066066, 3.66366366, 3.66666667, 3.66966967,\n",
      "       3.67267267, 3.67567568, 3.67867868, 3.68168168, 3.68468468,\n",
      "       3.68768769, 3.69069069, 3.69369369, 3.6966967 , 3.6996997 ,\n",
      "       3.7027027 , 3.70570571, 3.70870871, 3.71171171, 3.71471471,\n",
      "       3.71771772, 3.72072072, 3.72372372, 3.72672673, 3.72972973,\n",
      "       3.73273273, 3.73573574, 3.73873874, 3.74174174, 3.74474474,\n",
      "       3.74774775, 3.75075075, 3.75375375, 3.75675676, 3.75975976,\n",
      "       3.76276276, 3.76576577, 3.76876877, 3.77177177, 3.77477477,\n",
      "       3.77777778, 3.78078078, 3.78378378, 3.78678679, 3.78978979,\n",
      "       3.79279279, 3.7957958 , 3.7987988 , 3.8018018 , 3.8048048 ,\n",
      "       3.80780781, 3.81081081, 3.81381381, 3.81681682, 3.81981982,\n",
      "       3.82282282, 3.82582583, 3.82882883, 3.83183183, 3.83483483,\n",
      "       3.83783784, 3.84084084, 3.84384384, 3.84684685, 3.84984985,\n",
      "       3.85285285, 3.85585586, 3.85885886, 3.86186186, 3.86486486,\n",
      "       3.86786787, 3.87087087, 3.87387387, 3.87687688, 3.87987988,\n",
      "       3.88288288, 3.88588589, 3.88888889, 3.89189189, 3.89489489,\n",
      "       3.8978979 , 3.9009009 , 3.9039039 , 3.90690691, 3.90990991,\n",
      "       3.91291291, 3.91591592, 3.91891892, 3.92192192, 3.92492492,\n",
      "       3.92792793, 3.93093093, 3.93393393, 3.93693694, 3.93993994,\n",
      "       3.94294294, 3.94594595, 3.94894895, 3.95195195, 3.95495495,\n",
      "       3.95795796, 3.96096096, 3.96396396, 3.96696697, 3.96996997,\n",
      "       3.97297297, 3.97597598, 3.97897898, 3.98198198, 3.98498498,\n",
      "       3.98798799, 3.99099099, 3.99399399, 3.996997  , 4.        ]),\n",
      " 'lamb': 0.0001,\n",
      " 'maxM': 20,\n",
      " 'num_ranks': 10,\n",
      " 'penalty': 'l2',\n",
      " 'r': 20,\n",
      " 'res_dir': PosixPath('../results'),\n",
      " 'wh': 20}\n"
     ]
    }
   ],
   "source": [
    "pprint(paras)"
   ]
  },
  {
   "cell_type": "code",
   "execution_count": 8,
   "metadata": {
    "ExecuteTime": {
     "end_time": "2023-02-13T06:25:49.370215Z",
     "start_time": "2023-02-13T06:25:49.364484Z"
    }
   },
   "outputs": [],
   "source": [
    "# in case you want to update any parameters\n",
    "paras.keys()\n",
    "paras.res_dir = RES_ROOT"
   ]
  },
  {
   "cell_type": "code",
   "execution_count": 9,
   "metadata": {
    "ExecuteTime": {
     "end_time": "2023-02-13T06:25:52.478893Z",
     "start_time": "2023-02-13T06:25:52.470624Z"
    }
   },
   "outputs": [
    {
     "name": "stdout",
     "output_type": "stream",
     "text": [
      "Save to /gTVDN/notebooks/method8/../../mypkg/../results/method8\n"
     ]
    }
   ],
   "source": [
    "# this parameters only for this file\n",
    "_paras = edict()\n",
    "_paras.folder_name = \"method8\"\n",
    "_paras.save_dir = RES_ROOT/_paras.folder_name\n",
    "print(f\"Save to {_paras.save_dir}\")\n",
    "if not _paras.save_dir.exists():\n",
    "    _paras.save_dir.mkdir()"
   ]
  },
  {
   "cell_type": "code",
   "execution_count": 10,
   "metadata": {
    "ExecuteTime": {
     "end_time": "2023-02-13T06:25:55.549828Z",
     "start_time": "2023-02-13T06:25:54.821876Z"
    }
   },
   "outputs": [
    {
     "name": "stdout",
     "output_type": "stream",
     "text": [
      "Load file /gTVDN/notebooks/method8/../../mypkg/../results/method8/dXXmats_AD.pkl\n",
      "Load file /gTVDN/notebooks/method8/../../mypkg/../results/method8/dXXmats_ctrl.pkl\n",
      "Load file /gTVDN/notebooks/method8/../../mypkg/../results/method8/Amats_AD.pkl\n",
      "Load file /gTVDN/notebooks/method8/../../mypkg/../results/method8/Amats_ctrl.pkl\n",
      "Load file /gTVDN/notebooks/method8/../../mypkg/../results/method8/CPDresult.pkl\n",
      "Load file /gTVDN/notebooks/method8/../../mypkg/../results/method8/nXmats_ctrl.pkl\n",
      "Load file /gTVDN/notebooks/method8/../../mypkg/../results/method8/nXmats_AD.pkl\n",
      "Load file /gTVDN/notebooks/method8/../../mypkg/../results/method8/ndXmats_ctrl.pkl\n",
      "Load file /gTVDN/notebooks/method8/../../mypkg/../results/method8/ndXmats_AD.pkl\n",
      "Load file /gTVDN/notebooks/method8/../../mypkg/../results/method8/can_pts_ctrls.pkl\n",
      "Load file /gTVDN/notebooks/method8/../../mypkg/../results/method8/can_pts_ADs.pkl\n",
      "Load file /gTVDN/notebooks/method8/../../mypkg/../results/method8/cpts_ctrls.pkl\n",
      "Load file /gTVDN/notebooks/method8/../../mypkg/../results/method8/cpts_ADs.pkl\n",
      "Load file /gTVDN/notebooks/method8/../../mypkg/../results/method8/post_paras.pkl\n",
      "Load file /gTVDN/notebooks/method8/../../mypkg/../results/method8/singular_vals_ADs.pkl\n",
      "Load file /gTVDN/notebooks/method8/../../mypkg/../results/method8/cpts_ADs_selected.pkl\n",
      "Load file /gTVDN/notebooks/method8/../../mypkg/../results/method8/dwells_ADs_selected.pkl\n",
      "Load file /gTVDN/notebooks/method8/../../mypkg/../results/method8/rank_ADs.pkl\n",
      "Load file /gTVDN/notebooks/method8/../../mypkg/../results/method8/singular_vals_ctrls.pkl\n",
      "Load file /gTVDN/notebooks/method8/../../mypkg/../results/method8/cpts_ctrls_selected.pkl\n",
      "Load file /gTVDN/notebooks/method8/../../mypkg/../results/method8/dwells_ctrls_selected.pkl\n",
      "Load file /gTVDN/notebooks/method8/../../mypkg/../results/method8/rank_ctrls.pkl\n"
     ]
    }
   ],
   "source": [
    "# load results\n",
    "cur_res = load_pkl_folder2dict(_paras.save_dir)"
   ]
  },
  {
   "cell_type": "code",
   "execution_count": null,
   "metadata": {},
   "outputs": [],
   "source": []
  },
  {
   "cell_type": "markdown",
   "metadata": {},
   "source": [
    "## Load data"
   ]
  },
  {
   "cell_type": "code",
   "execution_count": 11,
   "metadata": {
    "ExecuteTime": {
     "end_time": "2023-02-03T03:15:24.994717Z",
     "start_time": "2023-02-03T03:15:21.963653Z"
    }
   },
   "outputs": [],
   "source": [
    "datFil = list(DATA_ROOT.glob(\"70Ctrl*\"))[0]\n",
    "CtrlDat1 = loadmat(datFil)\n",
    "CtrlDats = CtrlDat1[\"dk10\"]"
   ]
  },
  {
   "cell_type": "code",
   "execution_count": 12,
   "metadata": {
    "ExecuteTime": {
     "end_time": "2023-02-03T03:15:28.757707Z",
     "start_time": "2023-02-03T03:15:24.997343Z"
    }
   },
   "outputs": [],
   "source": [
    "datFil = list(DATA_ROOT.glob(\"87AD*\"))[0]\n",
    "ADDat1 = loadmat(datFil)\n",
    "ADDats = ADDat1[\"dk10\"]"
   ]
  },
  {
   "cell_type": "code",
   "execution_count": 13,
   "metadata": {
    "ExecuteTime": {
     "end_time": "2023-02-03T03:15:28.807893Z",
     "start_time": "2023-02-03T03:15:28.759218Z"
    }
   },
   "outputs": [],
   "source": [
    "ADdatAdd = loadmat(DATA_ROOT/\"DK_timecourse.mat\")[\"DK_timecourse\"]"
   ]
  },
  {
   "cell_type": "code",
   "execution_count": 14,
   "metadata": {
    "ExecuteTime": {
     "end_time": "2023-02-03T03:15:29.883973Z",
     "start_time": "2023-02-03T03:15:28.809659Z"
    }
   },
   "outputs": [],
   "source": [
    "CtrldatAdd = mat73.loadmat(DATA_ROOT/\"timecourse_ucsfCONT_group.mat\")[\"dk10\"]"
   ]
  },
  {
   "cell_type": "code",
   "execution_count": 15,
   "metadata": {
    "ExecuteTime": {
     "end_time": "2023-02-03T03:15:29.892403Z",
     "start_time": "2023-02-03T03:15:29.885247Z"
    }
   },
   "outputs": [],
   "source": [
    "baseDF = pd.read_csv(DATA_ROOT/\"AllDataBaselineOrdered.csv\")\n",
    "CtrlKp = np.array(baseDF[baseDF[\"Grp\"]==\"Ctrl\"][\"KeepIt\"] == 1)"
   ]
  },
  {
   "cell_type": "code",
   "execution_count": 16,
   "metadata": {
    "ExecuteTime": {
     "end_time": "2023-02-03T03:15:33.261549Z",
     "start_time": "2023-02-03T03:15:29.893468Z"
    }
   },
   "outputs": [],
   "source": [
    "ADDatsAll = np.concatenate([ADDats, ADdatAdd[np.newaxis, :, :]], axis=0)\n",
    "CtrlDatsAll = np.concatenate([CtrlDats, CtrldatAdd], axis=0)\n",
    "CtrlDatsAll = CtrlDatsAll[CtrlKp]"
   ]
  },
  {
   "cell_type": "code",
   "execution_count": 18,
   "metadata": {
    "ExecuteTime": {
     "end_time": "2023-02-13T06:27:38.951141Z",
     "start_time": "2023-02-13T06:27:38.924493Z"
    }
   },
   "outputs": [],
   "source": [
    "defNetsFil = list(DATA_ROOT.glob(\"DK_dic68.csv\"))[0]\n",
    "defNets = pd.read_csv(defNetsFil).T\n",
    "\n",
    "DefNets_dict = {}\n",
    "for ix in range(defNets.shape[-1]):\n",
    "    curCol = defNets[ix]\n",
    "    DefNets_dict[curCol[0]] = np.array(curCol[1:])\n",
    "net_names = sorted(DefNets_dict.keys())\n",
    "\n",
    "_paras.canon_nets = DefNets_dict\n",
    "_paras.canon_net_names = net_names"
   ]
  },
  {
   "cell_type": "code",
   "execution_count": null,
   "metadata": {},
   "outputs": [],
   "source": []
  },
  {
   "cell_type": "markdown",
   "metadata": {},
   "source": [
    "## Run "
   ]
  },
  {
   "cell_type": "markdown",
   "metadata": {},
   "source": [
    "### Bspline smooth"
   ]
  },
  {
   "cell_type": "code",
   "execution_count": 18,
   "metadata": {
    "ExecuteTime": {
     "end_time": "2023-02-03T03:15:50.083048Z",
     "start_time": "2023-02-03T03:15:36.363629Z"
    }
   },
   "outputs": [],
   "source": [
    "Ymat_ctrl = preprocess_MEG(CtrlDatsAll[:], paras)\n",
    "Ymat_AD = preprocess_MEG(ADDatsAll[:], paras)"
   ]
  },
  {
   "cell_type": "code",
   "execution_count": null,
   "metadata": {
    "ExecuteTime": {
     "end_time": "2023-02-03T13:29:31.145099Z",
     "start_time": "2023-02-03T13:29:31.120943Z"
    }
   },
   "outputs": [],
   "source": [
    "time_span = np.linspace(0, paras.T, Ymat_AD.shape[-1])\n",
    "\n",
    "if not (\"dXXmats_AD\" in cur_res.keys()):\n",
    "    dXmats_AD, Xmats_AD = get_bspline_est(Ymat_AD, time_span, paras.lamb)\n",
    "    dXmats_ctrl, Xmats_ctrl = get_bspline_est(Ymat_ctrl, time_span, paras.lamb)\n",
    "    cur_res.dXXmats_AD = [dXmats_AD, Xmats_AD]\n",
    "    cur_res.dXXmats_ctrl = [dXmats_ctrl, Xmats_ctrl]\n",
    "    save_pkl_dict2folder(RES_ROOT/_paras.folder_name, cur_res)\n",
    "\n",
    "#plt.figure(figsize=[10, 5])\n",
    "#plt.subplot(121)\n",
    "#for ix in range(68):\n",
    "#    plt.plot(Xmats_AD[0, ix, :])\n",
    "#plt.subplot(122)\n",
    "#for ix in range(68):\n",
    "#    plt.plot(Xmats_ctrl[0, ix, :])"
   ]
  },
  {
   "cell_type": "code",
   "execution_count": null,
   "metadata": {},
   "outputs": [],
   "source": []
  },
  {
   "cell_type": "markdown",
   "metadata": {},
   "source": [
    "### Estimate Amats"
   ]
  },
  {
   "cell_type": "code",
   "execution_count": 20,
   "metadata": {
    "ExecuteTime": {
     "end_time": "2023-02-03T03:15:52.718482Z",
     "start_time": "2023-02-03T03:15:52.710572Z"
    }
   },
   "outputs": [],
   "source": [
    "if not (\"Amats_AD\" in cur_res.keys()):\n",
    "    Amats_ADs_lowrank = get_Amats(dXmats_AD[:], Xmats_AD[:], time_span, downrate=paras.downsample_rate, \n",
    "                              fct=paras.fct, nRks=paras.num_ranks, is_stack=False)\n",
    "    cur_res.Amats_AD = Amats_ADs_lowrank\n",
    "    save_pkl_dict2folder(RES_ROOT/_paras.folder_name, cur_res)"
   ]
  },
  {
   "cell_type": "code",
   "execution_count": 21,
   "metadata": {
    "ExecuteTime": {
     "end_time": "2023-02-03T03:15:54.153439Z",
     "start_time": "2023-02-03T03:15:54.144988Z"
    }
   },
   "outputs": [],
   "source": [
    "if not (\"Amats_ctrl\" in cur_res.keys()):\n",
    "    Amats_ctrls_lowrank = get_Amats(dXmats_ctrl[:], Xmats_ctrl[:], time_span, downrate=paras.downsample_rate, \n",
    "                              fct=paras.fct, nRks=paras.num_ranks, is_stack=False)\n",
    "    cur_res.Amats_ctrl = Amats_ctrls_lowrank\n",
    "    save_pkl_dict2folder(RES_ROOT/_paras.folder_name, cur_res)"
   ]
  },
  {
   "cell_type": "markdown",
   "metadata": {},
   "source": [
    "### rank-R CP decomposition"
   ]
  },
  {
   "cell_type": "code",
   "execution_count": 22,
   "metadata": {
    "ExecuteTime": {
     "end_time": "2023-02-03T03:15:55.540432Z",
     "start_time": "2023-02-03T03:15:55.532596Z"
    }
   },
   "outputs": [
    {
     "data": {
      "text/plain": [
       "dict_keys(['dXXmats_AD', 'dXXmats_ctrl', 'Amats_AD', 'Amats_ctrl'])"
      ]
     },
     "execution_count": 22,
     "metadata": {},
     "output_type": "execute_result"
    }
   ],
   "source": [
    "cur_res.keys()"
   ]
  },
  {
   "cell_type": "code",
   "execution_count": 23,
   "metadata": {
    "ExecuteTime": {
     "end_time": "2023-02-03T03:15:57.528569Z",
     "start_time": "2023-02-03T03:15:57.508957Z"
    }
   },
   "outputs": [],
   "source": [
    "# transform to tensor\n",
    "tensors_ctrl = np.transpose(np.array(cur_res.Amats_ctrl), (1, 2, 0))\n",
    "tensors_AD = np.transpose(np.array(cur_res.Amats_AD), (1, 2, 0))\n",
    "tensors_both = np.concatenate([tensors_ctrl, tensors_AD],axis=-1)\n",
    "\n",
    "# the initial value \n",
    "Amat_both_lowrank = np.sum(tensors_both, axis=-1)\n",
    "U, _, VT = np.linalg.svd(Amat_both_lowrank)\n",
    "both_CPD_init = [U[:, :paras.r], VT.T[:, :paras.r]]"
   ]
  },
  {
   "cell_type": "code",
   "execution_count": 24,
   "metadata": {
    "ExecuteTime": {
     "end_time": "2023-02-03T03:16:04.973836Z",
     "start_time": "2023-02-03T03:16:04.273883Z"
    },
    "code_folding": []
   },
   "outputs": [
    {
     "name": "stdout",
     "output_type": "stream",
     "text": [
      "Epoch: 0, Loss (5.326, 4.704, 4.322), Err (1.000e+00, 1.000e+00, 1.000e+00).\n",
      "Epoch: 5, Loss (3.207, 3.195, 3.219), Err (2.043e-01, 1.945e-01, 8.779e-02).\n",
      "Epoch: 10, Loss (3.115, 3.115, 3.116), Err (2.154e-02, 1.834e-02, 6.538e-03).\n",
      "Epoch: 15, Loss (3.114, 3.114, 3.114), Err (4.821e-03, 4.357e-03, 1.038e-03).\n",
      "Epoch: 20, Loss (3.114, 3.114, 3.114), Err (1.299e-03, 1.168e-03, 2.621e-04).\n",
      "Epoch: 25, Loss (3.114, 3.114, 3.114), Err (3.530e-04, 3.165e-04, 7.021e-05).\n",
      "Epoch: 30, Loss (3.114, 3.114, 3.114), Err (9.616e-05, 8.611e-05, 1.907e-05).\n",
      "Epoch: 35, Loss (3.114, 3.114, 3.114), Err (2.621e-05, 2.345e-05, 5.197e-06).\n",
      "Epoch: 40, Loss (3.114, 3.114, 3.114), Err (7.139e-06, 6.382e-06, 1.415e-06).\n",
      "Epoch: 45, Loss (3.114, 3.114, 3.114), Err (1.943e-06, 1.736e-06, 3.851e-07).\n",
      "Epoch: 50, Loss (3.114, 3.114, 3.114), Err (5.282e-07, 4.718e-07, 1.047e-07).\n",
      "Epoch: 55, Loss (3.114, 3.114, 3.114), Err (1.435e-07, 1.282e-07, 2.843e-08).\n",
      "Epoch: 60, Loss (3.114, 3.114, 3.114), Err (3.897e-08, 3.479e-08, 7.717e-09).\n",
      "Epoch: 65, Loss (3.114, 3.114, 3.114), Err (1.058e-08, 9.440e-09, 2.094e-09).\n",
      "Epoch: 70, Loss (3.114, 3.114, 3.114), Err (2.870e-09, 2.561e-09, 5.678e-10).\n",
      "Epoch: 75, Loss (3.114, 3.114, 3.114), Err (7.785e-10, 6.945e-10, 1.540e-10).\n",
      "Epoch: 80, Loss (3.114, 3.114, 3.114), Err (2.111e-10, 1.883e-10, 4.174e-11).\n",
      "/gTVDN/notebooks/method8/../../mypkg/../results/method8_r10/dXXmats_AD.pkl exists! Use is_force=True to save it anyway\n",
      "/gTVDN/notebooks/method8/../../mypkg/../results/method8_r10/dXXmats_ctrl.pkl exists! Use is_force=True to save it anyway\n",
      "/gTVDN/notebooks/method8/../../mypkg/../results/method8_r10/Amats_AD.pkl exists! Use is_force=True to save it anyway\n",
      "/gTVDN/notebooks/method8/../../mypkg/../results/method8_r10/Amats_ctrl.pkl exists! Use is_force=True to save it anyway\n",
      "Save to /gTVDN/notebooks/method8/../../mypkg/../results/method8_r10/CPDresult.pkl\n"
     ]
    }
   ],
   "source": [
    "# rank-R decomposition\n",
    "if not (\"CPDresult\" in cur_res.keys()):\n",
    "    CPDresult = sort_orthCPD(decompose_three_way_orth(tensors_both, \n",
    "                                                      paras.r, \n",
    "                                                      init=both_CPD_init, \n",
    "                                                      eps=1e-10, \n",
    "                                                      is_fixU=False,\n",
    "                                                      verbose=True))\n",
    "    cur_res.CPDresult = CPDresult\n",
    "    save_pkl_dict2folder(_paras.save_dir, cur_res)"
   ]
  },
  {
   "cell_type": "markdown",
   "metadata": {},
   "source": [
    "### Save U"
   ]
  },
  {
   "cell_type": "code",
   "execution_count": 11,
   "metadata": {
    "ExecuteTime": {
     "end_time": "2023-02-13T06:26:15.306074Z",
     "start_time": "2023-02-13T06:26:15.292839Z"
    }
   },
   "outputs": [],
   "source": [
    "from constants import REGION_NAMES, REGION_NAMES_WLOBE\n",
    "from utils.standardize import minmax, minmax_mat, minmax_plotting\n",
    "from utils.brain_plot import reorder_U, U_2brain_vec, obt_FC_exp\n",
    "from utils.misc import spec_emb_red\n",
    "\n",
    "# save the files for brainplotting\n",
    "def save_brainplotting_vec(vecs, filname_prefix, order=2, is_csv=False):\n",
    "    vecs = np.array(vecs)\n",
    "    if vecs.shape[0] != 68:\n",
    "        vecs = vecs.T\n",
    "    for ix in range(vecs.shape[1]):\n",
    "        cur_sing_vec = vecs[:, ix]\n",
    "        out_vec_raw = minmax_plotting(cur_sing_vec, order=order)\n",
    "        out_vec = U_2brain_vec(reorder_U(out_vec_raw))\n",
    "        np.savetxt(paras.res_dir/f\"./{filname_prefix}_{ix+1}.txt\", out_vec)\n",
    "        if is_csv:\n",
    "            pd.DataFrame({\"Name\": REGION_NAMES,\n",
    "                      \"Vec\": cur_sing_vec}).to_csv(paras.res_dir/f\"./{filname_prefix}_{ix+1}.csv\",\n",
    "                                                          index=False)"
   ]
  },
  {
   "cell_type": "code",
   "execution_count": 16,
   "metadata": {
    "ExecuteTime": {
     "end_time": "2023-02-13T06:27:21.592687Z",
     "start_time": "2023-02-13T06:27:21.471874Z"
    }
   },
   "outputs": [],
   "source": [
    "U = cur_res.CPDresult[0]\n",
    "V = cur_res.CPDresult[1]\n",
    "com_Us = []\n",
    "for ix in range(20):\n",
    "    curU, curV = U[:, ix], V[:, ix]\n",
    "    both_info = np.stack([curU, curV]).T\n",
    "    com_U = spec_emb_red(both_info)\n",
    "    com_Us.append(np.squeeze(com_U))\n",
    "cur_res.com_Us = np.array(com_Us).T"
   ]
  },
  {
   "cell_type": "code",
   "execution_count": 22,
   "metadata": {
    "ExecuteTime": {
     "end_time": "2023-02-13T06:30:59.616244Z",
     "start_time": "2023-02-13T06:30:59.111970Z"
    }
   },
   "outputs": [
    {
     "data": {
      "image/png": "[encoded data removed]",
      "text/plain": [
       "<Figure size 1500x500 with 2 Axes>"
      ]
     },
     "metadata": {
      "needs_background": "light"
     },
     "output_type": "display_data"
    }
   ],
   "source": [
    "tfn1 = partial(_cumsum_trunc, cutoff=1.90)\n",
    "corr_mat = _corr_plot(cur_res.com_Us, cutoff=0.05, trun_fn=tfn1, trans_fn=lambda x:np.abs(x));"
   ]
  },
  {
   "cell_type": "code",
   "execution_count": 25,
   "metadata": {
    "ExecuteTime": {
     "end_time": "2023-02-13T06:31:25.304567Z",
     "start_time": "2023-02-13T06:31:25.074697Z"
    }
   },
   "outputs": [
    {
     "data": {
      "text/plain": [
       "<AxesSubplot:>"
      ]
     },
     "execution_count": 25,
     "metadata": {},
     "output_type": "execute_result"
    },
    {
     "data": {
      "image/png": "[encoded data removed]",
      "text/plain": [
       "<Figure size 1000x500 with 2 Axes>"
      ]
     },
     "metadata": {
      "needs_background": "light"
     },
     "output_type": "display_data"
    }
   ],
   "source": [
    "plt.figure(figsize=[10, 5])\n",
    "sns.heatmap(U.T, center=0, cmap=\"bwr\")\n",
    "#sns.heatmap(cur_res.com_Us.T, center=0, cmap=\"bwr\")"
   ]
  },
  {
   "cell_type": "code",
   "execution_count": 31,
   "metadata": {
    "ExecuteTime": {
     "end_time": "2023-02-03T12:37:17.887650Z",
     "start_time": "2023-02-03T12:37:13.538487Z"
    }
   },
   "outputs": [],
   "source": [
    "save_brainplotting_vec(np.abs(cur_res.com_Us), \"m8_abs_comU_order3\", 3)\n",
    "save_brainplotting_vec(cur_res.com_Us, \"m8_raw_comU_order3\", 3)"
   ]
  },
  {
   "cell_type": "code",
   "execution_count": 32,
   "metadata": {
    "ExecuteTime": {
     "end_time": "2023-02-03T12:37:53.596159Z",
     "start_time": "2023-02-03T12:37:49.214454Z"
    }
   },
   "outputs": [],
   "source": [
    "save_brainplotting_vec(np.abs(V), \"m8_abs_V_order3\", 3)\n",
    "save_brainplotting_vec(V, \"m8_raw_V_order3\", 3)"
   ]
  },
  {
   "cell_type": "code",
   "execution_count": null,
   "metadata": {},
   "outputs": [],
   "source": []
  },
  {
   "cell_type": "markdown",
   "metadata": {},
   "source": [
    "### Reduce the dim of the data"
   ]
  },
  {
   "cell_type": "code",
   "execution_count": 26,
   "metadata": {
    "ExecuteTime": {
     "end_time": "2023-02-03T03:16:15.246168Z",
     "start_time": "2023-02-03T03:16:15.142331Z"
    }
   },
   "outputs": [],
   "source": [
    "nXmats_ctrl =  np.matmul(cur_res.CPDresult[1].T[np.newaxis, :, :],\n",
    "                         cur_res.dXXmats_ctrl[1])\n",
    "nXmats_AD =  np.matmul(cur_res.CPDresult[1].T[np.newaxis, :, :], \n",
    "                       cur_res.dXXmats_AD[1])\n",
    "\n",
    "ndXmats_ctrl =  np.matmul(cur_res.CPDresult[0].T[np.newaxis, :, :], \n",
    "                          cur_res.dXXmats_ctrl[0])\n",
    "ndXmats_AD =  np.matmul(cur_res.CPDresult[0].T[np.newaxis, :, :], \n",
    "                        cur_res.dXXmats_AD[0])"
   ]
  },
  {
   "cell_type": "code",
   "execution_count": 27,
   "metadata": {
    "ExecuteTime": {
     "end_time": "2023-02-03T03:16:17.160012Z",
     "start_time": "2023-02-03T03:16:17.026666Z"
    }
   },
   "outputs": [
    {
     "name": "stdout",
     "output_type": "stream",
     "text": [
      "/gTVDN/notebooks/method8/../../mypkg/../results/method8_r10/dXXmats_AD.pkl exists! Use is_force=True to save it anyway\n",
      "/gTVDN/notebooks/method8/../../mypkg/../results/method8_r10/dXXmats_ctrl.pkl exists! Use is_force=True to save it anyway\n",
      "/gTVDN/notebooks/method8/../../mypkg/../results/method8_r10/Amats_AD.pkl exists! Use is_force=True to save it anyway\n",
      "/gTVDN/notebooks/method8/../../mypkg/../results/method8_r10/Amats_ctrl.pkl exists! Use is_force=True to save it anyway\n",
      "/gTVDN/notebooks/method8/../../mypkg/../results/method8_r10/CPDresult.pkl exists! Use is_force=True to save it anyway\n",
      "Save to /gTVDN/notebooks/method8/../../mypkg/../results/method8_r10/nXmats_ctrl.pkl\n",
      "/gTVDN/notebooks/method8/../../mypkg/../results/method8_r10/dXXmats_AD.pkl exists! Use is_force=True to save it anyway\n",
      "/gTVDN/notebooks/method8/../../mypkg/../results/method8_r10/dXXmats_ctrl.pkl exists! Use is_force=True to save it anyway\n",
      "/gTVDN/notebooks/method8/../../mypkg/../results/method8_r10/Amats_AD.pkl exists! Use is_force=True to save it anyway\n",
      "/gTVDN/notebooks/method8/../../mypkg/../results/method8_r10/Amats_ctrl.pkl exists! Use is_force=True to save it anyway\n",
      "/gTVDN/notebooks/method8/../../mypkg/../results/method8_r10/CPDresult.pkl exists! Use is_force=True to save it anyway\n",
      "/gTVDN/notebooks/method8/../../mypkg/../results/method8_r10/nXmats_ctrl.pkl exists! Use is_force=True to save it anyway\n",
      "Save to /gTVDN/notebooks/method8/../../mypkg/../results/method8_r10/nXmats_AD.pkl\n"
     ]
    }
   ],
   "source": [
    "if not (\"nXmats_ctrl\" in cur_res.keys()):\n",
    "    cur_res.nXmats_ctrl = nXmats_ctrl\n",
    "    save_pkl_dict2folder(_paras.save_dir, cur_res)\n",
    "    \n",
    "if not (\"nXmats_AD\" in cur_res.keys()):\n",
    "    cur_res.nXmats_AD = nXmats_AD\n",
    "    save_pkl_dict2folder(_paras.save_dir, cur_res)"
   ]
  },
  {
   "cell_type": "code",
   "execution_count": 28,
   "metadata": {
    "ExecuteTime": {
     "end_time": "2023-02-03T03:16:19.566023Z",
     "start_time": "2023-02-03T03:16:19.433532Z"
    }
   },
   "outputs": [
    {
     "name": "stdout",
     "output_type": "stream",
     "text": [
      "/gTVDN/notebooks/method8/../../mypkg/../results/method8_r10/dXXmats_AD.pkl exists! Use is_force=True to save it anyway\n",
      "/gTVDN/notebooks/method8/../../mypkg/../results/method8_r10/dXXmats_ctrl.pkl exists! Use is_force=True to save it anyway\n",
      "/gTVDN/notebooks/method8/../../mypkg/../results/method8_r10/Amats_AD.pkl exists! Use is_force=True to save it anyway\n",
      "/gTVDN/notebooks/method8/../../mypkg/../results/method8_r10/Amats_ctrl.pkl exists! Use is_force=True to save it anyway\n",
      "/gTVDN/notebooks/method8/../../mypkg/../results/method8_r10/CPDresult.pkl exists! Use is_force=True to save it anyway\n",
      "/gTVDN/notebooks/method8/../../mypkg/../results/method8_r10/nXmats_ctrl.pkl exists! Use is_force=True to save it anyway\n",
      "/gTVDN/notebooks/method8/../../mypkg/../results/method8_r10/nXmats_AD.pkl exists! Use is_force=True to save it anyway\n",
      "Save to /gTVDN/notebooks/method8/../../mypkg/../results/method8_r10/ndXmats_ctrl.pkl\n",
      "/gTVDN/notebooks/method8/../../mypkg/../results/method8_r10/dXXmats_AD.pkl exists! Use is_force=True to save it anyway\n",
      "/gTVDN/notebooks/method8/../../mypkg/../results/method8_r10/dXXmats_ctrl.pkl exists! Use is_force=True to save it anyway\n",
      "/gTVDN/notebooks/method8/../../mypkg/../results/method8_r10/Amats_AD.pkl exists! Use is_force=True to save it anyway\n",
      "/gTVDN/notebooks/method8/../../mypkg/../results/method8_r10/Amats_ctrl.pkl exists! Use is_force=True to save it anyway\n",
      "/gTVDN/notebooks/method8/../../mypkg/../results/method8_r10/CPDresult.pkl exists! Use is_force=True to save it anyway\n",
      "/gTVDN/notebooks/method8/../../mypkg/../results/method8_r10/nXmats_ctrl.pkl exists! Use is_force=True to save it anyway\n",
      "/gTVDN/notebooks/method8/../../mypkg/../results/method8_r10/nXmats_AD.pkl exists! Use is_force=True to save it anyway\n",
      "/gTVDN/notebooks/method8/../../mypkg/../results/method8_r10/ndXmats_ctrl.pkl exists! Use is_force=True to save it anyway\n",
      "Save to /gTVDN/notebooks/method8/../../mypkg/../results/method8_r10/ndXmats_AD.pkl\n"
     ]
    }
   ],
   "source": [
    "if not (\"ndXmats_ctrl\" in cur_res.keys()):\n",
    "    cur_res.ndXmats_ctrl = ndXmats_ctrl\n",
    "    save_pkl_dict2folder(_paras.save_dir, cur_res)\n",
    "    \n",
    "if not (\"ndXmats_AD\" in cur_res.keys()):\n",
    "    cur_res.ndXmats_AD = ndXmats_AD\n",
    "    save_pkl_dict2folder(_paras.save_dir, cur_res)"
   ]
  },
  {
   "cell_type": "code",
   "execution_count": null,
   "metadata": {},
   "outputs": [],
   "source": []
  },
  {
   "cell_type": "markdown",
   "metadata": {},
   "source": [
    "### Screening"
   ]
  },
  {
   "cell_type": "code",
   "execution_count": 29,
   "metadata": {
    "ExecuteTime": {
     "end_time": "2023-02-03T03:22:58.763316Z",
     "start_time": "2023-02-03T03:16:23.145144Z"
    }
   },
   "outputs": [
    {
     "name": "stderr",
     "output_type": "stream",
     "text": [
      "Screening: 100%|███████████████████████████████████████████████████████████████████████████████████████████████████████████████████████████████| 88/88 [06:35<00:00,  4.50s/it]"
     ]
    },
    {
     "name": "stdout",
     "output_type": "stream",
     "text": [
      "/gTVDN/notebooks/method8/../../mypkg/../results/method8_r10/dXXmats_AD.pkl exists! Use is_force=True to save it anyway\n",
      "/gTVDN/notebooks/method8/../../mypkg/../results/method8_r10/dXXmats_ctrl.pkl exists! Use is_force=True to save it anyway\n",
      "/gTVDN/notebooks/method8/../../mypkg/../results/method8_r10/Amats_AD.pkl exists! Use is_force=True to save it anyway\n",
      "/gTVDN/notebooks/method8/../../mypkg/../results/method8_r10/Amats_ctrl.pkl exists! Use is_force=True to save it anyway\n",
      "/gTVDN/notebooks/method8/../../mypkg/../results/method8_r10/CPDresult.pkl exists! Use is_force=True to save it anyway\n",
      "/gTVDN/notebooks/method8/../../mypkg/../results/method8_r10/nXmats_ctrl.pkl exists! Use is_force=True to save it anyway\n",
      "/gTVDN/notebooks/method8/../../mypkg/../results/method8_r10/nXmats_AD.pkl exists! Use is_force=True to save it anyway\n",
      "/gTVDN/notebooks/method8/../../mypkg/../results/method8_r10/ndXmats_ctrl.pkl exists! Use is_force=True to save it anyway\n",
      "/gTVDN/notebooks/method8/../../mypkg/../results/method8_r10/ndXmats_AD.pkl exists! Use is_force=True to save it anyway\n",
      "Save to /gTVDN/notebooks/method8/../../mypkg/../results/method8_r10/can_pts_ctrls.pkl\n"
     ]
    },
    {
     "name": "stderr",
     "output_type": "stream",
     "text": [
      "\n"
     ]
    }
   ],
   "source": [
    "if not (\"can_pts_ctrls\" in cur_res.keys()):\n",
    "    can_pts_ctrls = screening_4CPD(cur_res.ndXmats_ctrl, cur_res.nXmats_ctrl, wh=paras.wh)\n",
    "    cur_res.can_pts_ctrls = can_pts_ctrls\n",
    "    save_pkl_dict2folder(_paras.save_dir, cur_res)"
   ]
  },
  {
   "cell_type": "code",
   "execution_count": 30,
   "metadata": {
    "ExecuteTime": {
     "end_time": "2023-02-03T03:29:35.005541Z",
     "start_time": "2023-02-03T03:22:58.765067Z"
    }
   },
   "outputs": [
    {
     "name": "stderr",
     "output_type": "stream",
     "text": [
      "Screening: 100%|███████████████████████████████████████████████████████████████████████████████████████████████████████████████████████████████| 88/88 [06:36<00:00,  4.50s/it]"
     ]
    },
    {
     "name": "stdout",
     "output_type": "stream",
     "text": [
      "/gTVDN/notebooks/method8/../../mypkg/../results/method8_r10/dXXmats_AD.pkl exists! Use is_force=True to save it anyway\n",
      "/gTVDN/notebooks/method8/../../mypkg/../results/method8_r10/dXXmats_ctrl.pkl exists! Use is_force=True to save it anyway\n",
      "/gTVDN/notebooks/method8/../../mypkg/../results/method8_r10/Amats_AD.pkl exists! Use is_force=True to save it anyway\n",
      "/gTVDN/notebooks/method8/../../mypkg/../results/method8_r10/Amats_ctrl.pkl exists! Use is_force=True to save it anyway\n",
      "/gTVDN/notebooks/method8/../../mypkg/../results/method8_r10/CPDresult.pkl exists! Use is_force=True to save it anyway\n",
      "/gTVDN/notebooks/method8/../../mypkg/../results/method8_r10/nXmats_ctrl.pkl exists! Use is_force=True to save it anyway\n",
      "/gTVDN/notebooks/method8/../../mypkg/../results/method8_r10/nXmats_AD.pkl exists! Use is_force=True to save it anyway\n",
      "/gTVDN/notebooks/method8/../../mypkg/../results/method8_r10/ndXmats_ctrl.pkl exists! Use is_force=True to save it anyway\n",
      "/gTVDN/notebooks/method8/../../mypkg/../results/method8_r10/ndXmats_AD.pkl exists! Use is_force=True to save it anyway\n",
      "/gTVDN/notebooks/method8/../../mypkg/../results/method8_r10/can_pts_ctrls.pkl exists! Use is_force=True to save it anyway\n",
      "Save to /gTVDN/notebooks/method8/../../mypkg/../results/method8_r10/can_pts_ADs.pkl\n"
     ]
    },
    {
     "name": "stderr",
     "output_type": "stream",
     "text": [
      "\n"
     ]
    }
   ],
   "source": [
    "if not (\"can_pts_ADs\" in cur_res.keys()):\n",
    "    can_pts_ADs = screening_4CPD(cur_res.ndXmats_AD, cur_res.nXmats_AD, wh=paras.wh)\n",
    "    cur_res.can_pts_ADs = can_pts_ADs\n",
    "    save_pkl_dict2folder(_paras.save_dir, cur_res)"
   ]
  },
  {
   "cell_type": "markdown",
   "metadata": {},
   "source": [
    "### Detection"
   ]
  },
  {
   "cell_type": "code",
   "execution_count": 31,
   "metadata": {
    "ExecuteTime": {
     "end_time": "2023-02-03T03:44:22.749021Z",
     "start_time": "2023-02-03T03:29:35.006678Z"
    }
   },
   "outputs": [
    {
     "name": "stderr",
     "output_type": "stream",
     "text": [
      "100%|██████████████████████████████████████████████████████████████████████████████████████████████████████████████████████████████████████████| 88/88 [14:47<00:00, 10.09s/it]"
     ]
    },
    {
     "name": "stdout",
     "output_type": "stream",
     "text": [
      "/gTVDN/notebooks/method8/../../mypkg/../results/method8_r10/dXXmats_AD.pkl exists! Use is_force=True to save it anyway\n",
      "/gTVDN/notebooks/method8/../../mypkg/../results/method8_r10/dXXmats_ctrl.pkl exists! Use is_force=True to save it anyway\n",
      "/gTVDN/notebooks/method8/../../mypkg/../results/method8_r10/Amats_AD.pkl exists! Use is_force=True to save it anyway\n",
      "/gTVDN/notebooks/method8/../../mypkg/../results/method8_r10/Amats_ctrl.pkl exists! Use is_force=True to save it anyway\n",
      "/gTVDN/notebooks/method8/../../mypkg/../results/method8_r10/CPDresult.pkl exists! Use is_force=True to save it anyway\n",
      "/gTVDN/notebooks/method8/../../mypkg/../results/method8_r10/nXmats_ctrl.pkl exists! Use is_force=True to save it anyway\n",
      "/gTVDN/notebooks/method8/../../mypkg/../results/method8_r10/nXmats_AD.pkl exists! Use is_force=True to save it anyway\n",
      "/gTVDN/notebooks/method8/../../mypkg/../results/method8_r10/ndXmats_ctrl.pkl exists! Use is_force=True to save it anyway\n",
      "/gTVDN/notebooks/method8/../../mypkg/../results/method8_r10/ndXmats_AD.pkl exists! Use is_force=True to save it anyway\n",
      "/gTVDN/notebooks/method8/../../mypkg/../results/method8_r10/can_pts_ctrls.pkl exists! Use is_force=True to save it anyway\n",
      "/gTVDN/notebooks/method8/../../mypkg/../results/method8_r10/can_pts_ADs.pkl exists! Use is_force=True to save it anyway\n",
      "Save to /gTVDN/notebooks/method8/../../mypkg/../results/method8_r10/cpts_ctrls.pkl\n"
     ]
    },
    {
     "name": "stderr",
     "output_type": "stream",
     "text": [
      "\n"
     ]
    }
   ],
   "source": [
    "if not (\"cpts_ctrls\" in cur_res.keys()):\n",
    "    cpts_ctrls = []\n",
    "    for ix in trange(len(cur_res.can_pts_ctrls)):\n",
    "        res = dyna_prog_4CPD(cur_res.ndXmats_ctrl[ix], \n",
    "                             cur_res.nXmats_ctrl[ix], \n",
    "                             paras.kappa, \n",
    "                             Lmin=paras.Lmin,  \n",
    "                             canpts=cur_res.can_pts_ctrls[ix], \n",
    "                             maxM=paras.maxM,  \n",
    "                             is_full=True,  \n",
    "                             showProgress=False)\n",
    "        cpts_ctrls.append(res)\n",
    "    \n",
    "    cur_res.cpts_ctrls = cpts_ctrls\n",
    "    save_pkl_dict2folder(_paras.save_dir, cur_res)"
   ]
  },
  {
   "cell_type": "code",
   "execution_count": 32,
   "metadata": {
    "ExecuteTime": {
     "end_time": "2023-02-03T03:59:53.836348Z",
     "start_time": "2023-02-03T03:44:22.751041Z"
    }
   },
   "outputs": [
    {
     "name": "stderr",
     "output_type": "stream",
     "text": [
      "100%|██████████████████████████████████████████████████████████████████████████████████████████████████████████████████████████████████████████| 88/88 [15:31<00:00, 10.58s/it]"
     ]
    },
    {
     "name": "stdout",
     "output_type": "stream",
     "text": [
      "/gTVDN/notebooks/method8/../../mypkg/../results/method8_r10/dXXmats_AD.pkl exists! Use is_force=True to save it anyway\n",
      "/gTVDN/notebooks/method8/../../mypkg/../results/method8_r10/dXXmats_ctrl.pkl exists! Use is_force=True to save it anyway\n",
      "/gTVDN/notebooks/method8/../../mypkg/../results/method8_r10/Amats_AD.pkl exists! Use is_force=True to save it anyway\n",
      "/gTVDN/notebooks/method8/../../mypkg/../results/method8_r10/Amats_ctrl.pkl exists! Use is_force=True to save it anyway\n",
      "/gTVDN/notebooks/method8/../../mypkg/../results/method8_r10/CPDresult.pkl exists! Use is_force=True to save it anyway\n",
      "/gTVDN/notebooks/method8/../../mypkg/../results/method8_r10/nXmats_ctrl.pkl exists! Use is_force=True to save it anyway\n",
      "/gTVDN/notebooks/method8/../../mypkg/../results/method8_r10/nXmats_AD.pkl exists! Use is_force=True to save it anyway\n",
      "/gTVDN/notebooks/method8/../../mypkg/../results/method8_r10/ndXmats_ctrl.pkl exists! Use is_force=True to save it anyway\n",
      "/gTVDN/notebooks/method8/../../mypkg/../results/method8_r10/ndXmats_AD.pkl exists! Use is_force=True to save it anyway\n",
      "/gTVDN/notebooks/method8/../../mypkg/../results/method8_r10/can_pts_ctrls.pkl exists! Use is_force=True to save it anyway\n",
      "/gTVDN/notebooks/method8/../../mypkg/../results/method8_r10/can_pts_ADs.pkl exists! Use is_force=True to save it anyway\n",
      "/gTVDN/notebooks/method8/../../mypkg/../results/method8_r10/cpts_ctrls.pkl exists! Use is_force=True to save it anyway\n",
      "Save to /gTVDN/notebooks/method8/../../mypkg/../results/method8_r10/cpts_ADs.pkl\n"
     ]
    },
    {
     "name": "stderr",
     "output_type": "stream",
     "text": [
      "\n"
     ]
    }
   ],
   "source": [
    "if not (\"cpts_ADs\" in cur_res.keys()):\n",
    "    cpts_ADs = []\n",
    "    for ix in trange(len(cur_res.can_pts_ADs)):\n",
    "        res = dyna_prog_4CPD(cur_res.ndXmats_AD[ix], \n",
    "                             cur_res.nXmats_AD[ix], \n",
    "                             paras.kappa, \n",
    "                             Lmin=paras.Lmin,  \n",
    "                             canpts=cur_res.can_pts_ADs[ix], \n",
    "                             maxM=paras.maxM,  \n",
    "                             is_full=True,  \n",
    "                             showProgress=False)\n",
    "        cpts_ADs.append(res)\n",
    "    \n",
    "    cur_res.cpts_ADs = cpts_ADs\n",
    "    save_pkl_dict2folder(_paras.save_dir, cur_res)"
   ]
  },
  {
   "cell_type": "code",
   "execution_count": null,
   "metadata": {},
   "outputs": [],
   "source": []
  }
 ],
 "metadata": {
  "kernelspec": {
   "display_name": "Python 3 (ipykernel)",
   "language": "python",
   "name": "python3"
  },
  "language_info": {
   "codemirror_mode": {
    "name": "ipython",
    "version": 3
   },
   "file_extension": ".py",
   "mimetype": "text/x-python",
   "name": "python",
   "nbconvert_exporter": "python",
   "pygments_lexer": "ipython3",
   "version": "3.9.7"
  },
  "toc": {
   "base_numbering": 1,
   "nav_menu": {},
   "number_sections": true,
   "sideBar": true,
   "skip_h1_title": false,
   "title_cell": "Table of Contents",
   "title_sidebar": "Contents",
   "toc_cell": false,
   "toc_position": {
    "height": "calc(100% - 180px)",
    "left": "10px",
    "top": "150px",
    "width": "303.806px"
   },
   "toc_section_display": true,
   "toc_window_display": true
  }
 },
 "nbformat": 4,
 "nbformat_minor": 2
}
