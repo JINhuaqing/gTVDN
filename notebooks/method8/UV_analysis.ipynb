{
 "cells": [
  {
   "cell_type": "markdown",
   "id": "bb66b819",
   "metadata": {},
   "source": [
    "This file contains the code to for analyze the U and V from CPD\n",
    "\n",
    "- Combine U and V, together\n",
    "\n",
    "- Output Brain vecs to plot"
   ]
  },
  {
   "cell_type": "code",
   "execution_count": 1,
   "id": "4ab890fe",
   "metadata": {
    "ExecuteTime": {
     "end_time": "2023-02-13T12:44:40.139710Z",
     "start_time": "2023-02-13T12:44:40.049559Z"
    }
   },
   "outputs": [],
   "source": [
    "import sys\n",
    "sys.path.append(\"../../mypkg\")\n",
    "from constants import REGION_NAMES, REGION_NAMES_WLOBE, RES_ROOT, DATA_ROOT, FIG_ROOT\n",
    "import importlib"
   ]
  },
  {
   "cell_type": "code",
   "execution_count": 2,
   "id": "ab0f67af",
   "metadata": {
    "ExecuteTime": {
     "end_time": "2023-02-13T12:44:41.022610Z",
     "start_time": "2023-02-13T12:44:40.420415Z"
    }
   },
   "outputs": [],
   "source": [
    "import numpy as np\n",
    "import pandas as pd\n",
    "import matplotlib.pyplot as plt\n",
    "import seaborn as sns\n",
    "import scipy\n",
    "\n",
    "from pathlib import Path\n",
    "from scipy.io import loadmat\n",
    "from tqdm import trange, tqdm\n",
    "from functools import partial\n",
    "from pprint import pprint\n",
    "\n",
    "from collections import defaultdict as ddict\n",
    "from easydict import EasyDict as edict\n",
    "\n",
    "\n",
    "%matplotlib inline\n",
    "plt.style.use(FIG_ROOT/\"base.mplstyle\")"
   ]
  },
  {
   "cell_type": "code",
   "execution_count": 6,
   "id": "2c77f1c5",
   "metadata": {
    "ExecuteTime": {
     "end_time": "2023-02-13T12:44:53.163130Z",
     "start_time": "2023-02-13T12:44:53.157190Z"
    }
   },
   "outputs": [],
   "source": [
    "from utils.misc import load_pkl, save_pkl_dict2folder, load_pkl_folder2dict"
   ]
  },
  {
   "cell_type": "code",
   "execution_count": null,
   "id": "5b2fa50d",
   "metadata": {},
   "outputs": [],
   "source": []
  },
  {
   "cell_type": "markdown",
   "id": "209f4d59",
   "metadata": {},
   "source": [
    "## Load data"
   ]
  },
  {
   "cell_type": "code",
   "execution_count": 15,
   "id": "d4368ba7",
   "metadata": {
    "ExecuteTime": {
     "end_time": "2023-02-13T12:50:31.148456Z",
     "start_time": "2023-02-13T12:50:31.141967Z"
    }
   },
   "outputs": [],
   "source": [
    "_paras = edict()\n",
    "_paras.folder_name = \"method8\"\n",
    "_paras.save_dir = RES_ROOT/_paras.folder_name"
   ]
  },
  {
   "cell_type": "code",
   "execution_count": 16,
   "id": "2c6b6bde",
   "metadata": {
    "ExecuteTime": {
     "end_time": "2023-02-13T12:50:46.692124Z",
     "start_time": "2023-02-13T12:50:46.681640Z"
    }
   },
   "outputs": [
    {
     "name": "stdout",
     "output_type": "stream",
     "text": [
      "Load file /gTVDN/notebooks/method8/../../mypkg/../results/method8/CPDresult.pkl\n"
     ]
    }
   ],
   "source": [
    "cur_res = load_pkl_folder2dict(_paras.save_dir, including=[\"CPD*\"], verbose=True)"
   ]
  },
  {
   "cell_type": "code",
   "execution_count": 17,
   "id": "53866685",
   "metadata": {
    "ExecuteTime": {
     "end_time": "2023-02-13T12:50:49.285001Z",
     "start_time": "2023-02-13T12:50:49.276822Z"
    }
   },
   "outputs": [
    {
     "data": {
      "text/plain": [
       "dict_keys(['CPDresult'])"
      ]
     },
     "execution_count": 17,
     "metadata": {},
     "output_type": "execute_result"
    }
   ],
   "source": [
    "cur_res.keys()"
   ]
  },
  {
   "cell_type": "markdown",
   "id": "9157f13e",
   "metadata": {},
   "source": [
    "## Dim reduction"
   ]
  },
  {
   "cell_type": "code",
   "execution_count": 20,
   "id": "d6ecbafe",
   "metadata": {
    "ExecuteTime": {
     "end_time": "2023-02-13T11:20:45.826753Z",
     "start_time": "2023-02-13T11:20:45.821413Z"
    }
   },
   "outputs": [],
   "source": [
    "U = cur_res.CPDresult[0]\n",
    "V = cur_res.CPDresult[1]"
   ]
  },
  {
   "cell_type": "code",
   "execution_count": 87,
   "id": "fdf41f9a",
   "metadata": {
    "ExecuteTime": {
     "end_time": "2023-02-13T11:41:22.707210Z",
     "start_time": "2023-02-13T11:41:22.584953Z"
    }
   },
   "outputs": [],
   "source": [
    "# spec\n",
    "from utils.misc import spec_emb_red\n",
    "\n",
    "com_Us = []\n",
    "for ix in range(20):\n",
    "    curU, curV = U[:, ix], V[:, ix]\n",
    "    both_info = np.stack([curU, curV]).T\n",
    "    com_U = spec_emb_red(both_info)\n",
    "    com_Us.append(np.squeeze(com_U))\n",
    "com_Us = np.array(com_Us).T"
   ]
  },
  {
   "cell_type": "code",
   "execution_count": 72,
   "id": "793d3647",
   "metadata": {
    "ExecuteTime": {
     "end_time": "2023-02-13T11:36:19.274487Z",
     "start_time": "2023-02-13T11:36:19.239285Z"
    }
   },
   "outputs": [
    {
     "name": "stdout",
     "output_type": "stream",
     "text": [
      "[0.50729882 0.49270118]\n",
      "[0.5709278 0.4290722]\n",
      "[0.57548489 0.42451511]\n",
      "[0.50907397 0.49092603]\n",
      "[0.5447901 0.4552099]\n",
      "[0.53224875 0.46775125]\n",
      "[0.54706111 0.45293889]\n",
      "[0.53438633 0.46561367]\n",
      "[0.55663021 0.44336979]\n",
      "[0.51991488 0.48008512]\n",
      "[0.58078148 0.41921852]\n",
      "[0.59348228 0.40651772]\n",
      "[0.58743873 0.41256127]\n",
      "[0.58219224 0.41780776]\n",
      "[0.54837836 0.45162164]\n",
      "[0.52669167 0.47330833]\n",
      "[0.50376239 0.49623761]\n",
      "[0.53178216 0.46821784]\n",
      "[0.53974375 0.46025625]\n",
      "[0.50439078 0.49560922]\n"
     ]
    }
   ],
   "source": [
    "# PCA\n",
    "# It seems it works not very good\n",
    "from sklearn.decomposition import PCA\n",
    "for ix in range(20):\n",
    "    curU, curV = U[:, ix], V[:, ix]\n",
    "    both_info = np.stack([curU, curV]).T\n",
    "    pca = PCA(n_components=2)\n",
    "    \n",
    "    pca.fit(both_info)\n",
    "    res = pca.transform(both_info)\n",
    "    print(pca.explained_variance_ratio_)"
   ]
  },
  {
   "cell_type": "code",
   "execution_count": 96,
   "id": "0ebc3e56",
   "metadata": {
    "ExecuteTime": {
     "end_time": "2023-02-13T11:44:56.403644Z",
     "start_time": "2023-02-13T11:44:56.395012Z"
    }
   },
   "outputs": [],
   "source": [
    "# Naive way np.sqrt(U**2+V**2)\n",
    "com_Us = []\n",
    "for ix in range(20):\n",
    "    curU, curV = U[:, ix], V[:, ix]\n",
    "    com_U = np.sqrt(curU**2+curV**2)\n",
    "    com_Us.append(np.squeeze(com_U))\n",
    "com_Us = np.array(com_Us).T"
   ]
  },
  {
   "cell_type": "code",
   "execution_count": null,
   "id": "9716a78f",
   "metadata": {
    "ExecuteTime": {
     "end_time": "2023-02-13T11:23:08.862698Z",
     "start_time": "2023-02-13T11:23:08.856637Z"
    }
   },
   "outputs": [],
   "source": []
  },
  {
   "cell_type": "code",
   "execution_count": null,
   "id": "a99b524b",
   "metadata": {},
   "outputs": [],
   "source": []
  },
  {
   "cell_type": "markdown",
   "id": "f8b6d26a",
   "metadata": {},
   "source": [
    "## Plot\n"
   ]
  },
  {
   "cell_type": "code",
   "execution_count": 76,
   "id": "ac632cbb",
   "metadata": {
    "ExecuteTime": {
     "end_time": "2023-02-13T11:38:35.673661Z",
     "start_time": "2023-02-13T11:38:35.651662Z"
    }
   },
   "outputs": [],
   "source": [
    "defNetsFil = list(DATA_ROOT.glob(\"DK_dic68.csv\"))[0]\n",
    "defNets = pd.read_csv(defNetsFil).T\n",
    "\n",
    "DefNets_dict = {}\n",
    "for ix in range(defNets.shape[-1]):\n",
    "    curCol = defNets[ix]\n",
    "    DefNets_dict[curCol[0]] = np.array(curCol[1:])\n",
    "net_names = sorted(DefNets_dict.keys())\n",
    "\n",
    "_paras.canon_nets = DefNets_dict\n",
    "_paras.canon_net_names = net_names"
   ]
  },
  {
   "cell_type": "code",
   "execution_count": 79,
   "id": "ee4642e0",
   "metadata": {
    "ExecuteTime": {
     "end_time": "2023-02-13T11:39:14.579100Z",
     "start_time": "2023-02-13T11:39:14.571625Z"
    }
   },
   "outputs": [],
   "source": [
    "# truncate small value in vec\n",
    "def _cumsum_trunc(vec, cutoff=0.9):\n",
    "    vec = vec.copy()\n",
    "    idxs = cumsum_cutoff(vec, cutoff)\n",
    "    counter_idxs = np.delete(np.arange(len(vec)), idxs)\n",
    "    vec[counter_idxs] = 0\n",
    "    return vec"
   ]
  },
  {
   "cell_type": "code",
   "execution_count": 92,
   "id": "1a7df2ad",
   "metadata": {
    "ExecuteTime": {
     "end_time": "2023-02-13T11:43:45.035821Z",
     "start_time": "2023-02-13T11:43:45.019797Z"
    }
   },
   "outputs": [],
   "source": [
    "# plot the corrmat with 7 canonical nets\n",
    "def _corr_plot(vecs, cutoff=0.05, trun_fn=lambda x:x, trans_fn=np.abs):\n",
    "    vecs = np.array(vecs)\n",
    "    if vecs.shape[0] != 68:\n",
    "        vecs = vecs.T\n",
    "    assert vecs.shape[0] == 68\n",
    "    corrMat = np.zeros((7, vecs.shape[-1]))\n",
    "    for ix in range(vecs.shape[-1]):\n",
    "        curU = vecs[:, ix]\n",
    "        curU = trun_fn(curU)\n",
    "        for iy, kz in enumerate(_paras.canon_net_names):\n",
    "            curV = _paras.canon_nets[kz]\n",
    "            curV = trun_fn(curV)\n",
    "            corr_v, pv = scipy.stats.pearsonr(curU, curV)\n",
    "            if pv <= cutoff:\n",
    "                corrMat[iy, ix] = corr_v\n",
    "            else:\n",
    "                corrMat[iy, ix] = 0\n",
    "            \n",
    "    plt.figure(figsize=[15, 5])\n",
    "    trans_corrMat = trans_fn(corrMat)\n",
    "    sns.heatmap(trans_corrMat,  yticklabels=_paras.canon_net_names, \n",
    "                xticklabels=np.arange(1, vecs.shape[-1]+1),\n",
    "                cmap=\"bwr\", center=0, \n",
    "                vmin=-1, vmax=1, annot=np.round(trans_corrMat, 2))\n",
    "    return corrMat"
   ]
  },
  {
   "cell_type": "code",
   "execution_count": 95,
   "id": "ba34b8e5",
   "metadata": {
    "ExecuteTime": {
     "end_time": "2023-02-13T11:44:10.132869Z",
     "start_time": "2023-02-13T11:44:09.482757Z"
    }
   },
   "outputs": [
    {
     "data": {
      "image/png": "[encoded data removed]",
      "text/plain": [
       "<Figure size 1500x500 with 2 Axes>"
      ]
     },
     "metadata": {
      "needs_background": "light"
     },
     "output_type": "display_data"
    }
   ],
   "source": [
    "tfn1 = partial(_cumsum_trunc, cutoff=0.95)\n",
    "corr_mat = _corr_plot(com_Us, cutoff=0.05, trun_fn=tfn1, trans_fn=lambda x:np.array(x));"
   ]
  },
  {
   "cell_type": "code",
   "execution_count": null,
   "id": "a185de16",
   "metadata": {},
   "outputs": [],
   "source": []
  },
  {
   "cell_type": "markdown",
   "id": "29b363de",
   "metadata": {},
   "source": [
    "## Save "
   ]
  },
  {
   "cell_type": "code",
   "execution_count": 98,
   "id": "1b640edd",
   "metadata": {
    "ExecuteTime": {
     "end_time": "2023-02-13T11:46:13.853933Z",
     "start_time": "2023-02-13T11:46:13.841458Z"
    }
   },
   "outputs": [],
   "source": [
    "from constants import REGION_NAMES, REGION_NAMES_WLOBE\n",
    "from utils.standardize import minmax, minmax_mat, minmax_plotting\n",
    "from utils.brain_plot import reorder_U, U_2brain_vec, obt_FC_exp\n",
    "\n",
    "# save the files for brainplotting\n",
    "def save_brainplotting_vec(vecs, filname_prefix, order=2, is_csv=False):\n",
    "    vecs = np.array(vecs)\n",
    "    if vecs.shape[0] != 68:\n",
    "        vecs = vecs.T\n",
    "    for ix in range(vecs.shape[1]):\n",
    "        cur_sing_vec = vecs[:, ix]\n",
    "        out_vec_raw = minmax_plotting(cur_sing_vec, order=order)\n",
    "        out_vec = U_2brain_vec(reorder_U(out_vec_raw))\n",
    "        np.savetxt(RES_ROOT/f\"./{filname_prefix}_{ix+1}.txt\", out_vec)\n",
    "        if is_csv:\n",
    "            pd.DataFrame({\"Name\": REGION_NAMES,\n",
    "                      \"Vec\": cur_sing_vec}).to_csv(paras.res_dir/f\"./{filname_prefix}_{ix+1}.csv\",\n",
    "                                                          index=False)"
   ]
  },
  {
   "cell_type": "code",
   "execution_count": 100,
   "id": "faf2cb91",
   "metadata": {
    "ExecuteTime": {
     "end_time": "2023-02-13T12:18:05.592877Z",
     "start_time": "2023-02-13T12:18:03.344243Z"
    }
   },
   "outputs": [],
   "source": [
    "#save_brainplotting_vec(np.abs(com_Us), \"m8_sqsum_abs_comU_order3\", 3)\n",
    "save_brainplotting_vec(com_Us, \"m8_sqsum_raw_comU_order2\", 2)"
   ]
  },
  {
   "cell_type": "code",
   "execution_count": null,
   "id": "161b4872",
   "metadata": {},
   "outputs": [],
   "source": []
  }
 ],
 "metadata": {
  "kernelspec": {
   "display_name": "Python 3 (ipykernel)",
   "language": "python",
   "name": "python3"
  },
  "language_info": {
   "codemirror_mode": {
    "name": "ipython",
    "version": 3
   },
   "file_extension": ".py",
   "mimetype": "text/x-python",
   "name": "python",
   "nbconvert_exporter": "python",
   "pygments_lexer": "ipython3",
   "version": "3.9.7"
  },
  "toc": {
   "base_numbering": 1,
   "nav_menu": {},
   "number_sections": true,
   "sideBar": true,
   "skip_h1_title": false,
   "title_cell": "Table of Contents",
   "title_sidebar": "Contents",
   "toc_cell": false,
   "toc_position": {},
   "toc_section_display": true,
   "toc_window_display": false
  }
 },
 "nbformat": 4,
 "nbformat_minor": 5
}
