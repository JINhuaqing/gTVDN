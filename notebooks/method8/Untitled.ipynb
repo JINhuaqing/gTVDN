{
 "cells": [
  {
   "cell_type": "code",
   "execution_count": 6,
   "id": "40b5a614",
   "metadata": {
    "ExecuteTime": {
     "end_time": "2023-03-22T21:02:01.697646Z",
     "start_time": "2023-03-22T21:02:01.693187Z"
    }
   },
   "outputs": [],
   "source": [
    "from rpy2 import robjects as robj\n",
    "import numpy as np\n",
    "from rpy2.robjects import numpy2ri\n",
    "\n",
    "r = robj.r"
   ]
  },
  {
   "cell_type": "code",
   "execution_count": 7,
   "id": "ea00977f",
   "metadata": {
    "ExecuteTime": {
     "end_time": "2023-03-22T21:02:02.503278Z",
     "start_time": "2023-03-22T21:02:02.499406Z"
    }
   },
   "outputs": [],
   "source": [
    "x = np.arange(10)"
   ]
  },
  {
   "cell_type": "code",
   "execution_count": 8,
   "id": "30d7af58",
   "metadata": {
    "ExecuteTime": {
     "end_time": "2023-03-22T21:02:02.830878Z",
     "start_time": "2023-03-22T21:02:02.825275Z"
    }
   },
   "outputs": [],
   "source": [
    "xx = r.runif(10)"
   ]
  },
  {
   "cell_type": "code",
   "execution_count": 9,
   "id": "02cade9a",
   "metadata": {
    "ExecuteTime": {
     "end_time": "2023-03-22T21:02:03.808988Z",
     "start_time": "2023-03-22T21:02:03.803399Z"
    }
   },
   "outputs": [],
   "source": [
    "numpy2ri.activate()\n",
    "xx1 = r.runif(10)"
   ]
  },
  {
   "cell_type": "code",
   "execution_count": 10,
   "id": "c105bb2c",
   "metadata": {
    "ExecuteTime": {
     "end_time": "2023-03-22T21:02:07.197699Z",
     "start_time": "2023-03-22T21:02:07.190561Z"
    }
   },
   "outputs": [
    {
     "data": {
      "text/html": [
       "\n",
       "        <span>FloatVector with 10 elements.</span>\n",
       "        <table>\n",
       "        <tbody>\n",
       "          <tr>\n",
       "          \n",
       "            <td>\n",
       "            0.498802\n",
       "            </td>\n",
       "          \n",
       "            <td>\n",
       "            0.931745\n",
       "            </td>\n",
       "          \n",
       "            <td>\n",
       "            0.311182\n",
       "            </td>\n",
       "          \n",
       "            <td>\n",
       "            ...\n",
       "            </td>\n",
       "          \n",
       "            <td>\n",
       "            0.430125\n",
       "            </td>\n",
       "          \n",
       "            <td>\n",
       "            0.797227\n",
       "            </td>\n",
       "          \n",
       "            <td>\n",
       "            0.872131\n",
       "            </td>\n",
       "          \n",
       "          </tr>\n",
       "        </tbody>\n",
       "        </table>\n",
       "        "
      ],
      "text/plain": [
       "<rpy2.robjects.vectors.FloatVector object at 0x7fe788bbf680> [RTYPES.REALSXP]\n",
       "R classes: ('numeric',)\n",
       "[0.498802, 0.931745, 0.311182, 0.985684, ..., 0.858852, 0.430125, 0.797227, 0.872131]"
      ]
     },
     "execution_count": 10,
     "metadata": {},
     "output_type": "execute_result"
    }
   ],
   "source": [
    "xx"
   ]
  },
  {
   "cell_type": "code",
   "execution_count": 11,
   "id": "ce14775d",
   "metadata": {
    "ExecuteTime": {
     "end_time": "2023-03-22T21:02:09.616734Z",
     "start_time": "2023-03-22T21:02:09.610418Z"
    }
   },
   "outputs": [
    {
     "data": {
      "text/plain": [
       "array([0.51539403, 0.73085372, 0.98941431, 0.30968971, 0.81323844,\n",
       "       0.28732027, 0.18528393, 0.09762493, 0.92713625, 0.1127861 ])"
      ]
     },
     "execution_count": 11,
     "metadata": {},
     "output_type": "execute_result"
    }
   ],
   "source": [
    "xx1"
   ]
  },
  {
   "cell_type": "code",
   "execution_count": null,
   "id": "e84fe8f4",
   "metadata": {},
   "outputs": [],
   "source": []
  }
 ],
 "metadata": {
  "kernelspec": {
   "display_name": "Python 3 (ipykernel)",
   "language": "python",
   "name": "python3"
  },
  "language_info": {
   "codemirror_mode": {
    "name": "ipython",
    "version": 3
   },
   "file_extension": ".py",
   "mimetype": "text/x-python",
   "name": "python",
   "nbconvert_exporter": "python",
   "pygments_lexer": "ipython3",
   "version": "3.9.7"
  },
  "toc": {
   "base_numbering": 1,
   "nav_menu": {},
   "number_sections": true,
   "sideBar": true,
   "skip_h1_title": false,
   "title_cell": "Table of Contents",
   "title_sidebar": "Contents",
   "toc_cell": false,
   "toc_position": {},
   "toc_section_display": true,
   "toc_window_display": false
  }
 },
 "nbformat": 4,
 "nbformat_minor": 5
}
