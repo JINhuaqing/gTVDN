{
 "cells": [
  {
   "cell_type": "markdown",
   "id": "ff271de7",
   "metadata": {},
   "source": [
    "This file contains the code for analysis of singular values and U V. \n",
    "\n",
    "The analysis follows Fei on Feb 19, 2023\n",
    "\n",
    "\n",
    "**Heads-up**\n",
    "\n",
    "1. When put two grps together, Ctrl first then AD."
   ]
  },
  {
   "cell_type": "code",
   "execution_count": 1,
   "id": "b8bfce8f",
   "metadata": {
    "ExecuteTime": {
     "end_time": "2023-02-20T06:55:50.249184Z",
     "start_time": "2023-02-20T06:55:49.596067Z"
    }
   },
   "outputs": [],
   "source": [
    "import numpy as np\n",
    "import scipy\n",
    "import matplotlib.pyplot as plt\n",
    "import seaborn as sns\n",
    "import pandas as pd\n",
    "import pickle\n",
    "\n",
    "from pathlib import Path\n",
    "from scipy.io import loadmat\n",
    "from pprint import pprint\n",
    "from tqdm import trange, tqdm\n",
    "from scipy.stats import ttest_ind, mannwhitneyu\n",
    "from collections import defaultdict as ddict\n",
    "from easydict import EasyDict as edict\n",
    "from collections import Counter\n",
    "\n",
    "%matplotlib inline"
   ]
  },
  {
   "cell_type": "code",
   "execution_count": 2,
   "id": "30244d37",
   "metadata": {
    "ExecuteTime": {
     "end_time": "2023-02-20T06:56:00.958970Z",
     "start_time": "2023-02-20T06:56:00.943764Z"
    }
   },
   "outputs": [],
   "source": [
    "# import my own functions\n",
    "import sys\n",
    "sys.path.append(\"../../mypkg\")\n",
    "import importlib\n",
    "\n",
    "# paras\n",
    "import paras\n",
    "importlib.reload(paras);\n",
    "from paras import paras\n",
    "\n",
    "# some useful constants\n",
    "import constants\n",
    "importlib.reload(constants)\n",
    "from constants import REGION_NAMES, REGION_NAMES_WLOBE, DATA_ROOT, RES_ROOT, FIG_ROOT\n",
    "\n",
    "plt.style.use(FIG_ROOT/\"base.mplstyle\")"
   ]
  },
  {
   "cell_type": "code",
   "execution_count": 3,
   "id": "a9e094d8",
   "metadata": {
    "ExecuteTime": {
     "end_time": "2023-02-20T06:56:26.908764Z",
     "start_time": "2023-02-20T06:56:26.754130Z"
    }
   },
   "outputs": [],
   "source": [
    "from utils.matrix import eig_sorted\n",
    "from utils.misc import paras2name, cumsum_cutoff, load_pkl_folder2dict, save_pkl_dict2folder\n",
    "from utils.standardize import minmax, minmax_mat, minmax_pn"
   ]
  },
  {
   "cell_type": "code",
   "execution_count": null,
   "id": "d3e7f4a3",
   "metadata": {},
   "outputs": [],
   "source": []
  },
  {
   "cell_type": "markdown",
   "id": "abe27954",
   "metadata": {},
   "source": [
    "## Load data"
   ]
  },
  {
   "cell_type": "code",
   "execution_count": 4,
   "id": "545460a6",
   "metadata": {
    "ExecuteTime": {
     "end_time": "2023-02-20T06:56:57.034005Z",
     "start_time": "2023-02-20T06:56:57.027986Z"
    }
   },
   "outputs": [],
   "source": [
    "# this parameters only for this file\n",
    "_paras = edict()\n",
    "_paras.folder_name = \"method8\""
   ]
  },
  {
   "cell_type": "code",
   "execution_count": 5,
   "id": "2a6518ca",
   "metadata": {
    "ExecuteTime": {
     "end_time": "2023-02-20T06:57:50.827138Z",
     "start_time": "2023-02-20T06:57:50.623999Z"
    }
   },
   "outputs": [
    {
     "name": "stdout",
     "output_type": "stream",
     "text": [
      "Load file /gTVDN/notebooks/method8/../../mypkg/../results/method8/CPDresult.pkl\n",
      "Load file /gTVDN/notebooks/method8/../../mypkg/../results/method8/cpts_ADs.pkl\n",
      "Load file /gTVDN/notebooks/method8/../../mypkg/../results/method8/cpts_ADs_selected.pkl\n",
      "Load file /gTVDN/notebooks/method8/../../mypkg/../results/method8/cpts_ctrls.pkl\n",
      "Load file /gTVDN/notebooks/method8/../../mypkg/../results/method8/cpts_ctrls_selected.pkl\n",
      "Load file /gTVDN/notebooks/method8/../../mypkg/../results/method8/dwells_ADs_selected.pkl\n",
      "Load file /gTVDN/notebooks/method8/../../mypkg/../results/method8/dwells_ctrls_selected.pkl\n",
      "Load file /gTVDN/notebooks/method8/../../mypkg/../results/method8/nXmats_AD.pkl\n",
      "Load file /gTVDN/notebooks/method8/../../mypkg/../results/method8/nXmats_ctrl.pkl\n",
      "Load file /gTVDN/notebooks/method8/../../mypkg/../results/method8/ndXmats_AD.pkl\n",
      "Load file /gTVDN/notebooks/method8/../../mypkg/../results/method8/ndXmats_ctrl.pkl\n",
      "Load file /gTVDN/notebooks/method8/../../mypkg/../results/method8/post_paras.pkl\n",
      "Load file /gTVDN/notebooks/method8/../../mypkg/../results/method8/rank_ADs.pkl\n",
      "Load file /gTVDN/notebooks/method8/../../mypkg/../results/method8/rank_ctrls.pkl\n",
      "Load file /gTVDN/notebooks/method8/../../mypkg/../results/method8/singular_vals_ADs.pkl\n",
      "Load file /gTVDN/notebooks/method8/../../mypkg/../results/method8/singular_vals_ctrls.pkl\n"
     ]
    }
   ],
   "source": [
    "# load results\n",
    "cur_res = load_pkl_folder2dict(RES_ROOT/_paras.folder_name, excluding=[\"Amat*\", \"can*\", \"dXX*\"])"
   ]
  },
  {
   "cell_type": "markdown",
   "id": "1b3665f3",
   "metadata": {},
   "source": [
    "## Analysis"
   ]
  },
  {
   "cell_type": "code",
   "execution_count": 16,
   "id": "a218eb59",
   "metadata": {
    "ExecuteTime": {
     "end_time": "2023-02-20T07:08:05.476224Z",
     "start_time": "2023-02-20T07:08:05.467806Z"
    }
   },
   "outputs": [],
   "source": [
    "# pool all singular vals together\n",
    "sing_vals_ADs_pool = np.concatenate(cur_res.singular_vals_ADs, axis=1).T\n",
    "sing_vals_ctrls_pool = np.concatenate(cur_res.singular_vals_ctrls, axis=1).T\n",
    "sing_vals_both_pool = np.concatenate([sing_vals_ctrls_pool, sing_vals_ADs_pool], axis=0)"
   ]
  },
  {
   "cell_type": "code",
   "execution_count": 39,
   "id": "90344304",
   "metadata": {
    "ExecuteTime": {
     "end_time": "2023-02-20T07:13:40.274006Z",
     "start_time": "2023-02-20T07:13:40.267911Z"
    }
   },
   "outputs": [],
   "source": [
    "# must remove the scale of the singular values\n",
    "sing_vals_both_pool_normed = sing_vals_both_pool/np.linalg.norm(sing_vals_both_pool, axis=1)[:, np.newaxis]"
   ]
  },
  {
   "cell_type": "code",
   "execution_count": null,
   "id": "4de0e96d",
   "metadata": {},
   "outputs": [],
   "source": []
  },
  {
   "cell_type": "markdown",
   "id": "cddff76f",
   "metadata": {},
   "source": [
    "### clustering"
   ]
  },
  {
   "cell_type": "code",
   "execution_count": 40,
   "id": "69cefa95",
   "metadata": {
    "ExecuteTime": {
     "end_time": "2023-02-20T07:13:42.274661Z",
     "start_time": "2023-02-20T07:13:42.269444Z"
    }
   },
   "outputs": [],
   "source": [
    "from sklearn.cluster import KMeans\n",
    "from sklearn.cluster import SpectralClustering\n",
    "from sklearn.decomposition import PCA"
   ]
  },
  {
   "cell_type": "code",
   "execution_count": 41,
   "id": "c51658d3",
   "metadata": {
    "ExecuteTime": {
     "end_time": "2023-02-20T07:13:43.098375Z",
     "start_time": "2023-02-20T07:13:43.089536Z"
    }
   },
   "outputs": [],
   "source": [
    "# find the best num of clusters\n",
    "def kmeans_BIC(kmCluObj, Cn=1):\n",
    "    nclu = kmCluObj.n_clusters\n",
    "    nsps = len(kmCluObj.labels_)\n",
    "    nDim = kmCluObj.cluster_centers_.shape[1]\n",
    "    log_lik = np.log(kmCluObj.inertia_/nsps/nDim)\n",
    "    BIC = log_lik + Cn*np.log(np.log(nsps*nDim))*np.log(nsps)*(nclu-1)/nsps\n",
    "    #BIC = nsps*log_lik + np.log(nsps)*nclu*nDim/2\n",
    "    #BIC = nsps*log_lik/(nsps-nDim*nclu)\n",
    "    #BIC = nsps*log_lik + nclu*nDim\n",
    "    return BIC"
   ]
  },
  {
   "cell_type": "code",
   "execution_count": 47,
   "id": "f08bbcad",
   "metadata": {
    "ExecuteTime": {
     "end_time": "2023-02-20T07:15:57.154784Z",
     "start_time": "2023-02-20T07:15:54.427732Z"
    }
   },
   "outputs": [],
   "source": [
    "# find the opt num of clusters\n",
    "BICs = []\n",
    "num_clus = list(range(2, 20))\n",
    "for ix in num_clus:\n",
    "    tmp_clus = KMeans(n_clusters=ix, random_state=0).fit(sing_vals_both_pool_normed)\n",
    "    BICs.append(kmeans_BIC(tmp_clus,Cn=2))"
   ]
  },
  {
   "cell_type": "code",
   "execution_count": 48,
   "id": "7d3d3dc3",
   "metadata": {
    "ExecuteTime": {
     "end_time": "2023-02-20T07:16:01.539046Z",
     "start_time": "2023-02-20T07:16:01.404774Z"
    }
   },
   "outputs": [
    {
     "data": {
      "text/plain": [
       "[<matplotlib.lines.Line2D at 0x7f7d1fa2fca0>]"
      ]
     },
     "execution_count": 48,
     "metadata": {},
     "output_type": "execute_result"
    },
    {
     "data": {
      "image/png": "[encoded data removed]",
      "text/plain": [
       "<Figure size 1000x500 with 1 Axes>"
      ]
     },
     "metadata": {
      "needs_background": "light"
     },
     "output_type": "display_data"
    }
   ],
   "source": [
    "plt.plot(num_clus, BICs)"
   ]
  },
  {
   "cell_type": "code",
   "execution_count": 50,
   "id": "24c7cbc9",
   "metadata": {
    "ExecuteTime": {
     "end_time": "2023-02-20T07:17:26.489673Z",
     "start_time": "2023-02-20T07:17:26.481029Z"
    }
   },
   "outputs": [
    {
     "data": {
      "text/plain": [
       "10"
      ]
     },
     "execution_count": 50,
     "metadata": {},
     "output_type": "execute_result"
    }
   ],
   "source": [
    "sel_num_clu = num_clus[np.argmin(BICs)]\n",
    "sel_num_clu"
   ]
  },
  {
   "cell_type": "code",
   "execution_count": null,
   "id": "c80f420e",
   "metadata": {},
   "outputs": [],
   "source": []
  }
 ],
 "metadata": {
  "kernelspec": {
   "display_name": "Python 3 (ipykernel)",
   "language": "python",
   "name": "python3"
  },
  "language_info": {
   "codemirror_mode": {
    "name": "ipython",
    "version": 3
   },
   "file_extension": ".py",
   "mimetype": "text/x-python",
   "name": "python",
   "nbconvert_exporter": "python",
   "pygments_lexer": "ipython3",
   "version": "3.9.7"
  },
  "toc": {
   "base_numbering": 1,
   "nav_menu": {},
   "number_sections": true,
   "sideBar": true,
   "skip_h1_title": false,
   "title_cell": "Table of Contents",
   "title_sidebar": "Contents",
   "toc_cell": false,
   "toc_position": {},
   "toc_section_display": true,
   "toc_window_display": false
  }
 },
 "nbformat": 4,
 "nbformat_minor": 5
}
