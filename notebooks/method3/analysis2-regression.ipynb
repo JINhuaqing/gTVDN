{
 "cells": [
  {
   "cell_type": "markdown",
   "id": "944cc379",
   "metadata": {},
   "source": [
    "This file analyze the results for regression."
   ]
  },
  {
   "cell_type": "code",
   "execution_count": 203,
   "id": "b653da70",
   "metadata": {
    "ExecuteTime": {
     "end_time": "2022-10-26T04:33:17.352104Z",
     "start_time": "2022-10-26T04:33:17.181071Z"
    }
   },
   "outputs": [],
   "source": [
    "import numpy as np\n",
    "import scipy\n",
    "import matplotlib.pyplot as plt\n",
    "import seaborn as sns\n",
    "import pandas as pd\n",
    "import pickle\n",
    "\n",
    "from pathlib import Path\n",
    "from pprint import pprint\n",
    "from scipy.io import loadmat\n",
    "from tqdm import trange, tqdm\n",
    "from scipy.stats import ttest_ind\n",
    "from collections import defaultdict as ddict\n",
    "from easydict import EasyDict as edict\n",
    "\n",
    "from sklearn.linear_model import LogisticRegression\n",
    "from sklearn.metrics import roc_auc_score, roc_curve\n",
    "from sklearn.ensemble import RandomForestClassifier\n",
    "from sklearn.tree import DecisionTreeClassifier\n",
    "\n",
    "%matplotlib inline"
   ]
  },
  {
   "cell_type": "code",
   "execution_count": 204,
   "id": "ee51cbe2",
   "metadata": {
    "ExecuteTime": {
     "end_time": "2022-10-26T04:33:17.968086Z",
     "start_time": "2022-10-26T04:33:17.831590Z"
    }
   },
   "outputs": [],
   "source": [
    "# import my own functions\n",
    "import sys\n",
    "sys.path.append(\"../../mypkg\")\n",
    "import importlib\n",
    "\n",
    "# paras\n",
    "import paras\n",
    "importlib.reload(paras);\n",
    "from paras import paras\n",
    "\n",
    "# some useful constants\n",
    "import constants\n",
    "importlib.reload(constants)\n",
    "from constants import REGION_NAMES, REGION_NAMES_WLOBE, RES_ROOT, DATA_ROOT"
   ]
  },
  {
   "cell_type": "code",
   "execution_count": 205,
   "id": "e6dc6f3b",
   "metadata": {
    "ExecuteTime": {
     "end_time": "2022-10-26T04:33:18.890292Z",
     "start_time": "2022-10-26T04:33:18.421840Z"
    }
   },
   "outputs": [],
   "source": [
    "# utils\n",
    "import utils.matrix\n",
    "importlib.reload(utils.matrix)\n",
    "from utils.matrix import eig_sorted\n",
    "\n",
    "import utils.misc\n",
    "importlib.reload(utils.misc)\n",
    "from utils.misc import paras2name, cumsum_cutoff, save_pkl_dict2folder, load_pkl_folder2dict\n",
    "\n",
    "import utils.projection\n",
    "importlib.reload(utils.projection)\n",
    "from utils.projection import euclidean_proj_l1ball\n",
    "\n",
    "import utils.standardize\n",
    "importlib.reload(utils.standardize)\n",
    "from utils.standardize import minmax, minmax_mat, minmax_pn\n",
    "\n",
    "import utils.brain_plot\n",
    "importlib.reload(utils.brain_plot)\n",
    "from utils.brain_plot import reorder_U, U_2brain_vec"
   ]
  },
  {
   "cell_type": "code",
   "execution_count": 206,
   "id": "bc958042",
   "metadata": {
    "ExecuteTime": {
     "end_time": "2022-10-26T04:33:19.096115Z",
     "start_time": "2022-10-26T04:33:19.050119Z"
    }
   },
   "outputs": [],
   "source": [
    "# gtvdn\n",
    "import gtvdn.gtvdn_post\n",
    "importlib.reload(gtvdn.gtvdn_post)\n",
    "from gtvdn.gtvdn_post import est_singular_vals, update_kp"
   ]
  },
  {
   "cell_type": "code",
   "execution_count": null,
   "id": "e643f164",
   "metadata": {},
   "outputs": [],
   "source": []
  },
  {
   "cell_type": "markdown",
   "id": "69597bf3",
   "metadata": {},
   "source": [
    "## Parameters"
   ]
  },
  {
   "cell_type": "code",
   "execution_count": 207,
   "id": "48519ca5",
   "metadata": {
    "ExecuteTime": {
     "end_time": "2022-10-26T04:33:20.746409Z",
     "start_time": "2022-10-26T04:33:20.661444Z"
    }
   },
   "outputs": [
    {
     "name": "stdout",
     "output_type": "stream",
     "text": [
      "{'Cs': array([1.0e+02, 2.5e+01, 1.0e+01, 5.0e+00, 2.0e+00, 1.0e+00, 5.0e-01,\n",
      "       2.0e-01, 1.0e-01, 5.0e-02, 1.0e-02]),\n",
      " 'L': 100.0,\n",
      " 'Lmin': 200,\n",
      " 'T': 2,\n",
      " 'cur_dir': PosixPath('/data/rajlab1/user_data/jin/MyResearch/gTVDN/notebooks/method3/../../mypkg'),\n",
      " 'cutoff': 0.6,\n",
      " 'data_dir': PosixPath('../data'),\n",
      " 'decimate_rate': 5,\n",
      " 'downsample_rate': 20,\n",
      " 'fct': 0.5,\n",
      " 'fig_dir': PosixPath('../figs'),\n",
      " 'is_detrend': True,\n",
      " 'kappa': 3.21,\n",
      " 'kps': array([1.        , 1.003003  , 1.00600601, 1.00900901, 1.01201201,\n",
      "       1.01501502, 1.01801802, 1.02102102, 1.02402402, 1.02702703,\n",
      "       1.03003003, 1.03303303, 1.03603604, 1.03903904, 1.04204204,\n",
      "       1.04504505, 1.04804805, 1.05105105, 1.05405405, 1.05705706,\n",
      "       1.06006006, 1.06306306, 1.06606607, 1.06906907, 1.07207207,\n",
      "       1.07507508, 1.07807808, 1.08108108, 1.08408408, 1.08708709,\n",
      "       1.09009009, 1.09309309, 1.0960961 , 1.0990991 , 1.1021021 ,\n",
      "       1.10510511, 1.10810811, 1.11111111, 1.11411411, 1.11711712,\n",
      "       1.12012012, 1.12312312, 1.12612613, 1.12912913, 1.13213213,\n",
      "       1.13513514, 1.13813814, 1.14114114, 1.14414414, 1.14714715,\n",
      "       1.15015015, 1.15315315, 1.15615616, 1.15915916, 1.16216216,\n",
      "       1.16516517, 1.16816817, 1.17117117, 1.17417417, 1.17717718,\n",
      "       1.18018018, 1.18318318, 1.18618619, 1.18918919, 1.19219219,\n",
      "       1.1951952 , 1.1981982 , 1.2012012 , 1.2042042 , 1.20720721,\n",
      "       1.21021021, 1.21321321, 1.21621622, 1.21921922, 1.22222222,\n",
      "       1.22522523, 1.22822823, 1.23123123, 1.23423423, 1.23723724,\n",
      "       1.24024024, 1.24324324, 1.24624625, 1.24924925, 1.25225225,\n",
      "       1.25525526, 1.25825826, 1.26126126, 1.26426426, 1.26726727,\n",
      "       1.27027027, 1.27327327, 1.27627628, 1.27927928, 1.28228228,\n",
      "       1.28528529, 1.28828829, 1.29129129, 1.29429429, 1.2972973 ,\n",
      "       1.3003003 , 1.3033033 , 1.30630631, 1.30930931, 1.31231231,\n",
      "       1.31531532, 1.31831832, 1.32132132, 1.32432432, 1.32732733,\n",
      "       1.33033033, 1.33333333, 1.33633634, 1.33933934, 1.34234234,\n",
      "       1.34534535, 1.34834835, 1.35135135, 1.35435435, 1.35735736,\n",
      "       1.36036036, 1.36336336, 1.36636637, 1.36936937, 1.37237237,\n",
      "       1.37537538, 1.37837838, 1.38138138, 1.38438438, 1.38738739,\n",
      "       1.39039039, 1.39339339, 1.3963964 , 1.3993994 , 1.4024024 ,\n",
      "       1.40540541, 1.40840841, 1.41141141, 1.41441441, 1.41741742,\n",
      "       1.42042042, 1.42342342, 1.42642643, 1.42942943, 1.43243243,\n",
      "       1.43543544, 1.43843844, 1.44144144, 1.44444444, 1.44744745,\n",
      "       1.45045045, 1.45345345, 1.45645646, 1.45945946, 1.46246246,\n",
      "       1.46546547, 1.46846847, 1.47147147, 1.47447447, 1.47747748,\n",
      "       1.48048048, 1.48348348, 1.48648649, 1.48948949, 1.49249249,\n",
      "       1.4954955 , 1.4984985 , 1.5015015 , 1.5045045 , 1.50750751,\n",
      "       1.51051051, 1.51351351, 1.51651652, 1.51951952, 1.52252252,\n",
      "       1.52552553, 1.52852853, 1.53153153, 1.53453453, 1.53753754,\n",
      "       1.54054054, 1.54354354, 1.54654655, 1.54954955, 1.55255255,\n",
      "       1.55555556, 1.55855856, 1.56156156, 1.56456456, 1.56756757,\n",
      "       1.57057057, 1.57357357, 1.57657658, 1.57957958, 1.58258258,\n",
      "       1.58558559, 1.58858859, 1.59159159, 1.59459459, 1.5975976 ,\n",
      "       1.6006006 , 1.6036036 , 1.60660661, 1.60960961, 1.61261261,\n",
      "       1.61561562, 1.61861862, 1.62162162, 1.62462462, 1.62762763,\n",
      "       1.63063063, 1.63363363, 1.63663664, 1.63963964, 1.64264264,\n",
      "       1.64564565, 1.64864865, 1.65165165, 1.65465465, 1.65765766,\n",
      "       1.66066066, 1.66366366, 1.66666667, 1.66966967, 1.67267267,\n",
      "       1.67567568, 1.67867868, 1.68168168, 1.68468468, 1.68768769,\n",
      "       1.69069069, 1.69369369, 1.6966967 , 1.6996997 , 1.7027027 ,\n",
      "       1.70570571, 1.70870871, 1.71171171, 1.71471471, 1.71771772,\n",
      "       1.72072072, 1.72372372, 1.72672673, 1.72972973, 1.73273273,\n",
      "       1.73573574, 1.73873874, 1.74174174, 1.74474474, 1.74774775,\n",
      "       1.75075075, 1.75375375, 1.75675676, 1.75975976, 1.76276276,\n",
      "       1.76576577, 1.76876877, 1.77177177, 1.77477477, 1.77777778,\n",
      "       1.78078078, 1.78378378, 1.78678679, 1.78978979, 1.79279279,\n",
      "       1.7957958 , 1.7987988 , 1.8018018 , 1.8048048 , 1.80780781,\n",
      "       1.81081081, 1.81381381, 1.81681682, 1.81981982, 1.82282282,\n",
      "       1.82582583, 1.82882883, 1.83183183, 1.83483483, 1.83783784,\n",
      "       1.84084084, 1.84384384, 1.84684685, 1.84984985, 1.85285285,\n",
      "       1.85585586, 1.85885886, 1.86186186, 1.86486486, 1.86786787,\n",
      "       1.87087087, 1.87387387, 1.87687688, 1.87987988, 1.88288288,\n",
      "       1.88588589, 1.88888889, 1.89189189, 1.89489489, 1.8978979 ,\n",
      "       1.9009009 , 1.9039039 , 1.90690691, 1.90990991, 1.91291291,\n",
      "       1.91591592, 1.91891892, 1.92192192, 1.92492492, 1.92792793,\n",
      "       1.93093093, 1.93393393, 1.93693694, 1.93993994, 1.94294294,\n",
      "       1.94594595, 1.94894895, 1.95195195, 1.95495495, 1.95795796,\n",
      "       1.96096096, 1.96396396, 1.96696697, 1.96996997, 1.97297297,\n",
      "       1.97597598, 1.97897898, 1.98198198, 1.98498498, 1.98798799,\n",
      "       1.99099099, 1.99399399, 1.996997  , 2.        , 2.003003  ,\n",
      "       2.00600601, 2.00900901, 2.01201201, 2.01501502, 2.01801802,\n",
      "       2.02102102, 2.02402402, 2.02702703, 2.03003003, 2.03303303,\n",
      "       2.03603604, 2.03903904, 2.04204204, 2.04504505, 2.04804805,\n",
      "       2.05105105, 2.05405405, 2.05705706, 2.06006006, 2.06306306,\n",
      "       2.06606607, 2.06906907, 2.07207207, 2.07507508, 2.07807808,\n",
      "       2.08108108, 2.08408408, 2.08708709, 2.09009009, 2.09309309,\n",
      "       2.0960961 , 2.0990991 , 2.1021021 , 2.10510511, 2.10810811,\n",
      "       2.11111111, 2.11411411, 2.11711712, 2.12012012, 2.12312312,\n",
      "       2.12612613, 2.12912913, 2.13213213, 2.13513514, 2.13813814,\n",
      "       2.14114114, 2.14414414, 2.14714715, 2.15015015, 2.15315315,\n",
      "       2.15615616, 2.15915916, 2.16216216, 2.16516517, 2.16816817,\n",
      "       2.17117117, 2.17417417, 2.17717718, 2.18018018, 2.18318318,\n",
      "       2.18618619, 2.18918919, 2.19219219, 2.1951952 , 2.1981982 ,\n",
      "       2.2012012 , 2.2042042 , 2.20720721, 2.21021021, 2.21321321,\n",
      "       2.21621622, 2.21921922, 2.22222222, 2.22522523, 2.22822823,\n",
      "       2.23123123, 2.23423423, 2.23723724, 2.24024024, 2.24324324,\n",
      "       2.24624625, 2.24924925, 2.25225225, 2.25525526, 2.25825826,\n",
      "       2.26126126, 2.26426426, 2.26726727, 2.27027027, 2.27327327,\n",
      "       2.27627628, 2.27927928, 2.28228228, 2.28528529, 2.28828829,\n",
      "       2.29129129, 2.29429429, 2.2972973 , 2.3003003 , 2.3033033 ,\n",
      "       2.30630631, 2.30930931, 2.31231231, 2.31531532, 2.31831832,\n",
      "       2.32132132, 2.32432432, 2.32732733, 2.33033033, 2.33333333,\n",
      "       2.33633634, 2.33933934, 2.34234234, 2.34534535, 2.34834835,\n",
      "       2.35135135, 2.35435435, 2.35735736, 2.36036036, 2.36336336,\n",
      "       2.36636637, 2.36936937, 2.37237237, 2.37537538, 2.37837838,\n",
      "       2.38138138, 2.38438438, 2.38738739, 2.39039039, 2.39339339,\n",
      "       2.3963964 , 2.3993994 , 2.4024024 , 2.40540541, 2.40840841,\n",
      "       2.41141141, 2.41441441, 2.41741742, 2.42042042, 2.42342342,\n",
      "       2.42642643, 2.42942943, 2.43243243, 2.43543544, 2.43843844,\n",
      "       2.44144144, 2.44444444, 2.44744745, 2.45045045, 2.45345345,\n",
      "       2.45645646, 2.45945946, 2.46246246, 2.46546547, 2.46846847,\n",
      "       2.47147147, 2.47447447, 2.47747748, 2.48048048, 2.48348348,\n",
      "       2.48648649, 2.48948949, 2.49249249, 2.4954955 , 2.4984985 ,\n",
      "       2.5015015 , 2.5045045 , 2.50750751, 2.51051051, 2.51351351,\n",
      "       2.51651652, 2.51951952, 2.52252252, 2.52552553, 2.52852853,\n",
      "       2.53153153, 2.53453453, 2.53753754, 2.54054054, 2.54354354,\n",
      "       2.54654655, 2.54954955, 2.55255255, 2.55555556, 2.55855856,\n",
      "       2.56156156, 2.56456456, 2.56756757, 2.57057057, 2.57357357,\n",
      "       2.57657658, 2.57957958, 2.58258258, 2.58558559, 2.58858859,\n",
      "       2.59159159, 2.59459459, 2.5975976 , 2.6006006 , 2.6036036 ,\n",
      "       2.60660661, 2.60960961, 2.61261261, 2.61561562, 2.61861862,\n",
      "       2.62162162, 2.62462462, 2.62762763, 2.63063063, 2.63363363,\n",
      "       2.63663664, 2.63963964, 2.64264264, 2.64564565, 2.64864865,\n",
      "       2.65165165, 2.65465465, 2.65765766, 2.66066066, 2.66366366,\n",
      "       2.66666667, 2.66966967, 2.67267267, 2.67567568, 2.67867868,\n",
      "       2.68168168, 2.68468468, 2.68768769, 2.69069069, 2.69369369,\n",
      "       2.6966967 , 2.6996997 , 2.7027027 , 2.70570571, 2.70870871,\n",
      "       2.71171171, 2.71471471, 2.71771772, 2.72072072, 2.72372372,\n",
      "       2.72672673, 2.72972973, 2.73273273, 2.73573574, 2.73873874,\n",
      "       2.74174174, 2.74474474, 2.74774775, 2.75075075, 2.75375375,\n",
      "       2.75675676, 2.75975976, 2.76276276, 2.76576577, 2.76876877,\n",
      "       2.77177177, 2.77477477, 2.77777778, 2.78078078, 2.78378378,\n",
      "       2.78678679, 2.78978979, 2.79279279, 2.7957958 , 2.7987988 ,\n",
      "       2.8018018 , 2.8048048 , 2.80780781, 2.81081081, 2.81381381,\n",
      "       2.81681682, 2.81981982, 2.82282282, 2.82582583, 2.82882883,\n",
      "       2.83183183, 2.83483483, 2.83783784, 2.84084084, 2.84384384,\n",
      "       2.84684685, 2.84984985, 2.85285285, 2.85585586, 2.85885886,\n",
      "       2.86186186, 2.86486486, 2.86786787, 2.87087087, 2.87387387,\n",
      "       2.87687688, 2.87987988, 2.88288288, 2.88588589, 2.88888889,\n",
      "       2.89189189, 2.89489489, 2.8978979 , 2.9009009 , 2.9039039 ,\n",
      "       2.90690691, 2.90990991, 2.91291291, 2.91591592, 2.91891892,\n",
      "       2.92192192, 2.92492492, 2.92792793, 2.93093093, 2.93393393,\n",
      "       2.93693694, 2.93993994, 2.94294294, 2.94594595, 2.94894895,\n",
      "       2.95195195, 2.95495495, 2.95795796, 2.96096096, 2.96396396,\n",
      "       2.96696697, 2.96996997, 2.97297297, 2.97597598, 2.97897898,\n",
      "       2.98198198, 2.98498498, 2.98798799, 2.99099099, 2.99399399,\n",
      "       2.996997  , 3.        , 3.003003  , 3.00600601, 3.00900901,\n",
      "       3.01201201, 3.01501502, 3.01801802, 3.02102102, 3.02402402,\n",
      "       3.02702703, 3.03003003, 3.03303303, 3.03603604, 3.03903904,\n",
      "       3.04204204, 3.04504505, 3.04804805, 3.05105105, 3.05405405,\n",
      "       3.05705706, 3.06006006, 3.06306306, 3.06606607, 3.06906907,\n",
      "       3.07207207, 3.07507508, 3.07807808, 3.08108108, 3.08408408,\n",
      "       3.08708709, 3.09009009, 3.09309309, 3.0960961 , 3.0990991 ,\n",
      "       3.1021021 , 3.10510511, 3.10810811, 3.11111111, 3.11411411,\n",
      "       3.11711712, 3.12012012, 3.12312312, 3.12612613, 3.12912913,\n",
      "       3.13213213, 3.13513514, 3.13813814, 3.14114114, 3.14414414,\n",
      "       3.14714715, 3.15015015, 3.15315315, 3.15615616, 3.15915916,\n",
      "       3.16216216, 3.16516517, 3.16816817, 3.17117117, 3.17417417,\n",
      "       3.17717718, 3.18018018, 3.18318318, 3.18618619, 3.18918919,\n",
      "       3.19219219, 3.1951952 , 3.1981982 , 3.2012012 , 3.2042042 ,\n",
      "       3.20720721, 3.21021021, 3.21321321, 3.21621622, 3.21921922,\n",
      "       3.22222222, 3.22522523, 3.22822823, 3.23123123, 3.23423423,\n",
      "       3.23723724, 3.24024024, 3.24324324, 3.24624625, 3.24924925,\n",
      "       3.25225225, 3.25525526, 3.25825826, 3.26126126, 3.26426426,\n",
      "       3.26726727, 3.27027027, 3.27327327, 3.27627628, 3.27927928,\n",
      "       3.28228228, 3.28528529, 3.28828829, 3.29129129, 3.29429429,\n",
      "       3.2972973 , 3.3003003 , 3.3033033 , 3.30630631, 3.30930931,\n",
      "       3.31231231, 3.31531532, 3.31831832, 3.32132132, 3.32432432,\n",
      "       3.32732733, 3.33033033, 3.33333333, 3.33633634, 3.33933934,\n",
      "       3.34234234, 3.34534535, 3.34834835, 3.35135135, 3.35435435,\n",
      "       3.35735736, 3.36036036, 3.36336336, 3.36636637, 3.36936937,\n",
      "       3.37237237, 3.37537538, 3.37837838, 3.38138138, 3.38438438,\n",
      "       3.38738739, 3.39039039, 3.39339339, 3.3963964 , 3.3993994 ,\n",
      "       3.4024024 , 3.40540541, 3.40840841, 3.41141141, 3.41441441,\n",
      "       3.41741742, 3.42042042, 3.42342342, 3.42642643, 3.42942943,\n",
      "       3.43243243, 3.43543544, 3.43843844, 3.44144144, 3.44444444,\n",
      "       3.44744745, 3.45045045, 3.45345345, 3.45645646, 3.45945946,\n",
      "       3.46246246, 3.46546547, 3.46846847, 3.47147147, 3.47447447,\n",
      "       3.47747748, 3.48048048, 3.48348348, 3.48648649, 3.48948949,\n",
      "       3.49249249, 3.4954955 , 3.4984985 , 3.5015015 , 3.5045045 ,\n",
      "       3.50750751, 3.51051051, 3.51351351, 3.51651652, 3.51951952,\n",
      "       3.52252252, 3.52552553, 3.52852853, 3.53153153, 3.53453453,\n",
      "       3.53753754, 3.54054054, 3.54354354, 3.54654655, 3.54954955,\n",
      "       3.55255255, 3.55555556, 3.55855856, 3.56156156, 3.56456456,\n",
      "       3.56756757, 3.57057057, 3.57357357, 3.57657658, 3.57957958,\n",
      "       3.58258258, 3.58558559, 3.58858859, 3.59159159, 3.59459459,\n",
      "       3.5975976 , 3.6006006 , 3.6036036 , 3.60660661, 3.60960961,\n",
      "       3.61261261, 3.61561562, 3.61861862, 3.62162162, 3.62462462,\n",
      "       3.62762763, 3.63063063, 3.63363363, 3.63663664, 3.63963964,\n",
      "       3.64264264, 3.64564565, 3.64864865, 3.65165165, 3.65465465,\n",
      "       3.65765766, 3.66066066, 3.66366366, 3.66666667, 3.66966967,\n",
      "       3.67267267, 3.67567568, 3.67867868, 3.68168168, 3.68468468,\n",
      "       3.68768769, 3.69069069, 3.69369369, 3.6966967 , 3.6996997 ,\n",
      "       3.7027027 , 3.70570571, 3.70870871, 3.71171171, 3.71471471,\n",
      "       3.71771772, 3.72072072, 3.72372372, 3.72672673, 3.72972973,\n",
      "       3.73273273, 3.73573574, 3.73873874, 3.74174174, 3.74474474,\n",
      "       3.74774775, 3.75075075, 3.75375375, 3.75675676, 3.75975976,\n",
      "       3.76276276, 3.76576577, 3.76876877, 3.77177177, 3.77477477,\n",
      "       3.77777778, 3.78078078, 3.78378378, 3.78678679, 3.78978979,\n",
      "       3.79279279, 3.7957958 , 3.7987988 , 3.8018018 , 3.8048048 ,\n",
      "       3.80780781, 3.81081081, 3.81381381, 3.81681682, 3.81981982,\n",
      "       3.82282282, 3.82582583, 3.82882883, 3.83183183, 3.83483483,\n",
      "       3.83783784, 3.84084084, 3.84384384, 3.84684685, 3.84984985,\n",
      "       3.85285285, 3.85585586, 3.85885886, 3.86186186, 3.86486486,\n",
      "       3.86786787, 3.87087087, 3.87387387, 3.87687688, 3.87987988,\n",
      "       3.88288288, 3.88588589, 3.88888889, 3.89189189, 3.89489489,\n",
      "       3.8978979 , 3.9009009 , 3.9039039 , 3.90690691, 3.90990991,\n",
      "       3.91291291, 3.91591592, 3.91891892, 3.92192192, 3.92492492,\n",
      "       3.92792793, 3.93093093, 3.93393393, 3.93693694, 3.93993994,\n",
      "       3.94294294, 3.94594595, 3.94894895, 3.95195195, 3.95495495,\n",
      "       3.95795796, 3.96096096, 3.96396396, 3.96696697, 3.96996997,\n",
      "       3.97297297, 3.97597598, 3.97897898, 3.98198198, 3.98498498,\n",
      "       3.98798799, 3.99099099, 3.99399399, 3.996997  , 4.        ]),\n",
      " 'lamb': 0.0001,\n",
      " 'maxM': 20,\n",
      " 'num_ranks': 10,\n",
      " 'penalty': 'l2',\n",
      " 'r': 20,\n",
      " 'res_dir': PosixPath('../results'),\n",
      " 'wh': 20}\n"
     ]
    }
   ],
   "source": [
    "pprint(paras)"
   ]
  },
  {
   "cell_type": "code",
   "execution_count": 208,
   "id": "10aced47",
   "metadata": {
    "ExecuteTime": {
     "end_time": "2022-10-26T04:33:22.957601Z",
     "start_time": "2022-10-26T04:33:22.952627Z"
    }
   },
   "outputs": [],
   "source": [
    "# this parameters only for this file\n",
    "_paras = edict()\n",
    "_paras.folder_name = \"method3\""
   ]
  },
  {
   "cell_type": "markdown",
   "id": "33b03adf",
   "metadata": {},
   "source": [
    "## Load results"
   ]
  },
  {
   "cell_type": "code",
   "execution_count": 209,
   "id": "fe27baf2",
   "metadata": {
    "ExecuteTime": {
     "end_time": "2022-10-26T04:33:55.533034Z",
     "start_time": "2022-10-26T04:33:25.886766Z"
    },
    "scrolled": true
   },
   "outputs": [
    {
     "name": "stdout",
     "output_type": "stream",
     "text": [
      "Load file /data/rajlab1/user_data/jin/MyResearch/gTVDN/notebooks/method3/../../mypkg/../results/method3/dXXmats_AD.pkl\n",
      "Load file /data/rajlab1/user_data/jin/MyResearch/gTVDN/notebooks/method3/../../mypkg/../results/method3/dXXmats_ctrl.pkl\n",
      "Load file /data/rajlab1/user_data/jin/MyResearch/gTVDN/notebooks/method3/../../mypkg/../results/method3/Amats_AD.pkl\n",
      "Load file /data/rajlab1/user_data/jin/MyResearch/gTVDN/notebooks/method3/../../mypkg/../results/method3/Amats_ctrl.pkl\n",
      "Load file /data/rajlab1/user_data/jin/MyResearch/gTVDN/notebooks/method3/../../mypkg/../results/method3/CPDresult_ctrl.pkl\n",
      "Load file /data/rajlab1/user_data/jin/MyResearch/gTVDN/notebooks/method3/../../mypkg/../results/method3/CPDresult_AD.pkl\n",
      "Load file /data/rajlab1/user_data/jin/MyResearch/gTVDN/notebooks/method3/../../mypkg/../results/method3/can_pts_ctrls.pkl\n",
      "Load file /data/rajlab1/user_data/jin/MyResearch/gTVDN/notebooks/method3/../../mypkg/../results/method3/can_pts_ADs.pkl\n",
      "Load file /data/rajlab1/user_data/jin/MyResearch/gTVDN/notebooks/method3/../../mypkg/../results/method3/cpts_ctrls.pkl\n",
      "Load file /data/rajlab1/user_data/jin/MyResearch/gTVDN/notebooks/method3/../../mypkg/../results/method3/cpts_ADs.pkl\n",
      "Load file /data/rajlab1/user_data/jin/MyResearch/gTVDN/notebooks/method3/../../mypkg/../results/method3/ndXmats_ctrl.pkl\n",
      "Load file /data/rajlab1/user_data/jin/MyResearch/gTVDN/notebooks/method3/../../mypkg/../results/method3/ndXmats_AD.pkl\n",
      "Load file /data/rajlab1/user_data/jin/MyResearch/gTVDN/notebooks/method3/../../mypkg/../results/method3/nXmats_ctrl.pkl\n",
      "Load file /data/rajlab1/user_data/jin/MyResearch/gTVDN/notebooks/method3/../../mypkg/../results/method3/nXmats_AD.pkl\n",
      "Load file /data/rajlab1/user_data/jin/MyResearch/gTVDN/notebooks/method3/../../mypkg/../results/method3/post_paras.pkl\n",
      "Load file /data/rajlab1/user_data/jin/MyResearch/gTVDN/notebooks/method3/../../mypkg/../results/method3/singular_vals_ADs.pkl\n",
      "Load file /data/rajlab1/user_data/jin/MyResearch/gTVDN/notebooks/method3/../../mypkg/../results/method3/cpts_ADs_selected.pkl\n",
      "Load file /data/rajlab1/user_data/jin/MyResearch/gTVDN/notebooks/method3/../../mypkg/../results/method3/dwells_ADs_selected.pkl\n",
      "Load file /data/rajlab1/user_data/jin/MyResearch/gTVDN/notebooks/method3/../../mypkg/../results/method3/rank_ADs.pkl\n",
      "Load file /data/rajlab1/user_data/jin/MyResearch/gTVDN/notebooks/method3/../../mypkg/../results/method3/singular_vals_ctrls.pkl\n",
      "Load file /data/rajlab1/user_data/jin/MyResearch/gTVDN/notebooks/method3/../../mypkg/../results/method3/cpts_ctrls_selected.pkl\n",
      "Load file /data/rajlab1/user_data/jin/MyResearch/gTVDN/notebooks/method3/../../mypkg/../results/method3/dwells_ctrls_selected.pkl\n",
      "Load file /data/rajlab1/user_data/jin/MyResearch/gTVDN/notebooks/method3/../../mypkg/../results/method3/rank_ctrls.pkl\n"
     ]
    }
   ],
   "source": [
    "# load results\n",
    "cur_res = load_pkl_folder2dict(RES_ROOT/_paras.folder_name)"
   ]
  },
  {
   "cell_type": "code",
   "execution_count": 210,
   "id": "afd66c35",
   "metadata": {
    "ExecuteTime": {
     "end_time": "2022-10-26T04:33:55.644046Z",
     "start_time": "2022-10-26T04:33:55.592403Z"
    }
   },
   "outputs": [
    {
     "name": "stdout",
     "output_type": "stream",
     "text": [
      "dict_keys(['dXXmats_AD', 'dXXmats_ctrl', 'Amats_AD', 'Amats_ctrl', 'CPDresult_ctrl', 'CPDresult_AD', 'can_pts_ctrls', 'can_pts_ADs', 'cpts_ctrls', 'cpts_ADs', 'ndXmats_ctrl', 'ndXmats_AD', 'nXmats_ctrl', 'nXmats_AD', 'post_paras', 'singular_vals_ADs', 'cpts_ADs_selected', 'dwells_ADs_selected', 'rank_ADs', 'singular_vals_ctrls', 'cpts_ctrls_selected', 'dwells_ctrls_selected', 'rank_ctrls'])\n"
     ]
    }
   ],
   "source": [
    "pprint(cur_res.keys())"
   ]
  },
  {
   "cell_type": "code",
   "execution_count": 123,
   "id": "c55f45f5",
   "metadata": {
    "ExecuteTime": {
     "end_time": "2022-10-20T20:55:09.326066Z",
     "start_time": "2022-10-20T20:55:09.235424Z"
    }
   },
   "outputs": [],
   "source": [
    "# save the weights and U\n",
    "# AD\n",
    "all_sigs = np.concatenate(cur_res.singular_vals_ADs, axis=1)\n",
    "all_dwells = np.concatenate(cur_res.dwells_ADs_selected).reshape(1, -1)\n",
    "all_sub_idxs = np.concatenate([[ix+1]*len(cur_res.dwells_ADs_selected[ix]) for ix in range(88)]).reshape(1, -1)\n",
    "all_data = np.concatenate([all_sub_idxs, all_dwells, all_sigs], axis=0).T\n",
    "all_data = pd.DataFrame(all_data, columns=[\"Sub_id\", \"dwell\"]+[f\"sing_{ix+1}\" for ix in range(20)])\n",
    "all_data.to_csv(RES_ROOT/_paras.folder_name/\"AD_singular_method3.csv\", index=False)\n",
    "\n",
    "# ctrl\n",
    "all_sigs = np.concatenate(cur_res.singular_vals_ctrls, axis=1)\n",
    "all_dwells = np.concatenate(cur_res.dwells_ctrls_selected).reshape(1, -1)\n",
    "all_sub_idxs = np.concatenate([[ix+1]*len(cur_res.dwells_ctrls_selected[ix]) for ix in range(88)]).reshape(1, -1)\n",
    "all_data = np.concatenate([all_sub_idxs, all_dwells, all_sigs], axis=0).T\n",
    "all_data = pd.DataFrame(all_data, columns=[\"Sub_id\", \"dwell\"]+[f\"sing_{ix+1}\" for ix in range(20)])\n",
    "all_data.to_csv(RES_ROOT/_paras.folder_name/\"ctrl_singular_method3.csv\", index=False)\n",
    "\n",
    "np.savetxt(RES_ROOT/_paras.folder_name/\"U_method3.csv\", cur_res.CPDresult_ctrl[0])\n",
    "np.savetxt(RES_ROOT/_paras.folder_name/\"V_method3.csv\", cur_res.CPDresult_ctrl[1])"
   ]
  },
  {
   "cell_type": "code",
   "execution_count": null,
   "id": "4d392430",
   "metadata": {},
   "outputs": [],
   "source": []
  },
  {
   "cell_type": "markdown",
   "id": "6b86a750",
   "metadata": {},
   "source": [
    "## get the dataset"
   ]
  },
  {
   "cell_type": "code",
   "execution_count": 211,
   "id": "51719e10",
   "metadata": {
    "ExecuteTime": {
     "end_time": "2022-10-26T04:33:59.153980Z",
     "start_time": "2022-10-26T04:33:59.137828Z"
    }
   },
   "outputs": [],
   "source": [
    "ncpts_ADs_selected = [len(cpts) for cpts in cur_res.cpts_ADs_selected]\n",
    "ncpts_ctrls_selected = [len(cpts) for cpts in cur_res.cpts_ctrls_selected]"
   ]
  },
  {
   "cell_type": "code",
   "execution_count": 310,
   "id": "d4fc2725",
   "metadata": {
    "ExecuteTime": {
     "end_time": "2022-10-27T02:40:49.976470Z",
     "start_time": "2022-10-27T02:40:49.938698Z"
    }
   },
   "outputs": [],
   "source": [
    "cur_cutoff = cur_res.post_paras.rank_curoff\n",
    "cur_cutoff = 1.2\n",
    "# selected U and calculate weighted U (ABS wU)\n",
    "wUs_abs_AD = []\n",
    "wUs_abs_mean_AD = []\n",
    "wUs_abs_max_AD = []\n",
    "ws_abs_mean_AD = []\n",
    "ws_abs_max_AD = []\n",
    "for ix in range(len(cur_res.singular_vals_ADs)):\n",
    "    cur_singular_val_abs = np.abs(cur_res.singular_vals_ADs[ix])\n",
    "    cur_raw_B3row = np.abs(cur_res.CPDresult_AD[-1][ix, :])\n",
    "    cur_keep_idx = cumsum_cutoff(cur_raw_B3row, cur_cutoff)\n",
    "    #cur_keep_idx = minmax(cur_raw_B3row) > cur_cutoff\n",
    "    cur_dwells = cur_res.dwells_ADs_selected[ix]\n",
    "    \n",
    "    cur_ws_abs = cur_singular_val_abs[cur_keep_idx, :]\n",
    "    cur_Us_abs = np.array(cur_res.CPDresult_ctrl[0][:, cur_keep_idx])\n",
    "    \n",
    "    cur_wUs_abs = np.matmul(cur_Us_abs, cur_ws_abs)\n",
    "    cur_wUs_abs_mean = cur_wUs_abs.mean(axis=1)\n",
    "    \n",
    "    wUs_abs_AD.append(cur_wUs_abs)\n",
    "    wUs_abs_max_AD.append(cur_wUs_abs[:, np.argmax(cur_dwells)])\n",
    "    wUs_abs_mean_AD.append(cur_wUs_abs_mean)\n",
    "    ws_abs_mean_AD.append(cur_ws_abs[:, :].mean())\n",
    "    ws_abs_max_AD.append(cur_ws_abs[:, :].max())\n",
    "    \n",
    "wUs_abs_ctrl = []\n",
    "wUs_abs_mean_ctrl = []\n",
    "wUs_abs_max_ctrl = []\n",
    "ws_abs_mean_ctrl = []\n",
    "ws_abs_max_ctrl = []\n",
    "for ix in range(len(cur_res.singular_vals_ctrls)):\n",
    "    cur_singular_val_abs = np.abs(cur_res.singular_vals_ctrls[ix])\n",
    "    cur_raw_B3row = np.abs(cur_res.CPDresult_ctrl[-1][ix, :])\n",
    "    cur_keep_idx = cumsum_cutoff(cur_raw_B3row, cur_cutoff)\n",
    "    #cur_keep_idx = minmax(cur_raw_B3row) > cur_cutoff\n",
    "    cur_dwells = cur_res.dwells_ctrls_selected[ix]\n",
    "    \n",
    "    cur_ws_abs = cur_singular_val_abs[cur_keep_idx, :]\n",
    "    cur_Us_abs = np.array(cur_res.CPDresult_ctrl[0][:, cur_keep_idx])\n",
    "    \n",
    "    cur_wUs_abs = np.matmul(cur_Us_abs, cur_ws_abs)\n",
    "    cur_wUs_abs_mean = cur_wUs_abs.mean(axis=1)\n",
    "    \n",
    "    wUs_abs_ctrl.append(cur_wUs_abs)\n",
    "    wUs_abs_max_ctrl.append(cur_wUs_abs[:, np.argmax(cur_dwells)])\n",
    "    wUs_abs_mean_ctrl.append(cur_wUs_abs_mean)\n",
    "    ws_abs_mean_ctrl.append(cur_ws_abs[:, :].mean())\n",
    "    ws_abs_max_ctrl.append(cur_ws_abs[:, :].max())\n",
    "    \n",
    "wUs_abs_mean_AD = np.array(wUs_abs_mean_AD)\n",
    "wUs_abs_mean_ctrl = np.array(wUs_abs_mean_ctrl)\n",
    "wUs_abs_max_AD = np.array(wUs_abs_max_AD)\n",
    "wUs_abs_max_ctrl = np.array(wUs_abs_max_ctrl)"
   ]
  },
  {
   "cell_type": "code",
   "execution_count": null,
   "id": "ba3adf95",
   "metadata": {},
   "outputs": [],
   "source": []
  },
  {
   "cell_type": "markdown",
   "id": "8dc6433a",
   "metadata": {},
   "source": [
    "## Regression "
   ]
  },
  {
   "cell_type": "code",
   "execution_count": 335,
   "id": "ff095c79",
   "metadata": {
    "ExecuteTime": {
     "end_time": "2022-10-27T02:44:31.949138Z",
     "start_time": "2022-10-27T02:44:31.936926Z"
    }
   },
   "outputs": [],
   "source": [
    "import numbers\n",
    "# return the predicted probs for each test obs\n",
    "def clf_2probs(clf, X_test):\n",
    "    probs = clf.predict_proba(X_test)\n",
    "    return probs[:, clf.classes_==1].reshape(-1)\n",
    "\n",
    "def LOO_pred_givenC(cur_X, cur_Y, Cs=1, is_prg=True):\n",
    "    probs = []\n",
    "    if is_prg:\n",
    "        prog_bar = trange(len(cur_Y))\n",
    "    else:\n",
    "        prog_bar = range(len(cur_Y))\n",
    "    if isinstance(Cs, numbers.Number):\n",
    "        Cs = np.ones_like(cur_Y)*Cs\n",
    "    for ix in prog_bar:\n",
    "        cur_X_test = cur_X[ix, :].reshape(1, -1)\n",
    "        cur_Y_test = cur_Y[ix].reshape(1, -1)\n",
    "        cur_X_train = np.delete(cur_X, ix, axis=0)\n",
    "        cur_Y_train = np.delete(cur_Y, ix)\n",
    "        clf = LogisticRegression(random_state=0, C=Cs[ix], penalty=paras.penalty, solver=\"liblinear\").fit(cur_X_train, cur_Y_train)\n",
    "        #clf = RandomForestClassifier(random_state=0).fit(cur_X_train, cur_Y_train)\n",
    "        #clf = DecisionTreeClassifier(random_state=0).fit(cur_X_train, cur_Y_train)\n",
    "        probs.append(clf_2probs(clf, cur_X_test))\n",
    "    return np.array(probs).reshape(-1)"
   ]
  },
  {
   "cell_type": "code",
   "execution_count": 336,
   "id": "796f1120",
   "metadata": {
    "ExecuteTime": {
     "end_time": "2022-10-27T02:44:32.347644Z",
     "start_time": "2022-10-27T02:44:32.339224Z"
    }
   },
   "outputs": [],
   "source": [
    "def LOO_bestC(cur_X, cur_Y, Cs, is_prg=0, is_C_only=1):\n",
    "    Cs = np.array(Cs)\n",
    "    cur_aucs = []\n",
    "    if is_prg:\n",
    "        prog_bar = tqdm(Cs)\n",
    "    else:\n",
    "        prog_bar = Cs\n",
    "    for cur_C in prog_bar: \n",
    "        cur_pred_probs = LOO_pred_givenC(cur_X, cur_Y, Cs=cur_C, is_prg=0)\n",
    "        cur_auc = roc_auc_score(cur_Y, cur_pred_probs)\n",
    "        cur_aucs.append(cur_auc)\n",
    "        cur_best_C = Cs[np.argmax(cur_aucs)]\n",
    "    cur_best_C = Cs[np.argmax(cur_aucs)]\n",
    "    if is_C_only:\n",
    "        return cur_best_C\n",
    "    else:\n",
    "        return cur_best_C, cur_aucs"
   ]
  },
  {
   "cell_type": "code",
   "execution_count": 337,
   "id": "e5b8852e",
   "metadata": {
    "ExecuteTime": {
     "end_time": "2022-10-27T02:44:32.910021Z",
     "start_time": "2022-10-27T02:44:32.904712Z"
    }
   },
   "outputs": [],
   "source": [
    "def tmp_foldwU(mat):\n",
    "    assert mat.shape[-1] == 68\n",
    "    mat_half = (mat[:, :34] + mat[:, 34:])/2\n",
    "    return mat_half"
   ]
  },
  {
   "cell_type": "code",
   "execution_count": 415,
   "id": "410742bf",
   "metadata": {
    "ExecuteTime": {
     "end_time": "2022-10-27T03:31:53.723421Z",
     "start_time": "2022-10-27T03:31:53.709755Z"
    }
   },
   "outputs": [],
   "source": [
    "# prepare for Y and X\n",
    "reg_Y = np.concatenate([np.ones_like(cur_res.rank_ADs), np.zeros_like(cur_res.rank_ctrls)])\n",
    "reg_X_B3 = np.concatenate([\n",
    "                minmax_mat(np.abs(cur_res.CPDresult_AD[2]), is_row=True),\n",
    "                minmax_mat(np.abs(cur_res.CPDresult_ctrl[2]), is_row=True)\n",
    "            ], axis=0)\n",
    "reg_X_wU_abs_mean = np.concatenate([wUs_abs_mean_AD, wUs_abs_mean_ctrl], axis=0)\n",
    "reg_X_wU_abs_max = np.concatenate([wUs_abs_max_AD, wUs_abs_max_ctrl], axis=0)\n",
    "reg_X_rank = np.concatenate([cur_res.rank_ADs, cur_res.rank_ctrls])\n",
    "reg_X_ncpts = np.concatenate([ncpts_ADs_selected, ncpts_ctrls_selected])\n",
    "reg_X_ws_max = np.concatenate([ws_abs_max_AD, ws_abs_max_ctrl])\n",
    "reg_X_ws_mean = np.concatenate([ws_abs_mean_AD, ws_abs_mean_ctrl])\n",
    "\n",
    "\n",
    "reg_X = np.concatenate([\n",
    "                        reg_X_wU_abs_max, # try minmax each row\n",
    "                        reg_X_rank.reshape(-1, 1), \n",
    "                        reg_X_ncpts.reshape(-1, 1), \n",
    "                        #reg_X_ws_max.reshape(-1, 1)\n",
    "                       ], axis=1)\n",
    "#reg_X = reg_X_wU_abs_max\n",
    "reg_X_std = (reg_X - reg_X.mean(axis=0))/reg_X.std(axis=0)"
   ]
  },
  {
   "cell_type": "code",
   "execution_count": null,
   "id": "9ce4278c",
   "metadata": {},
   "outputs": [],
   "source": []
  },
  {
   "cell_type": "markdown",
   "id": "f31e129c",
   "metadata": {},
   "source": [
    "### AUC under LOO"
   ]
  },
  {
   "cell_type": "code",
   "execution_count": 416,
   "id": "34cc4fd2",
   "metadata": {
    "ExecuteTime": {
     "end_time": "2022-10-27T03:31:55.726760Z",
     "start_time": "2022-10-27T03:31:55.721487Z"
    }
   },
   "outputs": [],
   "source": [
    "Cs = paras.Cs[:11]\n",
    "paras.Cs = np.concatenate([Cs, [5e-3, 1e-3]])\n",
    "paras.penalty = \"l2\""
   ]
  },
  {
   "cell_type": "code",
   "execution_count": 417,
   "id": "24b21a42",
   "metadata": {
    "ExecuteTime": {
     "end_time": "2022-10-27T03:31:59.864279Z",
     "start_time": "2022-10-27T03:31:56.902602Z"
    }
   },
   "outputs": [
    {
     "name": "stderr",
     "output_type": "stream",
     "text": [
      "100%|█████████████████████████████████████████████████████████████████████████████████████████████████████████████████████████████████████████████████████████████████████████| 13/13 [00:02<00:00,  4.40it/s]"
     ]
    },
    {
     "name": "stdout",
     "output_type": "stream",
     "text": [
      "0.01 [1.0e+02 2.5e+01 1.0e+01 5.0e+00 2.0e+00 1.0e+00 5.0e-01 2.0e-01 1.0e-01\n",
      " 5.0e-02 1.0e-02 5.0e-03 1.0e-03]\n"
     ]
    },
    {
     "name": "stderr",
     "output_type": "stream",
     "text": [
      "\n"
     ]
    }
   ],
   "source": [
    "gopt_C = LOO_bestC(reg_X_std, reg_Y, paras.Cs, 1)\n",
    "print(gopt_C, paras.Cs)"
   ]
  },
  {
   "cell_type": "code",
   "execution_count": 418,
   "id": "61d0757a",
   "metadata": {
    "ExecuteTime": {
     "end_time": "2022-10-27T03:32:00.996185Z",
     "start_time": "2022-10-27T03:32:00.717642Z"
    }
   },
   "outputs": [
    {
     "name": "stderr",
     "output_type": "stream",
     "text": [
      "100%|██████████████████████████████████████████████████████████████████████████████████████████████████████████████████████████████████████████████████████████████████████| 176/176 [00:00<00:00, 869.62it/s]\n"
     ]
    },
    {
     "data": {
      "text/plain": [
       "[<matplotlib.lines.Line2D at 0x7f66aef80c70>]"
      ]
     },
     "execution_count": 418,
     "metadata": {},
     "output_type": "execute_result"
    },
    {
     "data": {
      "image/png": "[encoded data removed]",
      "text/plain": [
       "<Figure size 432x288 with 1 Axes>"
      ]
     },
     "metadata": {
      "needs_background": "light"
     },
     "output_type": "display_data"
    }
   ],
   "source": [
    "pred_probs = LOO_pred_givenC(reg_X_std, reg_Y, Cs=gopt_C, is_prg=1)\n",
    "fpr, tpr, thresholds = roc_curve(reg_Y, pred_probs, pos_label=1)\n",
    "auc = roc_auc_score(reg_Y, pred_probs)\n",
    "\n",
    "plt.title(f\"ROC (AUC:{auc:.3f})\")\n",
    "plt.plot(fpr, tpr)"
   ]
  },
  {
   "cell_type": "code",
   "execution_count": null,
   "id": "eb865d34",
   "metadata": {},
   "outputs": [],
   "source": []
  },
  {
   "cell_type": "markdown",
   "id": "c974cfd9",
   "metadata": {
    "heading_collapsed": true
   },
   "source": [
    "### CV for tuning C for each Obs"
   ]
  },
  {
   "cell_type": "code",
   "execution_count": 33,
   "id": "412bb7ce",
   "metadata": {
    "ExecuteTime": {
     "end_time": "2022-10-20T17:41:54.659524Z",
     "start_time": "2022-10-20T17:41:18.613036Z"
    },
    "hidden": true,
    "scrolled": true
   },
   "outputs": [
    {
     "name": "stdout",
     "output_type": "stream",
     "text": [
      "6014\n",
      "25783\n",
      "\n",
      "9101615\n",
      "\n",
      "1112\n",
      "1317\n",
      "\n",
      "\n",
      "14\n",
      "\n",
      "18\n",
      "19\n",
      "22\n",
      "\n",
      "\n",
      "2425\n",
      "\n"
     ]
    }
   ],
   "source": [
    "import multiprocessing as mp\n",
    "def run_fn(ix):\n",
    "    cur_X_test = reg_X_std[ix, :].reshape(1, -1)\n",
    "    cur_Y_test = reg_Y[ix].reshape(1, -1)\n",
    "    cur_X_train = np.delete(reg_X_std, ix, axis=0)\n",
    "    cur_Y_train = np.delete(reg_Y, ix)\n",
    "    \n",
    "    print(f\"Start {ix}\")\n",
    "    cur_best_C =  LOO_bestC(cur_X_train, cur_Y_train, paras.Cs, 0)\n",
    "    print(f\"Finished {ix}\")\n",
    "    return (ix, cur_best_C)\n",
    "\n",
    "\n",
    "if __name__ == \"__main__\":\n",
    "    with mp.Pool(processes=20) as pool:\n",
    "        res_proc = []\n",
    "        for ix in range(len(reg_Y)):\n",
    "            res_proc.append( pool.apply_async(run_fn, [ix,]) )\n",
    "        res = [cur_proc.get() for cur_proc in res_proc] # to retrieve the results\n",
    "    pool.join()"
   ]
  },
  {
   "cell_type": "code",
   "execution_count": 34,
   "id": "0578d7f1",
   "metadata": {
    "ExecuteTime": {
     "end_time": "2022-10-20T17:42:08.953907Z",
     "start_time": "2022-10-20T17:42:08.663697Z"
    },
    "hidden": true
   },
   "outputs": [],
   "source": [
    "res = sorted(res, key=lambda x:x[0])\n",
    "best_Cs = [re[-1] for re in res]\n",
    "\n",
    "probs = []\n",
    "pred_probs = LOO_pred_givenC(reg_X_std, reg_Y, Cs=best_Cs, is_prg=1)\n",
    "fpr, tpr, thresholds = roc_curve(reg_Y, pred_probs, pos_label=1)\n",
    "auc = roc_auc_score(reg_Y, pred_probs)\n",
    "\n",
    "plt.title(f\"ROC (AUC:{auc:.3f})\")\n",
    "plt.plot(fpr, tpr)"
   ]
  },
  {
   "cell_type": "markdown",
   "id": "181cb65d",
   "metadata": {},
   "source": [
    "### AUC under 10000 CV"
   ]
  },
  {
   "cell_type": "code",
   "execution_count": 419,
   "id": "16ed0b49",
   "metadata": {
    "ExecuteTime": {
     "end_time": "2022-10-27T03:32:20.178741Z",
     "start_time": "2022-10-27T03:32:05.415988Z"
    }
   },
   "outputs": [
    {
     "name": "stderr",
     "output_type": "stream",
     "text": [
      "100%|██████████████████████████████████████████████████████████████████████████████████████████████████████████████████████████████████████████████████████████████████| 10000/10000 [00:14<00:00, 678.11it/s]"
     ]
    },
    {
     "name": "stdout",
     "output_type": "stream",
     "text": [
      "The mean of AUC under 1000 repetitions is 0.790 and the standard deviation is 0.070, the 95% CI is (0.641, 0.917).\n"
     ]
    },
    {
     "name": "stderr",
     "output_type": "stream",
     "text": [
      "\n"
     ]
    }
   ],
   "source": [
    "# AUC under repetitions\n",
    "np.random.seed(0)\n",
    "nobs = reg_X_std.shape[0]\n",
    "rep_aucs = []\n",
    "for j in tqdm(range(10000)):\n",
    "    test_idxs = np.random.choice(nobs, int(nobs/5), False)\n",
    "    train_idxs = np.delete(np.arange(nobs), test_idxs)\n",
    "    clf = LogisticRegression(penalty=paras.penalty, random_state=0, C=gopt_C, solver=\"liblinear\")\n",
    "    clf.fit(reg_X_std[train_idxs], reg_Y[train_idxs])\n",
    "    cur_eprobs = clf_2probs(clf, reg_X_std[test_idxs, :])\n",
    "    cur_auc = roc_auc_score(reg_Y[test_idxs], cur_eprobs)\n",
    "    rep_aucs.append(cur_auc)\n",
    "mean_auc = np.mean(rep_aucs)\n",
    "std_auc = np.std(rep_aucs)\n",
    "print(f\"The mean of AUC under 1000 repetitions is {mean_auc:.3f} and the standard deviation is {std_auc:.3f}, \"\n",
    "      f\"the 95% CI is ({np.quantile(rep_aucs, 0.025):.3f}, {np.quantile(rep_aucs, 0.975):.3f}).\")"
   ]
  },
  {
   "cell_type": "markdown",
   "id": "fd99e793",
   "metadata": {},
   "source": [
    "### final fit  and bootstrap analysis"
   ]
  },
  {
   "cell_type": "code",
   "execution_count": 420,
   "id": "4ea2cf86",
   "metadata": {
    "ExecuteTime": {
     "end_time": "2022-10-27T03:32:20.183383Z",
     "start_time": "2022-10-27T03:32:20.180182Z"
    }
   },
   "outputs": [],
   "source": [
    "final_clf = LogisticRegression(random_state=0, C=gopt_C, \n",
    "                               penalty=paras.penalty, \n",
    "                               solver=\"liblinear\").fit(reg_X_std, reg_Y)\n",
    "final_coefs = final_clf.coef_.reshape(-1)"
   ]
  },
  {
   "cell_type": "code",
   "execution_count": 421,
   "id": "c941c034",
   "metadata": {
    "ExecuteTime": {
     "end_time": "2022-10-27T03:32:29.477379Z",
     "start_time": "2022-10-27T03:32:20.184162Z"
    }
   },
   "outputs": [
    {
     "name": "stderr",
     "output_type": "stream",
     "text": [
      "100%|█████████████████████████████████████████████████████████████████████████████████████████████████████████████████████████████████████████████████████████████████| 10000/10000 [00:09<00:00, 1080.50it/s]\n"
     ]
    }
   ],
   "source": [
    "# bootstrap CIs\n",
    "np.random.seed(1)\n",
    "rep_num = 10000\n",
    "parass_boot = []\n",
    "for _ in trange(rep_num):\n",
    "    boot_idx = np.random.choice(len(reg_Y), len(reg_Y))\n",
    "    cur_Y_boot = reg_Y[boot_idx]\n",
    "    cur_X_boot = reg_X_std[boot_idx]\n",
    "    cur_clf = LogisticRegression(penalty=paras.penalty, random_state=0, C=gopt_C, solver=\"liblinear\")\n",
    "    cur_clf.fit(cur_X_boot, cur_Y_boot)\n",
    "    paras_boot = cur_clf.coef_.reshape(-1)\n",
    "    parass_boot.append(paras_boot)"
   ]
  },
  {
   "cell_type": "code",
   "execution_count": 422,
   "id": "83fb0784",
   "metadata": {
    "ExecuteTime": {
     "end_time": "2022-10-27T03:32:29.495447Z",
     "start_time": "2022-10-27T03:32:29.479004Z"
    }
   },
   "outputs": [],
   "source": [
    "parass_boot = np.array(parass_boot)\n",
    "# 95% CIs\n",
    "lows, ups = final_coefs-parass_boot.std(axis=0)*1.96, final_coefs+parass_boot.std(axis=0)*1.96\n",
    "keep_idx_boot = np.bitwise_or(lows >0,  ups < 0)\n",
    "keep_idx_id_boot =  np.where(keep_idx_boot)[0]\n",
    "\n",
    "# Pvalue\n",
    "test_stat_boot = final_coefs/parass_boot.std(axis=0)\n",
    "norm_rv = scipy.stats.norm()\n",
    "## to be consistent, I think we should use two-sided pvalue\n",
    "boot_pvs = 2*(1-norm_rv.cdf(np.abs(test_stat_boot)))"
   ]
  },
  {
   "cell_type": "code",
   "execution_count": 423,
   "id": "c930e658",
   "metadata": {
    "ExecuteTime": {
     "end_time": "2022-10-27T03:32:29.625390Z",
     "start_time": "2022-10-27T03:32:29.496413Z"
    }
   },
   "outputs": [
    {
     "data": {
      "image/png": "[encoded data removed]",
      "text/plain": [
       "<Figure size 1080x288 with 1 Axes>"
      ]
     },
     "metadata": {
      "needs_background": "light"
     },
     "output_type": "display_data"
    }
   ],
   "source": [
    "xlabs = np.concatenate([REGION_NAMES, [\"Rank\", \"Num of cpts\"]])\n",
    "#xlabs = np.concatenate([REGION_NAMES[:], [\"Rank\", \"Num of cpts\", \"Lambda\"]])\n",
    "plt.figure(figsize=[15, 4])\n",
    "plt.fill_between(list(range(len(lows))), lows, ups, color=\"red\", alpha=.5)\n",
    "plt.title(\"The 95% CI of the parameters\")\n",
    "_ = plt.xticks(keep_idx_id_boot, xlabs[keep_idx_id_boot], rotation=30, fontsize=8)"
   ]
  },
  {
   "cell_type": "code",
   "execution_count": 424,
   "id": "9c09c3ec",
   "metadata": {
    "ExecuteTime": {
     "end_time": "2022-10-27T03:32:29.630405Z",
     "start_time": "2022-10-27T03:32:29.626256Z"
    }
   },
   "outputs": [
    {
     "name": "stdout",
     "output_type": "stream",
     "text": [
      "Empty DataFrame\n",
      "Columns: [Feature, Parameters, Lower, Upper, Pvalues]\n",
      "Index: []\n"
     ]
    }
   ],
   "source": [
    "# Bootstrap p value and CI are consistent\n",
    "tmp_idx = np.bitwise_xor(boot_pvs <= 0.05, keep_idx_boot)\n",
    "res_tb = {\n",
    "   \"Feature\" : xlabs[tmp_idx],  \n",
    "    \"Parameters\": final_coefs[tmp_idx],\n",
    "    \"Lower\": lows[tmp_idx],\n",
    "    \"Upper\": ups[tmp_idx],\n",
    "    \"Pvalues\": boot_pvs[tmp_idx]\n",
    "}\n",
    "pd.set_option(\"display.precision\", 3)\n",
    "res_tb = pd.DataFrame(res_tb)\n",
    "print(res_tb)"
   ]
  },
  {
   "cell_type": "code",
   "execution_count": 425,
   "id": "f0988b87",
   "metadata": {
    "ExecuteTime": {
     "end_time": "2022-10-27T03:32:29.654297Z",
     "start_time": "2022-10-27T03:32:29.631223Z"
    }
   },
   "outputs": [
    {
     "name": "stdout",
     "output_type": "stream",
     "text": [
      "                   Feature  Parameters   Lower   Upper  Pvalues\n",
      "0             L-Entorhinal      0.0787  0.0285  0.1288   0.0021\n",
      "1       L-Inferiortemporal     -0.0480 -0.0850 -0.0111   0.0108\n",
      "2                L-Lingual     -0.0455 -0.0778 -0.0133   0.0056\n",
      "3        L-Parahippocampal     -0.0744 -0.1184 -0.0303   0.0009\n",
      "4          L-Parsorbitalis      0.0578  0.0158  0.0997   0.0070\n",
      "5       L-Parstriangularis      0.0200  0.0007  0.0394   0.0425\n",
      "6            L-Postcentral     -0.0519 -0.0955 -0.0084   0.0194\n",
      "7   L-Rostralmiddlefrontal      0.0280  0.0048  0.0512   0.0180\n",
      "8           L-Temporalpole      0.0647  0.0159  0.1134   0.0093\n",
      "9             R-Entorhinal     -0.0406 -0.0644 -0.0168   0.0008\n",
      "10      R-Lateraloccipital      0.0266  0.0036  0.0497   0.0236\n",
      "11       R-Parsopercularis      0.0201  0.0003  0.0399   0.0463\n",
      "12         R-Parsorbitalis     -0.0266 -0.0497 -0.0036   0.0236\n",
      "13      R-Parstriangularis     -0.0518 -0.0781 -0.0256   0.0001\n",
      "14           R-Postcentral     -0.0386 -0.0760 -0.0012   0.0433\n",
      "15            R-Precentral     -0.0350 -0.0678 -0.0021   0.0370\n",
      "16  R-Rostralmiddlefrontal      0.0211  0.0015  0.0407   0.0345\n",
      "17          R-Temporalpole     -0.0504 -0.0876 -0.0133   0.0078\n",
      "18    R-Transversetemporal     -0.0466 -0.0772 -0.0160   0.0028\n",
      "19                    Rank      0.1143  0.0406  0.1879   0.0024\n",
      "20             Num of cpts     -0.2889 -0.3556 -0.2222   0.0000\n"
     ]
    }
   ],
   "source": [
    "#  output table\n",
    "res_tb = {\n",
    "   \"Feature\" : xlabs[keep_idx_boot],  \n",
    "    \"Parameters\": final_coefs[keep_idx_boot],\n",
    "    \"Lower\": lows[keep_idx_boot],\n",
    "    \"Upper\": ups[keep_idx_boot],\n",
    "    \"Pvalues\": boot_pvs[keep_idx_boot]\n",
    "}\n",
    "#pd.set_option(\"display.precision\", 3)\n",
    "pd.set_option('display.float_format',lambda x : '%.4f' % x)\n",
    "res_tb = pd.DataFrame(res_tb)\n",
    "print(res_tb)"
   ]
  },
  {
   "cell_type": "code",
   "execution_count": 429,
   "id": "dd117b91",
   "metadata": {
    "ExecuteTime": {
     "end_time": "2022-10-27T04:46:50.995304Z",
     "start_time": "2022-10-27T04:46:50.819675Z"
    }
   },
   "outputs": [
    {
     "name": "stdout",
     "output_type": "stream",
     "text": [
      "49 49\n"
     ]
    }
   ],
   "source": [
    "# final parameter, no abs, remove pv <0.05\n",
    "mm_pn_paras = minmax(np.abs(final_coefs[:68]))\n",
    "nlog_pvs = -np.log10(boot_pvs[:68])\n",
    "mm_pn_paras[nlog_pvs < -np.log10(0.05)] = 0\n",
    "out_paras = U_2brain_vec(reorder_U(mm_pn_paras))\n",
    "print(np.sum(mm_pn_paras ==0), np.sum(nlog_pvs < -np.log10(0.05)))\n",
    "np.savetxt(RES_ROOT/f\"./{_paras.folder_name}/abs_paras.txt\", out_paras)\n",
    "#pd.DataFrame({\"Name\": REGION_NAMES, \n",
    "#              \"Vec\": mm_pn_paras}).to_csv(RES_ROOT/f\"./{_paras.folder_name}/abs_paras.csv\", \n",
    "#                                          index=False)"
   ]
  },
  {
   "cell_type": "code",
   "execution_count": 430,
   "id": "c98ed9b7",
   "metadata": {
    "ExecuteTime": {
     "end_time": "2022-10-27T04:46:51.575773Z",
     "start_time": "2022-10-27T04:46:51.567939Z"
    }
   },
   "outputs": [
    {
     "data": {
      "text/plain": [
       "array([0.        , 0.        , 0.        , 0.        , 1.        ,\n",
       "       0.        , 0.        , 0.        , 0.60744039, 0.        ,\n",
       "       0.        , 0.        , 0.        , 0.57530176, 0.        ,\n",
       "       0.        , 0.        , 0.94515299, 0.        , 0.73207119,\n",
       "       0.24854508, 0.        , 0.65712877, 0.        , 0.        ,\n",
       "       0.        , 0.        , 0.35023561, 0.        , 0.        ,\n",
       "       0.        , 0.        , 0.82037562, 0.        , 0.        ,\n",
       "       0.        , 0.        , 0.        , 0.51221095, 0.        ,\n",
       "       0.        , 0.        , 0.        , 0.        , 0.        ,\n",
       "       0.33303278, 0.        , 0.        , 0.        , 0.        ,\n",
       "       0.        , 0.        , 0.24969407, 0.33303278, 0.65583496,\n",
       "       0.        , 0.48602358, 0.        , 0.43985822, 0.        ,\n",
       "       0.        , 0.2623595 , 0.        , 0.        , 0.        ,\n",
       "       0.        , 0.63823651, 0.58891208])"
      ]
     },
     "execution_count": 430,
     "metadata": {},
     "output_type": "execute_result"
    }
   ],
   "source": [
    "mm_pn_paras"
   ]
  },
  {
   "cell_type": "code",
   "execution_count": 372,
   "id": "1b764a90",
   "metadata": {
    "ExecuteTime": {
     "end_time": "2022-10-27T02:54:01.603620Z",
     "start_time": "2022-10-27T02:54:01.598597Z"
    }
   },
   "outputs": [],
   "source": []
  },
  {
   "cell_type": "code",
   "execution_count": 373,
   "id": "33c4cda5",
   "metadata": {
    "ExecuteTime": {
     "end_time": "2022-10-27T02:54:05.101855Z",
     "start_time": "2022-10-27T02:54:05.090594Z"
    }
   },
   "outputs": [
    {
     "name": "stdout",
     "output_type": "stream",
     "text": [
      "              Feature  Parameters\n",
      "0        L-Entorhinal      0.0453\n",
      "1           L-Lingual     -0.1140\n",
      "2   L-Parahippocampal     -0.2302\n",
      "3   L-Parsopercularis      0.0102\n",
      "4     L-Parsorbitalis      0.2272\n",
      "5       L-Postcentral     -0.2296\n",
      "6      L-Temporalpole      0.0933\n",
      "7          R-Bankssts      0.0038\n",
      "8    R-Middletemporal     -0.0379\n",
      "9                Rank      0.2834\n",
      "10        Num of cpts     -1.0532\n"
     ]
    }
   ],
   "source": [
    "keep_idx_boot =  final_coefs!=0\n",
    "keep_idx_id_boot =  np.where(keep_idx_boot)[0]\n",
    "\n",
    "#  output table\n",
    "res_tb = {\n",
    "   \"Feature\" : xlabs[keep_idx_boot],  \n",
    "    \"Parameters\": final_coefs[keep_idx_boot],\n",
    "}\n",
    "#pd.set_option(\"display.precision\", 3)\n",
    "pd.set_option('display.float_format',lambda x : '%.4f' % x)\n",
    "res_tb = pd.DataFrame(res_tb)\n",
    "print(res_tb)"
   ]
  },
  {
   "cell_type": "code",
   "execution_count": 374,
   "id": "846daba5",
   "metadata": {
    "ExecuteTime": {
     "end_time": "2022-10-27T02:55:47.766573Z",
     "start_time": "2022-10-27T02:55:47.567392Z"
    }
   },
   "outputs": [],
   "source": [
    "# final parameter, no abs, remove pv <0.05\n",
    "mm_pn_paras = minmax(np.abs(final_coefs[:68]))\n",
    "out_paras = U_2brain_vec(reorder_U(mm_pn_paras))\n",
    "np.savetxt(RES_ROOT/f\"./{_paras.folder_name}/abs_lasso_paras.txt\", out_paras)\n",
    "#pd.DataFrame({\"Name\": REGION_NAMES, \n",
    "#              \"Vec\": mm_pn_paras}).to_csv(RES_ROOT/f\"./{_paras.folder_name}/abs_paras.csv\", \n",
    "#                                          index=False)"
   ]
  },
  {
   "cell_type": "code",
   "execution_count": 376,
   "id": "3b424217",
   "metadata": {
    "ExecuteTime": {
     "end_time": "2022-10-27T02:58:22.022563Z",
     "start_time": "2022-10-27T02:58:22.014612Z"
    }
   },
   "outputs": [
    {
     "data": {
      "text/plain": [
       "array([0.01662778, 0.        , 0.        , 0.        , 0.        ,\n",
       "       0.        , 0.        , 0.        , 0.        , 0.        ,\n",
       "       0.        , 0.        , 0.        , 0.        , 0.        ,\n",
       "       0.16458265, 0.        , 0.        , 0.        , 0.        ,\n",
       "       0.        , 0.        , 0.        , 0.        , 0.        ,\n",
       "       0.        , 0.        , 0.        , 0.        , 0.        ,\n",
       "       0.        , 0.        , 0.        , 0.        ])"
      ]
     },
     "execution_count": 376,
     "metadata": {},
     "output_type": "execute_result"
    }
   ],
   "source": [
    "mm_pn_paras[34:]"
   ]
  },
  {
   "cell_type": "code",
   "execution_count": null,
   "id": "f3fe9479",
   "metadata": {},
   "outputs": [],
   "source": []
  }
 ],
 "metadata": {
  "kernelspec": {
   "display_name": "Python 3 (ipykernel)",
   "language": "python",
   "name": "python3"
  },
  "language_info": {
   "codemirror_mode": {
    "name": "ipython",
    "version": 3
   },
   "file_extension": ".py",
   "mimetype": "text/x-python",
   "name": "python",
   "nbconvert_exporter": "python",
   "pygments_lexer": "ipython3",
   "version": "3.9.7"
  },
  "toc": {
   "base_numbering": 1,
   "nav_menu": {},
   "number_sections": true,
   "sideBar": true,
   "skip_h1_title": false,
   "title_cell": "Table of Contents",
   "title_sidebar": "Contents",
   "toc_cell": false,
   "toc_position": {},
   "toc_section_display": true,
   "toc_window_display": true
  }
 },
 "nbformat": 4,
 "nbformat_minor": 5
}
