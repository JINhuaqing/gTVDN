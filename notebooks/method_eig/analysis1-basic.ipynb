{
 "cells": [
  {
   "cell_type": "markdown",
   "id": "2349b081",
   "metadata": {},
   "source": [
    "This file analysis the result from `method_eig`\n",
    "\n",
    "1. select kappa and ranks, some simple plots of them\n",
    "\n",
    "2. Reestimate the singular values for each segment based on the selected kappa\n",
    "\n",
    "**Note that the rank can be changed due to conjugate pair**"
   ]
  },
  {
   "cell_type": "code",
   "execution_count": 1,
   "id": "c844d5d6",
   "metadata": {
    "ExecuteTime": {
     "end_time": "2022-10-23T20:33:58.552784Z",
     "start_time": "2022-10-23T20:33:57.856099Z"
    }
   },
   "outputs": [],
   "source": [
    "import numpy as np\n",
    "import scipy\n",
    "import matplotlib.pyplot as plt\n",
    "import seaborn as sns\n",
    "import pandas as pd\n",
    "import pickle\n",
    "\n",
    "from pathlib import Path\n",
    "from scipy.io import loadmat\n",
    "from pprint import pprint\n",
    "from tqdm import trange, tqdm\n",
    "from scipy.stats import ttest_ind\n",
    "from collections import defaultdict as ddict\n",
    "from easydict import EasyDict as edict\n",
    "\n",
    "%matplotlib inline"
   ]
  },
  {
   "cell_type": "code",
   "execution_count": 2,
   "id": "8858baaa",
   "metadata": {
    "ExecuteTime": {
     "end_time": "2022-10-23T20:34:01.604321Z",
     "start_time": "2022-10-23T20:34:01.575298Z"
    }
   },
   "outputs": [],
   "source": [
    "# import my own functions\n",
    "import sys\n",
    "sys.path.append(\"../../mypkg\")\n",
    "import importlib\n",
    "\n",
    "# paras\n",
    "import paras\n",
    "importlib.reload(paras);\n",
    "from paras import paras\n",
    "\n",
    "# some useful constants\n",
    "import constants\n",
    "importlib.reload(constants)\n",
    "from constants import REGION_NAMES, REGION_NAMES_WLOBE, DATA_ROOT, RES_ROOT, FIG_ROOT"
   ]
  },
  {
   "cell_type": "code",
   "execution_count": 4,
   "id": "69e15f05",
   "metadata": {
    "ExecuteTime": {
     "end_time": "2022-10-23T20:35:08.714167Z",
     "start_time": "2022-10-23T20:35:08.692531Z"
    }
   },
   "outputs": [],
   "source": [
    "# utils\n",
    "import utils.matrix\n",
    "importlib.reload(utils.matrix)\n",
    "from utils.matrix import eig_sorted\n",
    "\n",
    "import utils.misc\n",
    "importlib.reload(utils.misc)\n",
    "from utils.misc import paras2name, cumsum_cutoff, load_pkl_folder2dict, save_pkl_dict2folder\n",
    "\n",
    "import utils.standardize\n",
    "importlib.reload(utils.standardize)\n",
    "from utils.standardize import minmax, minmax_mat, minmax_pn"
   ]
  },
  {
   "cell_type": "code",
   "execution_count": 5,
   "id": "dc7cafed",
   "metadata": {
    "ExecuteTime": {
     "end_time": "2022-10-23T20:35:09.165047Z",
     "start_time": "2022-10-23T20:35:09.156046Z"
    }
   },
   "outputs": [],
   "source": [
    "# gtvdn\n",
    "import gtvdn.gtvdn_post\n",
    "importlib.reload(gtvdn.gtvdn_post)\n",
    "from gtvdn.gtvdn_post import est_eigvals, update_kp"
   ]
  },
  {
   "cell_type": "markdown",
   "id": "29b89652",
   "metadata": {},
   "source": [
    "## Parameters"
   ]
  },
  {
   "cell_type": "code",
   "execution_count": 6,
   "id": "463178bf",
   "metadata": {
    "ExecuteTime": {
     "end_time": "2022-10-23T20:35:12.381122Z",
     "start_time": "2022-10-23T20:35:12.336145Z"
    }
   },
   "outputs": [
    {
     "name": "stdout",
     "output_type": "stream",
     "text": [
      "{'Cs': array([1.0e+02, 2.5e+01, 1.0e+01, 5.0e+00, 2.0e+00, 1.0e+00, 5.0e-01,\n",
      "       2.0e-01, 1.0e-01, 5.0e-02, 1.0e-02]),\n",
      " 'L': 100.0,\n",
      " 'Lmin': 200,\n",
      " 'T': 2,\n",
      " 'cur_dir': PosixPath('/data/rajlab1/user_data/jin/MyResearch/gTVDN/notebooks/method_eig/../../mypkg'),\n",
      " 'cutoff': 0.6,\n",
      " 'data_dir': PosixPath('../data'),\n",
      " 'decimate_rate': 5,\n",
      " 'downsample_rate': 20,\n",
      " 'fct': 0.5,\n",
      " 'fig_dir': PosixPath('../figs'),\n",
      " 'is_detrend': True,\n",
      " 'kappa': 3.21,\n",
      " 'kps': array([1.        , 1.003003  , 1.00600601, 1.00900901, 1.01201201,\n",
      "       1.01501502, 1.01801802, 1.02102102, 1.02402402, 1.02702703,\n",
      "       1.03003003, 1.03303303, 1.03603604, 1.03903904, 1.04204204,\n",
      "       1.04504505, 1.04804805, 1.05105105, 1.05405405, 1.05705706,\n",
      "       1.06006006, 1.06306306, 1.06606607, 1.06906907, 1.07207207,\n",
      "       1.07507508, 1.07807808, 1.08108108, 1.08408408, 1.08708709,\n",
      "       1.09009009, 1.09309309, 1.0960961 , 1.0990991 , 1.1021021 ,\n",
      "       1.10510511, 1.10810811, 1.11111111, 1.11411411, 1.11711712,\n",
      "       1.12012012, 1.12312312, 1.12612613, 1.12912913, 1.13213213,\n",
      "       1.13513514, 1.13813814, 1.14114114, 1.14414414, 1.14714715,\n",
      "       1.15015015, 1.15315315, 1.15615616, 1.15915916, 1.16216216,\n",
      "       1.16516517, 1.16816817, 1.17117117, 1.17417417, 1.17717718,\n",
      "       1.18018018, 1.18318318, 1.18618619, 1.18918919, 1.19219219,\n",
      "       1.1951952 , 1.1981982 , 1.2012012 , 1.2042042 , 1.20720721,\n",
      "       1.21021021, 1.21321321, 1.21621622, 1.21921922, 1.22222222,\n",
      "       1.22522523, 1.22822823, 1.23123123, 1.23423423, 1.23723724,\n",
      "       1.24024024, 1.24324324, 1.24624625, 1.24924925, 1.25225225,\n",
      "       1.25525526, 1.25825826, 1.26126126, 1.26426426, 1.26726727,\n",
      "       1.27027027, 1.27327327, 1.27627628, 1.27927928, 1.28228228,\n",
      "       1.28528529, 1.28828829, 1.29129129, 1.29429429, 1.2972973 ,\n",
      "       1.3003003 , 1.3033033 , 1.30630631, 1.30930931, 1.31231231,\n",
      "       1.31531532, 1.31831832, 1.32132132, 1.32432432, 1.32732733,\n",
      "       1.33033033, 1.33333333, 1.33633634, 1.33933934, 1.34234234,\n",
      "       1.34534535, 1.34834835, 1.35135135, 1.35435435, 1.35735736,\n",
      "       1.36036036, 1.36336336, 1.36636637, 1.36936937, 1.37237237,\n",
      "       1.37537538, 1.37837838, 1.38138138, 1.38438438, 1.38738739,\n",
      "       1.39039039, 1.39339339, 1.3963964 , 1.3993994 , 1.4024024 ,\n",
      "       1.40540541, 1.40840841, 1.41141141, 1.41441441, 1.41741742,\n",
      "       1.42042042, 1.42342342, 1.42642643, 1.42942943, 1.43243243,\n",
      "       1.43543544, 1.43843844, 1.44144144, 1.44444444, 1.44744745,\n",
      "       1.45045045, 1.45345345, 1.45645646, 1.45945946, 1.46246246,\n",
      "       1.46546547, 1.46846847, 1.47147147, 1.47447447, 1.47747748,\n",
      "       1.48048048, 1.48348348, 1.48648649, 1.48948949, 1.49249249,\n",
      "       1.4954955 , 1.4984985 , 1.5015015 , 1.5045045 , 1.50750751,\n",
      "       1.51051051, 1.51351351, 1.51651652, 1.51951952, 1.52252252,\n",
      "       1.52552553, 1.52852853, 1.53153153, 1.53453453, 1.53753754,\n",
      "       1.54054054, 1.54354354, 1.54654655, 1.54954955, 1.55255255,\n",
      "       1.55555556, 1.55855856, 1.56156156, 1.56456456, 1.56756757,\n",
      "       1.57057057, 1.57357357, 1.57657658, 1.57957958, 1.58258258,\n",
      "       1.58558559, 1.58858859, 1.59159159, 1.59459459, 1.5975976 ,\n",
      "       1.6006006 , 1.6036036 , 1.60660661, 1.60960961, 1.61261261,\n",
      "       1.61561562, 1.61861862, 1.62162162, 1.62462462, 1.62762763,\n",
      "       1.63063063, 1.63363363, 1.63663664, 1.63963964, 1.64264264,\n",
      "       1.64564565, 1.64864865, 1.65165165, 1.65465465, 1.65765766,\n",
      "       1.66066066, 1.66366366, 1.66666667, 1.66966967, 1.67267267,\n",
      "       1.67567568, 1.67867868, 1.68168168, 1.68468468, 1.68768769,\n",
      "       1.69069069, 1.69369369, 1.6966967 , 1.6996997 , 1.7027027 ,\n",
      "       1.70570571, 1.70870871, 1.71171171, 1.71471471, 1.71771772,\n",
      "       1.72072072, 1.72372372, 1.72672673, 1.72972973, 1.73273273,\n",
      "       1.73573574, 1.73873874, 1.74174174, 1.74474474, 1.74774775,\n",
      "       1.75075075, 1.75375375, 1.75675676, 1.75975976, 1.76276276,\n",
      "       1.76576577, 1.76876877, 1.77177177, 1.77477477, 1.77777778,\n",
      "       1.78078078, 1.78378378, 1.78678679, 1.78978979, 1.79279279,\n",
      "       1.7957958 , 1.7987988 , 1.8018018 , 1.8048048 , 1.80780781,\n",
      "       1.81081081, 1.81381381, 1.81681682, 1.81981982, 1.82282282,\n",
      "       1.82582583, 1.82882883, 1.83183183, 1.83483483, 1.83783784,\n",
      "       1.84084084, 1.84384384, 1.84684685, 1.84984985, 1.85285285,\n",
      "       1.85585586, 1.85885886, 1.86186186, 1.86486486, 1.86786787,\n",
      "       1.87087087, 1.87387387, 1.87687688, 1.87987988, 1.88288288,\n",
      "       1.88588589, 1.88888889, 1.89189189, 1.89489489, 1.8978979 ,\n",
      "       1.9009009 , 1.9039039 , 1.90690691, 1.90990991, 1.91291291,\n",
      "       1.91591592, 1.91891892, 1.92192192, 1.92492492, 1.92792793,\n",
      "       1.93093093, 1.93393393, 1.93693694, 1.93993994, 1.94294294,\n",
      "       1.94594595, 1.94894895, 1.95195195, 1.95495495, 1.95795796,\n",
      "       1.96096096, 1.96396396, 1.96696697, 1.96996997, 1.97297297,\n",
      "       1.97597598, 1.97897898, 1.98198198, 1.98498498, 1.98798799,\n",
      "       1.99099099, 1.99399399, 1.996997  , 2.        , 2.003003  ,\n",
      "       2.00600601, 2.00900901, 2.01201201, 2.01501502, 2.01801802,\n",
      "       2.02102102, 2.02402402, 2.02702703, 2.03003003, 2.03303303,\n",
      "       2.03603604, 2.03903904, 2.04204204, 2.04504505, 2.04804805,\n",
      "       2.05105105, 2.05405405, 2.05705706, 2.06006006, 2.06306306,\n",
      "       2.06606607, 2.06906907, 2.07207207, 2.07507508, 2.07807808,\n",
      "       2.08108108, 2.08408408, 2.08708709, 2.09009009, 2.09309309,\n",
      "       2.0960961 , 2.0990991 , 2.1021021 , 2.10510511, 2.10810811,\n",
      "       2.11111111, 2.11411411, 2.11711712, 2.12012012, 2.12312312,\n",
      "       2.12612613, 2.12912913, 2.13213213, 2.13513514, 2.13813814,\n",
      "       2.14114114, 2.14414414, 2.14714715, 2.15015015, 2.15315315,\n",
      "       2.15615616, 2.15915916, 2.16216216, 2.16516517, 2.16816817,\n",
      "       2.17117117, 2.17417417, 2.17717718, 2.18018018, 2.18318318,\n",
      "       2.18618619, 2.18918919, 2.19219219, 2.1951952 , 2.1981982 ,\n",
      "       2.2012012 , 2.2042042 , 2.20720721, 2.21021021, 2.21321321,\n",
      "       2.21621622, 2.21921922, 2.22222222, 2.22522523, 2.22822823,\n",
      "       2.23123123, 2.23423423, 2.23723724, 2.24024024, 2.24324324,\n",
      "       2.24624625, 2.24924925, 2.25225225, 2.25525526, 2.25825826,\n",
      "       2.26126126, 2.26426426, 2.26726727, 2.27027027, 2.27327327,\n",
      "       2.27627628, 2.27927928, 2.28228228, 2.28528529, 2.28828829,\n",
      "       2.29129129, 2.29429429, 2.2972973 , 2.3003003 , 2.3033033 ,\n",
      "       2.30630631, 2.30930931, 2.31231231, 2.31531532, 2.31831832,\n",
      "       2.32132132, 2.32432432, 2.32732733, 2.33033033, 2.33333333,\n",
      "       2.33633634, 2.33933934, 2.34234234, 2.34534535, 2.34834835,\n",
      "       2.35135135, 2.35435435, 2.35735736, 2.36036036, 2.36336336,\n",
      "       2.36636637, 2.36936937, 2.37237237, 2.37537538, 2.37837838,\n",
      "       2.38138138, 2.38438438, 2.38738739, 2.39039039, 2.39339339,\n",
      "       2.3963964 , 2.3993994 , 2.4024024 , 2.40540541, 2.40840841,\n",
      "       2.41141141, 2.41441441, 2.41741742, 2.42042042, 2.42342342,\n",
      "       2.42642643, 2.42942943, 2.43243243, 2.43543544, 2.43843844,\n",
      "       2.44144144, 2.44444444, 2.44744745, 2.45045045, 2.45345345,\n",
      "       2.45645646, 2.45945946, 2.46246246, 2.46546547, 2.46846847,\n",
      "       2.47147147, 2.47447447, 2.47747748, 2.48048048, 2.48348348,\n",
      "       2.48648649, 2.48948949, 2.49249249, 2.4954955 , 2.4984985 ,\n",
      "       2.5015015 , 2.5045045 , 2.50750751, 2.51051051, 2.51351351,\n",
      "       2.51651652, 2.51951952, 2.52252252, 2.52552553, 2.52852853,\n",
      "       2.53153153, 2.53453453, 2.53753754, 2.54054054, 2.54354354,\n",
      "       2.54654655, 2.54954955, 2.55255255, 2.55555556, 2.55855856,\n",
      "       2.56156156, 2.56456456, 2.56756757, 2.57057057, 2.57357357,\n",
      "       2.57657658, 2.57957958, 2.58258258, 2.58558559, 2.58858859,\n",
      "       2.59159159, 2.59459459, 2.5975976 , 2.6006006 , 2.6036036 ,\n",
      "       2.60660661, 2.60960961, 2.61261261, 2.61561562, 2.61861862,\n",
      "       2.62162162, 2.62462462, 2.62762763, 2.63063063, 2.63363363,\n",
      "       2.63663664, 2.63963964, 2.64264264, 2.64564565, 2.64864865,\n",
      "       2.65165165, 2.65465465, 2.65765766, 2.66066066, 2.66366366,\n",
      "       2.66666667, 2.66966967, 2.67267267, 2.67567568, 2.67867868,\n",
      "       2.68168168, 2.68468468, 2.68768769, 2.69069069, 2.69369369,\n",
      "       2.6966967 , 2.6996997 , 2.7027027 , 2.70570571, 2.70870871,\n",
      "       2.71171171, 2.71471471, 2.71771772, 2.72072072, 2.72372372,\n",
      "       2.72672673, 2.72972973, 2.73273273, 2.73573574, 2.73873874,\n",
      "       2.74174174, 2.74474474, 2.74774775, 2.75075075, 2.75375375,\n",
      "       2.75675676, 2.75975976, 2.76276276, 2.76576577, 2.76876877,\n",
      "       2.77177177, 2.77477477, 2.77777778, 2.78078078, 2.78378378,\n",
      "       2.78678679, 2.78978979, 2.79279279, 2.7957958 , 2.7987988 ,\n",
      "       2.8018018 , 2.8048048 , 2.80780781, 2.81081081, 2.81381381,\n",
      "       2.81681682, 2.81981982, 2.82282282, 2.82582583, 2.82882883,\n",
      "       2.83183183, 2.83483483, 2.83783784, 2.84084084, 2.84384384,\n",
      "       2.84684685, 2.84984985, 2.85285285, 2.85585586, 2.85885886,\n",
      "       2.86186186, 2.86486486, 2.86786787, 2.87087087, 2.87387387,\n",
      "       2.87687688, 2.87987988, 2.88288288, 2.88588589, 2.88888889,\n",
      "       2.89189189, 2.89489489, 2.8978979 , 2.9009009 , 2.9039039 ,\n",
      "       2.90690691, 2.90990991, 2.91291291, 2.91591592, 2.91891892,\n",
      "       2.92192192, 2.92492492, 2.92792793, 2.93093093, 2.93393393,\n",
      "       2.93693694, 2.93993994, 2.94294294, 2.94594595, 2.94894895,\n",
      "       2.95195195, 2.95495495, 2.95795796, 2.96096096, 2.96396396,\n",
      "       2.96696697, 2.96996997, 2.97297297, 2.97597598, 2.97897898,\n",
      "       2.98198198, 2.98498498, 2.98798799, 2.99099099, 2.99399399,\n",
      "       2.996997  , 3.        , 3.003003  , 3.00600601, 3.00900901,\n",
      "       3.01201201, 3.01501502, 3.01801802, 3.02102102, 3.02402402,\n",
      "       3.02702703, 3.03003003, 3.03303303, 3.03603604, 3.03903904,\n",
      "       3.04204204, 3.04504505, 3.04804805, 3.05105105, 3.05405405,\n",
      "       3.05705706, 3.06006006, 3.06306306, 3.06606607, 3.06906907,\n",
      "       3.07207207, 3.07507508, 3.07807808, 3.08108108, 3.08408408,\n",
      "       3.08708709, 3.09009009, 3.09309309, 3.0960961 , 3.0990991 ,\n",
      "       3.1021021 , 3.10510511, 3.10810811, 3.11111111, 3.11411411,\n",
      "       3.11711712, 3.12012012, 3.12312312, 3.12612613, 3.12912913,\n",
      "       3.13213213, 3.13513514, 3.13813814, 3.14114114, 3.14414414,\n",
      "       3.14714715, 3.15015015, 3.15315315, 3.15615616, 3.15915916,\n",
      "       3.16216216, 3.16516517, 3.16816817, 3.17117117, 3.17417417,\n",
      "       3.17717718, 3.18018018, 3.18318318, 3.18618619, 3.18918919,\n",
      "       3.19219219, 3.1951952 , 3.1981982 , 3.2012012 , 3.2042042 ,\n",
      "       3.20720721, 3.21021021, 3.21321321, 3.21621622, 3.21921922,\n",
      "       3.22222222, 3.22522523, 3.22822823, 3.23123123, 3.23423423,\n",
      "       3.23723724, 3.24024024, 3.24324324, 3.24624625, 3.24924925,\n",
      "       3.25225225, 3.25525526, 3.25825826, 3.26126126, 3.26426426,\n",
      "       3.26726727, 3.27027027, 3.27327327, 3.27627628, 3.27927928,\n",
      "       3.28228228, 3.28528529, 3.28828829, 3.29129129, 3.29429429,\n",
      "       3.2972973 , 3.3003003 , 3.3033033 , 3.30630631, 3.30930931,\n",
      "       3.31231231, 3.31531532, 3.31831832, 3.32132132, 3.32432432,\n",
      "       3.32732733, 3.33033033, 3.33333333, 3.33633634, 3.33933934,\n",
      "       3.34234234, 3.34534535, 3.34834835, 3.35135135, 3.35435435,\n",
      "       3.35735736, 3.36036036, 3.36336336, 3.36636637, 3.36936937,\n",
      "       3.37237237, 3.37537538, 3.37837838, 3.38138138, 3.38438438,\n",
      "       3.38738739, 3.39039039, 3.39339339, 3.3963964 , 3.3993994 ,\n",
      "       3.4024024 , 3.40540541, 3.40840841, 3.41141141, 3.41441441,\n",
      "       3.41741742, 3.42042042, 3.42342342, 3.42642643, 3.42942943,\n",
      "       3.43243243, 3.43543544, 3.43843844, 3.44144144, 3.44444444,\n",
      "       3.44744745, 3.45045045, 3.45345345, 3.45645646, 3.45945946,\n",
      "       3.46246246, 3.46546547, 3.46846847, 3.47147147, 3.47447447,\n",
      "       3.47747748, 3.48048048, 3.48348348, 3.48648649, 3.48948949,\n",
      "       3.49249249, 3.4954955 , 3.4984985 , 3.5015015 , 3.5045045 ,\n",
      "       3.50750751, 3.51051051, 3.51351351, 3.51651652, 3.51951952,\n",
      "       3.52252252, 3.52552553, 3.52852853, 3.53153153, 3.53453453,\n",
      "       3.53753754, 3.54054054, 3.54354354, 3.54654655, 3.54954955,\n",
      "       3.55255255, 3.55555556, 3.55855856, 3.56156156, 3.56456456,\n",
      "       3.56756757, 3.57057057, 3.57357357, 3.57657658, 3.57957958,\n",
      "       3.58258258, 3.58558559, 3.58858859, 3.59159159, 3.59459459,\n",
      "       3.5975976 , 3.6006006 , 3.6036036 , 3.60660661, 3.60960961,\n",
      "       3.61261261, 3.61561562, 3.61861862, 3.62162162, 3.62462462,\n",
      "       3.62762763, 3.63063063, 3.63363363, 3.63663664, 3.63963964,\n",
      "       3.64264264, 3.64564565, 3.64864865, 3.65165165, 3.65465465,\n",
      "       3.65765766, 3.66066066, 3.66366366, 3.66666667, 3.66966967,\n",
      "       3.67267267, 3.67567568, 3.67867868, 3.68168168, 3.68468468,\n",
      "       3.68768769, 3.69069069, 3.69369369, 3.6966967 , 3.6996997 ,\n",
      "       3.7027027 , 3.70570571, 3.70870871, 3.71171171, 3.71471471,\n",
      "       3.71771772, 3.72072072, 3.72372372, 3.72672673, 3.72972973,\n",
      "       3.73273273, 3.73573574, 3.73873874, 3.74174174, 3.74474474,\n",
      "       3.74774775, 3.75075075, 3.75375375, 3.75675676, 3.75975976,\n",
      "       3.76276276, 3.76576577, 3.76876877, 3.77177177, 3.77477477,\n",
      "       3.77777778, 3.78078078, 3.78378378, 3.78678679, 3.78978979,\n",
      "       3.79279279, 3.7957958 , 3.7987988 , 3.8018018 , 3.8048048 ,\n",
      "       3.80780781, 3.81081081, 3.81381381, 3.81681682, 3.81981982,\n",
      "       3.82282282, 3.82582583, 3.82882883, 3.83183183, 3.83483483,\n",
      "       3.83783784, 3.84084084, 3.84384384, 3.84684685, 3.84984985,\n",
      "       3.85285285, 3.85585586, 3.85885886, 3.86186186, 3.86486486,\n",
      "       3.86786787, 3.87087087, 3.87387387, 3.87687688, 3.87987988,\n",
      "       3.88288288, 3.88588589, 3.88888889, 3.89189189, 3.89489489,\n",
      "       3.8978979 , 3.9009009 , 3.9039039 , 3.90690691, 3.90990991,\n",
      "       3.91291291, 3.91591592, 3.91891892, 3.92192192, 3.92492492,\n",
      "       3.92792793, 3.93093093, 3.93393393, 3.93693694, 3.93993994,\n",
      "       3.94294294, 3.94594595, 3.94894895, 3.95195195, 3.95495495,\n",
      "       3.95795796, 3.96096096, 3.96396396, 3.96696697, 3.96996997,\n",
      "       3.97297297, 3.97597598, 3.97897898, 3.98198198, 3.98498498,\n",
      "       3.98798799, 3.99099099, 3.99399399, 3.996997  , 4.        ]),\n",
      " 'lamb': 0.0001,\n",
      " 'maxM': 20,\n",
      " 'num_ranks': 10,\n",
      " 'penalty': 'l2',\n",
      " 'r': 20,\n",
      " 'res_dir': PosixPath('../results'),\n",
      " 'wh': 20}\n"
     ]
    }
   ],
   "source": [
    "pprint(paras)"
   ]
  },
  {
   "cell_type": "code",
   "execution_count": 7,
   "id": "754520fc",
   "metadata": {
    "ExecuteTime": {
     "end_time": "2022-10-23T20:35:56.952406Z",
     "start_time": "2022-10-23T20:35:56.945968Z"
    }
   },
   "outputs": [
    {
     "name": "stdout",
     "output_type": "stream",
     "text": [
      "Load results to /data/rajlab1/user_data/jin/MyResearch/gTVDN/notebooks/method_eig/../../mypkg/../results/method_eig\n"
     ]
    }
   ],
   "source": [
    "# this parameters only for this file\n",
    "_paras = edict()\n",
    "_paras.folder_name = \"method_eig\"\n",
    "_paras.save_dir = RES_ROOT/_paras.folder_name\n",
    "print(f\"Load results to {_paras.save_dir}\")"
   ]
  },
  {
   "cell_type": "code",
   "execution_count": 8,
   "id": "aad218c0",
   "metadata": {
    "ExecuteTime": {
     "end_time": "2022-10-23T20:35:59.491578Z",
     "start_time": "2022-10-23T20:35:59.487231Z"
    }
   },
   "outputs": [],
   "source": [
    "# Lets save some results\n",
    "post_paras = edict()"
   ]
  },
  {
   "cell_type": "code",
   "execution_count": null,
   "id": "a92433be",
   "metadata": {},
   "outputs": [],
   "source": []
  },
  {
   "cell_type": "markdown",
   "id": "571ed83c",
   "metadata": {},
   "source": [
    "## Load results"
   ]
  },
  {
   "cell_type": "code",
   "execution_count": 9,
   "id": "490037fc",
   "metadata": {
    "ExecuteTime": {
     "end_time": "2022-10-23T20:36:03.472511Z",
     "start_time": "2022-10-23T20:36:02.631827Z"
    }
   },
   "outputs": [
    {
     "name": "stdout",
     "output_type": "stream",
     "text": [
      "Load file /data/rajlab1/user_data/jin/MyResearch/gTVDN/notebooks/method_eig/../../mypkg/../results/method_eig/dXXmats_AD.pkl\n",
      "Load file /data/rajlab1/user_data/jin/MyResearch/gTVDN/notebooks/method_eig/../../mypkg/../results/method_eig/dXXmats_ctrl.pkl\n",
      "Load file /data/rajlab1/user_data/jin/MyResearch/gTVDN/notebooks/method_eig/../../mypkg/../results/method_eig/Amat_AD.pkl\n",
      "Load file /data/rajlab1/user_data/jin/MyResearch/gTVDN/notebooks/method_eig/../../mypkg/../results/method_eig/Amat_ctrl.pkl\n",
      "Load file /data/rajlab1/user_data/jin/MyResearch/gTVDN/notebooks/method_eig/../../mypkg/../results/method_eig/dim_redu_ctrl.pkl\n",
      "Load file /data/rajlab1/user_data/jin/MyResearch/gTVDN/notebooks/method_eig/../../mypkg/../results/method_eig/dim_redu_AD.pkl\n",
      "Load file /data/rajlab1/user_data/jin/MyResearch/gTVDN/notebooks/method_eig/../../mypkg/../results/method_eig/can_pts_ctrls.pkl\n",
      "Load file /data/rajlab1/user_data/jin/MyResearch/gTVDN/notebooks/method_eig/../../mypkg/../results/method_eig/can_pts_ADs.pkl\n",
      "Load file /data/rajlab1/user_data/jin/MyResearch/gTVDN/notebooks/method_eig/../../mypkg/../results/method_eig/cpts_ctrls.pkl\n",
      "Load file /data/rajlab1/user_data/jin/MyResearch/gTVDN/notebooks/method_eig/../../mypkg/../results/method_eig/cpts_ADs.pkl\n"
     ]
    }
   ],
   "source": [
    "# load results\n",
    "cur_res = load_pkl_folder2dict(RES_ROOT/_paras.folder_name)"
   ]
  },
  {
   "cell_type": "code",
   "execution_count": 51,
   "id": "fef570bc",
   "metadata": {
    "ExecuteTime": {
     "end_time": "2022-10-23T21:04:17.468341Z",
     "start_time": "2022-10-23T21:04:17.463259Z"
    }
   },
   "outputs": [],
   "source": [
    "# in our case, ranks of two grps should be the same\n",
    "post_paras.AD_r = cur_res.dim_redu_AD.r\n",
    "post_paras.ctrl_r = cur_res.dim_redu_ctrl.r"
   ]
  },
  {
   "cell_type": "code",
   "execution_count": null,
   "id": "1c952f34",
   "metadata": {},
   "outputs": [],
   "source": []
  },
  {
   "cell_type": "markdown",
   "id": "a3682377",
   "metadata": {},
   "source": [
    "## Select kappa"
   ]
  },
  {
   "cell_type": "code",
   "execution_count": 14,
   "id": "8f773d61",
   "metadata": {
    "ExecuteTime": {
     "end_time": "2022-10-23T20:38:54.395301Z",
     "start_time": "2022-10-23T20:38:53.541325Z"
    }
   },
   "outputs": [],
   "source": [
    "# sel kappa\n",
    "_, _, n = cur_res.dim_redu_AD.ndXmats.shape\n",
    "post_paras.n = n # the length of data\n",
    "\n",
    "cpts_ctrls_allkp = []\n",
    "for kp in paras.kps:\n",
    "    cpts_ctrl_allkp = np.array([update_kp(kp, ix.U0, n, post_paras.ctrl_r, paras) for ix in cur_res.cpts_ctrls])\n",
    "    cpts_ctrls_allkp.append(cpts_ctrl_allkp)\n",
    "    \n",
    "\n",
    "cpts_ADs_allkp = []\n",
    "for kp in paras.kps:\n",
    "    cpts_AD_allkp = np.array([update_kp(kp, ix.U0, n, post_paras.AD_r, paras) for ix in cur_res.cpts_ADs])\n",
    "    cpts_ADs_allkp.append(cpts_AD_allkp)"
   ]
  },
  {
   "cell_type": "code",
   "execution_count": 37,
   "id": "84cd2d9e",
   "metadata": {
    "ExecuteTime": {
     "end_time": "2022-10-23T20:44:46.499320Z",
     "start_time": "2022-10-23T20:44:46.399317Z"
    }
   },
   "outputs": [
    {
     "data": {
      "text/plain": [
       "3.24024024024024"
      ]
     },
     "execution_count": 37,
     "metadata": {},
     "output_type": "execute_result"
    },
    {
     "data": {
      "image/png": "[encoded data removed]",
      "text/plain": [
       "<Figure size 432x288 with 1 Axes>"
      ]
     },
     "metadata": {
      "needs_background": "light"
     },
     "output_type": "display_data"
    }
   ],
   "source": [
    "cpts_ctrls_allkp = np.array(cpts_ctrls_allkp)\n",
    "cpts_ADs_allkp = np.array(cpts_ADs_allkp)\n",
    "cpts_ctrl_std = cpts_ctrls_allkp.std(axis=1)\n",
    "cpts_ctrl_mean = cpts_ctrls_allkp.mean(axis=1)\n",
    "\n",
    "kps_keepidx_ctrl = np.bitwise_and(cpts_ctrls_allkp.mean(axis=1)>=5, cpts_ctrls_allkp.mean(axis=1)<=18)\n",
    "#kps_keepidx_AD = np.bitwise_and(cpts_ADs_allkp.mean(axis=1)>=2, cpts_ADs_allkp.mean(axis=1)<=18)\n",
    "#kps_keepidx_2grp = np.bitwise_and(kps_keepidx_AD, kps_keepidx_ctrl)\n",
    "\n",
    "\n",
    "plt.plot(paras.kps[kps_keepidx_ctrl], cpts_ctrl_std[kps_keepidx_ctrl])\n",
    "plt.xlabel(\"Kappa\")\n",
    "plt.ylabel(\"Std\")\n",
    "\n",
    "\n",
    "sel_kp = paras.kps[kps_keepidx_ctrl][np.argmin(cpts_ctrl_std[kps_keepidx_ctrl])]\n",
    "post_paras.sel_kp = sel_kp\n",
    "sel_kp"
   ]
  },
  {
   "cell_type": "markdown",
   "id": "82531ebb",
   "metadata": {},
   "source": [
    "### change pts under selected kappa"
   ]
  },
  {
   "cell_type": "code",
   "execution_count": 38,
   "id": "299bd1c4",
   "metadata": {
    "ExecuteTime": {
     "end_time": "2022-10-23T20:44:47.653883Z",
     "start_time": "2022-10-23T20:44:47.640804Z"
    }
   },
   "outputs": [],
   "source": [
    "cur_kp = post_paras.sel_kp\n",
    "ncpts_ctrls_selected = np.array([update_kp(cur_kp, ix.U0, post_paras.n, post_paras.ctrl_r, paras) \n",
    "                                 for ix in cur_res.cpts_ctrls])\n",
    "cpts_ctrls_selected = [cur_cpts.chgMat[cur_ncpt-1, :cur_ncpt] \n",
    "                       for cur_ncpt, cur_cpts \n",
    "                       in zip(ncpts_ctrls_selected, cur_res.cpts_ctrls)]\n",
    "\n",
    "\n",
    "ncpts_ADs_selected = np.array([update_kp(cur_kp, ix.U0, post_paras.n, post_paras.AD_r, paras) \n",
    "                               for ix  in cur_res.cpts_ADs])\n",
    "cpts_ADs_selected = [cur_cpts.chgMat[cur_ncpt-1, :cur_ncpt] \n",
    "                     for cur_ncpt, cur_cpts \n",
    "                     in zip(ncpts_ADs_selected, cur_res.cpts_ADs)]"
   ]
  },
  {
   "cell_type": "code",
   "execution_count": 39,
   "id": "4d51e9d2",
   "metadata": {
    "ExecuteTime": {
     "end_time": "2022-10-23T20:44:48.110866Z",
     "start_time": "2022-10-23T20:44:48.100143Z"
    }
   },
   "outputs": [],
   "source": [
    "dwells_ADs_selected = [np.diff(np.concatenate([[1], cpts_selected, [7200]]))/120\n",
    "                       for cpts_selected \n",
    "                       in cpts_ADs_selected]\n",
    "dwells_ctrls_selected = [np.diff(np.concatenate([[1], cpts_selected, [7200]]))/120\n",
    "                         for cpts_selected \n",
    "                         in cpts_ctrls_selected]"
   ]
  },
  {
   "cell_type": "code",
   "execution_count": 40,
   "id": "c774f0c7",
   "metadata": {
    "ExecuteTime": {
     "end_time": "2022-10-23T20:44:48.826773Z",
     "start_time": "2022-10-23T20:44:48.640192Z"
    }
   },
   "outputs": [
    {
     "data": {
      "text/plain": [
       "Text(0.5, 1.0, 'AD (4.591) vs Ctrl (7.330)')"
      ]
     },
     "execution_count": 40,
     "metadata": {},
     "output_type": "execute_result"
    },
    {
     "data": {
      "image/png": "[encoded data removed]",
      "text/plain": [
       "<Figure size 720x360 with 2 Axes>"
      ]
     },
     "metadata": {
      "needs_background": "light"
     },
     "output_type": "display_data"
    }
   ],
   "source": [
    "pval = ttest_ind(ncpts_ADs_selected, ncpts_ctrls_selected, equal_var=False).pvalue\n",
    "\n",
    "plt.figure(figsize=[10, 5])\n",
    "plt.subplot(121)\n",
    "plt.hist(ncpts_ADs_selected, alpha=0.5, label=\"AD\")\n",
    "plt.hist(ncpts_ctrls_selected, alpha=0.5, label=\"Ctrl\")\n",
    "plt.title(f\"T-test Pvalue {pval:.3E}\")\n",
    "plt.legend()\n",
    "\n",
    "plt.subplot(122)\n",
    "sns.boxplot(data=[ncpts_ADs_selected, ncpts_ctrls_selected], showfliers=0)\n",
    "plt.xticks([0, 1], [\"AD\", \"Ctrl\"]);\n",
    "plt.title(f\"AD ({ncpts_ADs_selected.mean():.3f}) vs Ctrl ({ncpts_ctrls_selected.mean():.3f})\")"
   ]
  },
  {
   "cell_type": "markdown",
   "id": "5df58587",
   "metadata": {},
   "source": [
    "## Re-estimate the lambdas for each segment"
   ]
  },
  {
   "cell_type": "code",
   "execution_count": 48,
   "id": "b2fbc69b",
   "metadata": {
    "ExecuteTime": {
     "end_time": "2022-10-23T20:50:47.679816Z",
     "start_time": "2022-10-23T20:50:47.387775Z"
    }
   },
   "outputs": [],
   "source": [
    "post_paras.kpidxs = cur_res.dim_redu_AD.kpidxs\n",
    "eig_vals_ADs = []\n",
    "eig_vals_ctrls = []\n",
    "\n",
    "for ix in range(len(cpts_ADs_selected)):\n",
    "    cur_eig_vals = est_eigvals(cpts_ADs_selected[ix], \n",
    "                               cur_res.dim_redu_AD.ndXmats[ix], \n",
    "                               cur_res.dim_redu_AD.nXmats[ix], \n",
    "                               post_paras.kpidxs\n",
    "                               )\n",
    "    eig_vals_ADs.append(cur_eig_vals)\n",
    "    \n",
    "for ix in range(len(cpts_ctrls_selected)):\n",
    "    cur_eig_vals = est_eigvals(cpts_ctrls_selected[ix], \n",
    "                               cur_res.dim_redu_ctrl.ndXmats[ix], \n",
    "                               cur_res.dim_redu_ctrl.nXmats[ix], \n",
    "                               post_paras.kpidxs\n",
    "                               )\n",
    "    eig_vals_ctrls.append(cur_eig_vals)"
   ]
  },
  {
   "cell_type": "markdown",
   "id": "3d6b8bf8",
   "metadata": {},
   "source": [
    "### Select rank"
   ]
  },
  {
   "cell_type": "code",
   "execution_count": 144,
   "id": "de19690c",
   "metadata": {
    "ExecuteTime": {
     "end_time": "2022-10-23T22:35:37.741250Z",
     "start_time": "2022-10-23T22:35:37.727237Z"
    }
   },
   "outputs": [],
   "source": [
    "ranks_idxs_AD_selected = []\n",
    "for ix in range(88):\n",
    "    tmp_mat = minmax_mat(np.abs(cur_res.eig_vals_ADs[ix]), is_row=False)\n",
    "    idxs = np.where(tmp_mat.mean(axis=1)>0.5)[0]\n",
    "    #idxs = cumsum_cutoff(tmp_mat.mean(axis=1), 0.8)\n",
    "    ranks_idxs_AD_selected.append(idxs)"
   ]
  },
  {
   "cell_type": "code",
   "execution_count": 145,
   "id": "99896f0d",
   "metadata": {
    "ExecuteTime": {
     "end_time": "2022-10-23T22:35:38.039720Z",
     "start_time": "2022-10-23T22:35:38.025537Z"
    }
   },
   "outputs": [],
   "source": [
    "ranks_idxs_ctrl_selected = []\n",
    "for ix in range(88):\n",
    "    tmp_mat = minmax_mat(np.abs(cur_res.eig_vals_ctrls[ix]), is_row=False)\n",
    "    idxs = np.where(tmp_mat.mean(axis=1)>0.5)[0]\n",
    "    #idxs = cumsum_cutoff(tmp_mat.mean(axis=1), 0.8)\n",
    "    ranks_idxs_ctrl_selected.append(idxs)"
   ]
  },
  {
   "cell_type": "code",
   "execution_count": 146,
   "id": "eee4eae7",
   "metadata": {
    "ExecuteTime": {
     "end_time": "2022-10-23T22:35:38.352324Z",
     "start_time": "2022-10-23T22:35:38.346797Z"
    }
   },
   "outputs": [],
   "source": [
    "ranks_AD_selected = np.array([len(rks) for rks in ranks_idxs_AD_selected])\n",
    "ranks_ctrl_selected = np.array([len(rks) for rks in ranks_idxs_ctrl_selected])"
   ]
  },
  {
   "cell_type": "code",
   "execution_count": 147,
   "id": "b65b740d",
   "metadata": {
    "ExecuteTime": {
     "end_time": "2022-10-23T22:35:38.869951Z",
     "start_time": "2022-10-23T22:35:38.689952Z"
    }
   },
   "outputs": [
    {
     "data": {
      "text/plain": [
       "Text(0.5, 1.0, 'AD (7.420) vs Ctrl (6.477)')"
      ]
     },
     "execution_count": 147,
     "metadata": {},
     "output_type": "execute_result"
    },
    {
     "data": {
      "image/png": "[encoded data removed]",
      "text/plain": [
       "<Figure size 720x360 with 2 Axes>"
      ]
     },
     "metadata": {
      "needs_background": "light"
     },
     "output_type": "display_data"
    }
   ],
   "source": [
    "pval = ttest_ind(ranks_AD_selected, ranks_ctrl_selected, equal_var=False).pvalue\n",
    "\n",
    "plt.figure(figsize=[10, 5])\n",
    "plt.subplot(121)\n",
    "plt.hist(ranks_AD_selected, alpha=0.5, label=\"AD\")\n",
    "plt.hist(ranks_ctrl_selected, alpha=0.5, label=\"Ctrl\")\n",
    "plt.title(f\"T-test Pvalue {pval:.3f}\")\n",
    "plt.legend()\n",
    "\n",
    "plt.subplot(122)\n",
    "sns.boxplot(data=[ranks_AD_selected, ranks_ctrl_selected], showfliers=0)\n",
    "plt.xticks([0, 1], [\"AD\", \"Ctrl\"]);\n",
    "plt.title(f\"AD ({ranks_AD_selected.mean():.3f}) vs Ctrl ({ranks_ctrl_selected.mean():.3f})\")"
   ]
  },
  {
   "cell_type": "code",
   "execution_count": null,
   "id": "5aa26cea",
   "metadata": {},
   "outputs": [],
   "source": []
  },
  {
   "cell_type": "markdown",
   "id": "323836e0",
   "metadata": {},
   "source": [
    "## Save updated results"
   ]
  },
  {
   "cell_type": "code",
   "execution_count": 53,
   "id": "4a72f6e0",
   "metadata": {
    "ExecuteTime": {
     "end_time": "2022-10-23T21:05:58.235511Z",
     "start_time": "2022-10-23T21:05:58.229169Z"
    }
   },
   "outputs": [],
   "source": [
    "cur_res.post_paras = post_paras\n",
    "\n",
    "cur_res.eig_vals_ADs = eig_vals_ADs\n",
    "cur_res.cpts_ADs_selected = cpts_ADs_selected\n",
    "cur_res.dwells_ADs_selected = dwells_ADs_selected\n",
    "\n",
    "cur_res.eig_vals_ctrls = eig_vals_ctrls\n",
    "cur_res.cpts_ctrls_selected = cpts_ctrls_selected\n",
    "cur_res.dwells_ctrls_selected = dwells_ctrls_selected"
   ]
  },
  {
   "cell_type": "code",
   "execution_count": 54,
   "id": "baa6b2f4",
   "metadata": {
    "ExecuteTime": {
     "end_time": "2022-10-23T21:06:00.205684Z",
     "start_time": "2022-10-23T21:06:00.177262Z"
    }
   },
   "outputs": [
    {
     "name": "stdout",
     "output_type": "stream",
     "text": [
      "/data/rajlab1/user_data/jin/MyResearch/gTVDN/notebooks/method_eig/../../mypkg/../results/method_eig/dXXmats_AD.pkl exists! Use is_force=True to save it anyway\n",
      "/data/rajlab1/user_data/jin/MyResearch/gTVDN/notebooks/method_eig/../../mypkg/../results/method_eig/dXXmats_ctrl.pkl exists! Use is_force=True to save it anyway\n",
      "/data/rajlab1/user_data/jin/MyResearch/gTVDN/notebooks/method_eig/../../mypkg/../results/method_eig/Amat_AD.pkl exists! Use is_force=True to save it anyway\n",
      "/data/rajlab1/user_data/jin/MyResearch/gTVDN/notebooks/method_eig/../../mypkg/../results/method_eig/Amat_ctrl.pkl exists! Use is_force=True to save it anyway\n",
      "/data/rajlab1/user_data/jin/MyResearch/gTVDN/notebooks/method_eig/../../mypkg/../results/method_eig/dim_redu_ctrl.pkl exists! Use is_force=True to save it anyway\n",
      "/data/rajlab1/user_data/jin/MyResearch/gTVDN/notebooks/method_eig/../../mypkg/../results/method_eig/dim_redu_AD.pkl exists! Use is_force=True to save it anyway\n",
      "/data/rajlab1/user_data/jin/MyResearch/gTVDN/notebooks/method_eig/../../mypkg/../results/method_eig/can_pts_ctrls.pkl exists! Use is_force=True to save it anyway\n",
      "/data/rajlab1/user_data/jin/MyResearch/gTVDN/notebooks/method_eig/../../mypkg/../results/method_eig/can_pts_ADs.pkl exists! Use is_force=True to save it anyway\n",
      "/data/rajlab1/user_data/jin/MyResearch/gTVDN/notebooks/method_eig/../../mypkg/../results/method_eig/cpts_ctrls.pkl exists! Use is_force=True to save it anyway\n",
      "/data/rajlab1/user_data/jin/MyResearch/gTVDN/notebooks/method_eig/../../mypkg/../results/method_eig/cpts_ADs.pkl exists! Use is_force=True to save it anyway\n",
      "Save to /data/rajlab1/user_data/jin/MyResearch/gTVDN/notebooks/method_eig/../../mypkg/../results/method_eig/post_paras.pkl\n",
      "/data/rajlab1/user_data/jin/MyResearch/gTVDN/notebooks/method_eig/../../mypkg/../results/method_eig/eig_vals_ADs.pkl exists! Use is_force=True to save it anyway\n",
      "/data/rajlab1/user_data/jin/MyResearch/gTVDN/notebooks/method_eig/../../mypkg/../results/method_eig/cpts_ADs_selected.pkl exists! Use is_force=True to save it anyway\n",
      "/data/rajlab1/user_data/jin/MyResearch/gTVDN/notebooks/method_eig/../../mypkg/../results/method_eig/dwells_ADs_selected.pkl exists! Use is_force=True to save it anyway\n",
      "/data/rajlab1/user_data/jin/MyResearch/gTVDN/notebooks/method_eig/../../mypkg/../results/method_eig/eig_vals_ctrls.pkl exists! Use is_force=True to save it anyway\n",
      "/data/rajlab1/user_data/jin/MyResearch/gTVDN/notebooks/method_eig/../../mypkg/../results/method_eig/cpts_ctrls_selected.pkl exists! Use is_force=True to save it anyway\n",
      "/data/rajlab1/user_data/jin/MyResearch/gTVDN/notebooks/method_eig/../../mypkg/../results/method_eig/dwells_ctrls_selected.pkl exists! Use is_force=True to save it anyway\n"
     ]
    }
   ],
   "source": [
    "save_pkl_dict2folder(_paras.save_dir, cur_res, False)"
   ]
  },
  {
   "cell_type": "code",
   "execution_count": null,
   "id": "123393f0",
   "metadata": {},
   "outputs": [],
   "source": []
  }
 ],
 "metadata": {
  "kernelspec": {
   "display_name": "Python 3 (ipykernel)",
   "language": "python",
   "name": "python3"
  },
  "language_info": {
   "codemirror_mode": {
    "name": "ipython",
    "version": 3
   },
   "file_extension": ".py",
   "mimetype": "text/x-python",
   "name": "python",
   "nbconvert_exporter": "python",
   "pygments_lexer": "ipython3",
   "version": "3.9.7"
  },
  "toc": {
   "base_numbering": 1,
   "nav_menu": {},
   "number_sections": true,
   "sideBar": true,
   "skip_h1_title": false,
   "title_cell": "Table of Contents",
   "title_sidebar": "Contents",
   "toc_cell": false,
   "toc_position": {},
   "toc_section_display": true,
   "toc_window_display": true
  }
 },
 "nbformat": 4,
 "nbformat_minor": 5
}
