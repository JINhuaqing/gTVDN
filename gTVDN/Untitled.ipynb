{
 "cells": [
  {
   "cell_type": "code",
   "execution_count": 105,
   "id": "0de7d129",
   "metadata": {},
   "outputs": [],
   "source": [
    "import numpy as np\n",
    "import tensorly as tl\n",
    "import matplotlib.pyplot as plt\n",
    "import tensortools as tt\n",
    "from tensortools.operations import unfold as tt_unfold, khatri_rao\n",
    "from tensorly.decomposition import parafac"
   ]
  },
  {
   "cell_type": "code",
   "execution_count": 80,
   "id": "31b2668e",
   "metadata": {},
   "outputs": [],
   "source": [
    "def decompose_three_way(tensor, rank, max_iter=501, verbose=False):\n",
    "\n",
    "    # a = np.random.random((rank, tensor.shape[0]))\n",
    "    b = np.random.random((rank, tensor.shape[1]))\n",
    "    c = np.random.random((rank, tensor.shape[2]))\n",
    "\n",
    "    for epoch in range(max_iter):\n",
    "        # optimize a\n",
    "        input_a = khatri_rao([b.T, c.T])\n",
    "        target_a = tl.unfold(tensor, mode=0).T\n",
    "        a = np.linalg.solve(input_a.T.dot(input_a), input_a.T.dot(target_a))\n",
    "\n",
    "        # optimize b\n",
    "        input_b = khatri_rao([a.T, c.T])\n",
    "        target_b = tl.unfold(tensor, mode=1).T\n",
    "        b = np.linalg.solve(input_b.T.dot(input_b), input_b.T.dot(target_b))\n",
    "\n",
    "        # optimize c\n",
    "        input_c = khatri_rao([a.T, b.T])\n",
    "        target_c = tl.unfold(tensor, mode=2).T\n",
    "        c = np.linalg.solve(input_c.T.dot(input_c), input_c.T.dot(target_c))\n",
    "\n",
    "        if verbose and epoch % int(max_iter * .2) == 0:\n",
    "            res_a = np.square(input_a.dot(a) - target_a)\n",
    "            res_b = np.square(input_b.dot(b) - target_b)\n",
    "            res_c = np.square(input_c.dot(c) - target_c)\n",
    "            print(\"Epoch:\", epoch, \"| Loss (C):\", res_a.mean(), \"| Loss (B):\", res_b.mean(), \"| Loss (C):\", res_c.mean())\n",
    "\n",
    "    return a.T, b.T, c.T"
   ]
  },
  {
   "cell_type": "code",
   "execution_count": 155,
   "id": "4756776e",
   "metadata": {},
   "outputs": [],
   "source": [
    "def decompose_three_wayOrth(tensor, rank, max_iter=501, verbose=False):\n",
    "\n",
    "    # a = np.random.random((rank, tensor.shape[0]))\n",
    "    b = orth(np.random.random((rank, tensor.shape[1])).T).T\n",
    "    c = np.random.random((rank, tensor.shape[2]))\n",
    "\n",
    "    for epoch in range(max_iter):\n",
    "        # optimize a\n",
    "        input_a = khatri_rao([b.T, c.T])\n",
    "        target_a = tl.unfold(tensor, mode=0).T\n",
    "        a = np.linalg.solve(input_a.T.dot(input_a), input_a.T.dot(target_a))\n",
    "        aT, _ = np.linalg.qr(a.T)\n",
    "        a = aT.T\n",
    "        #a = orth(a.T).T\n",
    "\n",
    "        # optimize b\n",
    "        input_b = khatri_rao([a.T, c.T])\n",
    "        target_b = tl.unfold(tensor, mode=1).T\n",
    "        b = np.linalg.solve(input_b.T.dot(input_b), input_b.T.dot(target_b))\n",
    "        bT, _ = np.linalg.qr(b.T)\n",
    "        b = bT.T\n",
    "        #b = orth(b.T).T\n",
    "\n",
    "        # optimize c\n",
    "        input_c = khatri_rao([a.T, b.T])\n",
    "        target_c = tl.unfold(tensor, mode=2).T\n",
    "        c = np.linalg.solve(input_c.T.dot(input_c), input_c.T.dot(target_c))\n",
    "        #c = orth(c.T).T\n",
    "\n",
    "        if verbose and epoch % int(max_iter * .05) == 0:\n",
    "            res_a = np.square(input_a.dot(a) - target_a)\n",
    "            res_b = np.square(input_b.dot(b) - target_b)\n",
    "            res_c = np.square(input_c.dot(c) - target_c)\n",
    "            print(\"Epoch:\", epoch, \"| Loss (C):\", res_a.mean(), \"| Loss (B):\", res_b.mean(), \"| Loss (C):\", res_c.mean())\n",
    "\n",
    "    return a.T, b.T, c.T"
   ]
  },
  {
   "cell_type": "code",
   "execution_count": 140,
   "id": "fd226c61",
   "metadata": {},
   "outputs": [],
   "source": [
    "mat1 = np.random.randn(3, 4)\n",
    "mat2 = np.random.randn(3, 4)\n",
    "mat3 = np.random.randn(3, 4)\n",
    "tsor = np.array([mat1, mat2, mat3])"
   ]
  },
  {
   "cell_type": "code",
   "execution_count": 168,
   "id": "3bcb2467",
   "metadata": {},
   "outputs": [
    {
     "name": "stdout",
     "output_type": "stream",
     "text": [
      "Epoch: 0 | Loss (C): 0.8373826341242735 | Loss (B): 0.7952302274921632 | Loss (C): 0.6309718300068216\n",
      "Epoch: 2000 | Loss (C): 0.3370596972073261 | Loss (B): 0.33705969720732615 | Loss (C): 0.33705969720732604\n",
      "Epoch: 4000 | Loss (C): 0.33705969720732604 | Loss (B): 0.33705969720732615 | Loss (C): 0.33705969720732604\n",
      "Epoch: 6000 | Loss (C): 0.3370596972073261 | Loss (B): 0.3370596972073261 | Loss (C): 0.33705969720732604\n",
      "Epoch: 8000 | Loss (C): 0.33705969720732604 | Loss (B): 0.3370596972073261 | Loss (C): 0.33705969720732604\n"
     ]
    }
   ],
   "source": [
    "res = decompose_three_way(tsor, 2, 10000, True)"
   ]
  },
  {
   "cell_type": "code",
   "execution_count": 171,
   "id": "f3723c6c",
   "metadata": {},
   "outputs": [
    {
     "name": "stdout",
     "output_type": "stream",
     "text": [
      "Epoch: 0 | Loss (C): 1.0230546818999706 | Loss (B): 0.8790713188652618 | Loss (C): 0.5410306231533807\n",
      "Epoch: 500 | Loss (C): 0.4223094859626813 | Loss (B): 0.4223094859626813 | Loss (C): 0.4223094859626813\n",
      "Epoch: 1000 | Loss (C): 0.4223094859626813 | Loss (B): 0.4223094859626813 | Loss (C): 0.4223094859626813\n",
      "Epoch: 1500 | Loss (C): 0.42230948596268125 | Loss (B): 0.42230948596268136 | Loss (C): 0.4223094859626813\n",
      "Epoch: 2000 | Loss (C): 0.4223094859626813 | Loss (B): 0.4223094859626813 | Loss (C): 0.4223094859626813\n",
      "Epoch: 2500 | Loss (C): 0.4223094859626813 | Loss (B): 0.4223094859626813 | Loss (C): 0.4223094859626813\n",
      "Epoch: 3000 | Loss (C): 0.42230948596268125 | Loss (B): 0.42230948596268136 | Loss (C): 0.4223094859626813\n",
      "Epoch: 3500 | Loss (C): 0.4223094859626813 | Loss (B): 0.4223094859626813 | Loss (C): 0.4223094859626813\n",
      "Epoch: 4000 | Loss (C): 0.4223094859626813 | Loss (B): 0.4223094859626813 | Loss (C): 0.4223094859626813\n",
      "Epoch: 4500 | Loss (C): 0.42230948596268125 | Loss (B): 0.42230948596268136 | Loss (C): 0.4223094859626813\n",
      "Epoch: 5000 | Loss (C): 0.4223094859626813 | Loss (B): 0.4223094859626813 | Loss (C): 0.4223094859626813\n",
      "Epoch: 5500 | Loss (C): 0.4223094859626813 | Loss (B): 0.4223094859626813 | Loss (C): 0.4223094859626813\n",
      "Epoch: 6000 | Loss (C): 0.42230948596268125 | Loss (B): 0.42230948596268136 | Loss (C): 0.4223094859626813\n",
      "Epoch: 6500 | Loss (C): 0.4223094859626813 | Loss (B): 0.4223094859626813 | Loss (C): 0.4223094859626813\n",
      "Epoch: 7000 | Loss (C): 0.4223094859626813 | Loss (B): 0.4223094859626813 | Loss (C): 0.4223094859626813\n",
      "Epoch: 7500 | Loss (C): 0.42230948596268125 | Loss (B): 0.42230948596268136 | Loss (C): 0.4223094859626813\n",
      "Epoch: 8000 | Loss (C): 0.4223094859626813 | Loss (B): 0.4223094859626813 | Loss (C): 0.4223094859626813\n",
      "Epoch: 8500 | Loss (C): 0.4223094859626813 | Loss (B): 0.4223094859626813 | Loss (C): 0.4223094859626813\n",
      "Epoch: 9000 | Loss (C): 0.42230948596268125 | Loss (B): 0.42230948596268136 | Loss (C): 0.4223094859626813\n",
      "Epoch: 9500 | Loss (C): 0.4223094859626813 | Loss (B): 0.4223094859626813 | Loss (C): 0.4223094859626813\n"
     ]
    }
   ],
   "source": [
    "resOrth1 = decompose_three_wayOrth(tsor, 2, 10000, True)"
   ]
  },
  {
   "cell_type": "code",
   "execution_count": 172,
   "id": "7be931db",
   "metadata": {},
   "outputs": [
    {
     "name": "stdout",
     "output_type": "stream",
     "text": [
      "Epoch: 0 | Loss (C): 0.9686015212828428 | Loss (B): 0.9507544606275133 | Loss (C): 0.61641940204718\n",
      "Epoch: 500 | Loss (C): 0.42230948596268125 | Loss (B): 0.42230948596268136 | Loss (C): 0.4223094859626813\n",
      "Epoch: 1000 | Loss (C): 0.4223094859626813 | Loss (B): 0.4223094859626813 | Loss (C): 0.4223094859626813\n",
      "Epoch: 1500 | Loss (C): 0.4223094859626813 | Loss (B): 0.4223094859626813 | Loss (C): 0.4223094859626813\n",
      "Epoch: 2000 | Loss (C): 0.42230948596268125 | Loss (B): 0.42230948596268136 | Loss (C): 0.4223094859626813\n",
      "Epoch: 2500 | Loss (C): 0.4223094859626813 | Loss (B): 0.4223094859626813 | Loss (C): 0.4223094859626813\n",
      "Epoch: 3000 | Loss (C): 0.4223094859626813 | Loss (B): 0.4223094859626813 | Loss (C): 0.4223094859626813\n",
      "Epoch: 3500 | Loss (C): 0.42230948596268125 | Loss (B): 0.42230948596268136 | Loss (C): 0.4223094859626813\n",
      "Epoch: 4000 | Loss (C): 0.4223094859626813 | Loss (B): 0.4223094859626813 | Loss (C): 0.4223094859626813\n",
      "Epoch: 4500 | Loss (C): 0.4223094859626813 | Loss (B): 0.4223094859626813 | Loss (C): 0.4223094859626813\n",
      "Epoch: 5000 | Loss (C): 0.42230948596268125 | Loss (B): 0.42230948596268136 | Loss (C): 0.4223094859626813\n",
      "Epoch: 5500 | Loss (C): 0.4223094859626813 | Loss (B): 0.4223094859626813 | Loss (C): 0.4223094859626813\n",
      "Epoch: 6000 | Loss (C): 0.4223094859626813 | Loss (B): 0.4223094859626813 | Loss (C): 0.4223094859626813\n",
      "Epoch: 6500 | Loss (C): 0.42230948596268125 | Loss (B): 0.42230948596268136 | Loss (C): 0.4223094859626813\n",
      "Epoch: 7000 | Loss (C): 0.4223094859626813 | Loss (B): 0.4223094859626813 | Loss (C): 0.4223094859626813\n",
      "Epoch: 7500 | Loss (C): 0.4223094859626813 | Loss (B): 0.4223094859626813 | Loss (C): 0.4223094859626813\n",
      "Epoch: 8000 | Loss (C): 0.42230948596268125 | Loss (B): 0.42230948596268136 | Loss (C): 0.4223094859626813\n",
      "Epoch: 8500 | Loss (C): 0.4223094859626813 | Loss (B): 0.4223094859626813 | Loss (C): 0.4223094859626813\n",
      "Epoch: 9000 | Loss (C): 0.4223094859626813 | Loss (B): 0.4223094859626813 | Loss (C): 0.4223094859626813\n",
      "Epoch: 9500 | Loss (C): 0.42230948596268125 | Loss (B): 0.42230948596268136 | Loss (C): 0.4223094859626813\n"
     ]
    }
   ],
   "source": [
    "resOrth2 = decompose_three_wayOrth(tsor, 2, 10000, True)"
   ]
  },
  {
   "cell_type": "code",
   "execution_count": 173,
   "id": "f4752f32",
   "metadata": {},
   "outputs": [
    {
     "data": {
      "text/plain": [
       "array([[ 0.00000000e+00,  5.55111512e-17],\n",
       "       [ 0.00000000e+00,  0.00000000e+00],\n",
       "       [ 0.00000000e+00, -1.11022302e-16]])"
      ]
     },
     "execution_count": 173,
     "metadata": {},
     "output_type": "execute_result"
    }
   ],
   "source": [
    "resOrth1[0] - resOrth2[0]"
   ]
  },
  {
   "cell_type": "code",
   "execution_count": 111,
   "id": "2b02af69",
   "metadata": {},
   "outputs": [
    {
     "name": "stdout",
     "output_type": "stream",
     "text": [
      "Epoch: 0 | Loss (C): 0.9713199811007157 | Loss (B): 0.9187808075956014 | Loss (C): 0.7976875134356612\n",
      "Epoch: 2000 | Loss (C): 0.42404130100886334 | Loss (B): 0.4240413010088633 | Loss (C): 0.4240413010088633\n",
      "Epoch: 4000 | Loss (C): 0.42404130100886334 | Loss (B): 0.4240413010088633 | Loss (C): 0.4240413010088633\n",
      "Epoch: 6000 | Loss (C): 0.42404130100886334 | Loss (B): 0.4240413010088633 | Loss (C): 0.4240413010088633\n",
      "Epoch: 8000 | Loss (C): 0.42404130100886334 | Loss (B): 0.4240413010088633 | Loss (C): 0.4240413010088633\n"
     ]
    }
   ],
   "source": [
    "res = decompose_three_way(tsor, 2, 10000, True)\n",
    "res1 = parafac(tsor, 2)\n",
    "res2 = parafac(tsor, 2)"
   ]
  },
  {
   "cell_type": "code",
   "execution_count": 112,
   "id": "00c95cee",
   "metadata": {},
   "outputs": [],
   "source": [
    "res1.factors = res"
   ]
  },
  {
   "cell_type": "code",
   "execution_count": 123,
   "id": "803bf735",
   "metadata": {},
   "outputs": [
    {
     "data": {
      "text/plain": [
       "4.3368086899420177e-16"
      ]
     },
     "execution_count": 123,
     "metadata": {},
     "output_type": "execute_result"
    }
   ],
   "source": [
    "np.sum(orth(res[0])[:, 0] * orth(res[0])[:, 1])"
   ]
  },
  {
   "cell_type": "code",
   "execution_count": null,
   "id": "a361b40a",
   "metadata": {},
   "outputs": [],
   "source": []
  }
 ],
 "metadata": {
  "kernelspec": {
   "display_name": "Python 3 (ipykernel)",
   "language": "python",
   "name": "python3"
  },
  "language_info": {
   "codemirror_mode": {
    "name": "ipython",
    "version": 3
   },
   "file_extension": ".py",
   "mimetype": "text/x-python",
   "name": "python",
   "nbconvert_exporter": "python",
   "pygments_lexer": "ipython3",
   "version": "3.9.7"
  },
  "toc": {
   "base_numbering": 1,
   "nav_menu": {},
   "number_sections": true,
   "sideBar": true,
   "skip_h1_title": false,
   "title_cell": "Table of Contents",
   "title_sidebar": "Contents",
   "toc_cell": false,
   "toc_position": {},
   "toc_section_display": true,
   "toc_window_display": false
  }
 },
 "nbformat": 4,
 "nbformat_minor": 5
}
